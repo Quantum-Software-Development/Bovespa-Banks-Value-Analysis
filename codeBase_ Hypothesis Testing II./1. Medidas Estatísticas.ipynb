{
 "cells": [
  {
   "cell_type": "code",
   "execution_count": 3,
   "id": "4fcfbd00",
   "metadata": {},
   "outputs": [],
   "source": [
    "# importa biblioteca pandas\n",
    "import pandas as pd\n",
    "\n",
    "# local do arquivo\n",
    "Caminho='/Users/fabicampanari/Desktop/_8-Prova Matematematica/1-statiscalMeasures_ Hypothesis Testing II./1🇧🇷-statiscalMeasures_ Hypothesis Testing II./Dataset/cadastro_funcionarios.xlsx'\n"
   ]
  },
  {
   "cell_type": "code",
   "execution_count": 4,
   "id": "5c08dbd3",
   "metadata": {},
   "outputs": [],
   "source": [
    "df=pd.read_excel(Caminho)\n"
   ]
  },
  {
   "cell_type": "code",
   "execution_count": 5,
   "id": "c78e457f",
   "metadata": {},
   "outputs": [
    {
     "data": {
      "text/html": [
       "<div>\n",
       "<style scoped>\n",
       "    .dataframe tbody tr th:only-of-type {\n",
       "        vertical-align: middle;\n",
       "    }\n",
       "\n",
       "    .dataframe tbody tr th {\n",
       "        vertical-align: top;\n",
       "    }\n",
       "\n",
       "    .dataframe thead th {\n",
       "        text-align: right;\n",
       "    }\n",
       "</style>\n",
       "<table border=\"1\" class=\"dataframe\">\n",
       "  <thead>\n",
       "    <tr style=\"text-align: right;\">\n",
       "      <th></th>\n",
       "      <th>ID</th>\n",
       "      <th>estado_civil</th>\n",
       "      <th>grau_instrucao</th>\n",
       "      <th>n_filhos</th>\n",
       "      <th>salario</th>\n",
       "      <th>idade</th>\n",
       "      <th>reg_proc</th>\n",
       "    </tr>\n",
       "  </thead>\n",
       "  <tbody>\n",
       "    <tr>\n",
       "      <th>0</th>\n",
       "      <td>1</td>\n",
       "      <td>s</td>\n",
       "      <td>f</td>\n",
       "      <td>0</td>\n",
       "      <td>4.00</td>\n",
       "      <td>26</td>\n",
       "      <td>int</td>\n",
       "    </tr>\n",
       "    <tr>\n",
       "      <th>1</th>\n",
       "      <td>2</td>\n",
       "      <td>c</td>\n",
       "      <td>f</td>\n",
       "      <td>1</td>\n",
       "      <td>4.56</td>\n",
       "      <td>32</td>\n",
       "      <td>cap</td>\n",
       "    </tr>\n",
       "    <tr>\n",
       "      <th>2</th>\n",
       "      <td>3</td>\n",
       "      <td>c</td>\n",
       "      <td>f</td>\n",
       "      <td>2</td>\n",
       "      <td>5.25</td>\n",
       "      <td>36</td>\n",
       "      <td>cap</td>\n",
       "    </tr>\n",
       "    <tr>\n",
       "      <th>3</th>\n",
       "      <td>4</td>\n",
       "      <td>s</td>\n",
       "      <td>m</td>\n",
       "      <td>0</td>\n",
       "      <td>5.73</td>\n",
       "      <td>20</td>\n",
       "      <td>out</td>\n",
       "    </tr>\n",
       "    <tr>\n",
       "      <th>4</th>\n",
       "      <td>5</td>\n",
       "      <td>s</td>\n",
       "      <td>f</td>\n",
       "      <td>0</td>\n",
       "      <td>6.26</td>\n",
       "      <td>40</td>\n",
       "      <td>out</td>\n",
       "    </tr>\n",
       "  </tbody>\n",
       "</table>\n",
       "</div>"
      ],
      "text/plain": [
       "   ID estado_civil grau_instrucao  n_filhos  salario  idade reg_proc\n",
       "0   1            s              f         0     4.00     26      int\n",
       "1   2            c              f         1     4.56     32      cap\n",
       "2   3            c              f         2     5.25     36      cap\n",
       "3   4            s              m         0     5.73     20      out\n",
       "4   5            s              f         0     6.26     40      out"
      ]
     },
     "execution_count": 5,
     "metadata": {},
     "output_type": "execute_result"
    }
   ],
   "source": [
    "df.head( ) "
   ]
  },
  {
   "cell_type": "code",
   "execution_count": 6,
   "id": "bc37e5d8",
   "metadata": {},
   "outputs": [
    {
     "data": {
      "text/plain": [
       "count    426.000000\n",
       "mean      34.622066\n",
       "std        6.398190\n",
       "min       20.000000\n",
       "25%       30.000000\n",
       "50%       34.000000\n",
       "75%       40.000000\n",
       "max       49.000000\n",
       "Name: idade, dtype: float64"
      ]
     },
     "execution_count": 6,
     "metadata": {},
     "output_type": "execute_result"
    }
   ],
   "source": [
    "df.idade .describe()"
   ]
  },
  {
   "cell_type": "code",
   "execution_count": 7,
   "id": "9200d071",
   "metadata": {},
   "outputs": [
    {
     "data": {
      "text/plain": [
       "29"
      ]
     },
     "execution_count": 7,
     "metadata": {},
     "output_type": "execute_result"
    }
   ],
   "source": [
    "#calculando amplitude\n",
    "ampl=df.idade.max()-df.idade.min()\n",
    "ampl\n"
   ]
  },
  {
   "cell_type": "code",
   "execution_count": 8,
   "id": "a1e912c2",
   "metadata": {},
   "outputs": [
    {
     "data": {
      "text/plain": [
       "0    35\n",
       "Name: idade, dtype: int64"
      ]
     },
     "execution_count": 8,
     "metadata": {},
     "output_type": "execute_result"
    }
   ],
   "source": [
    "#calculando a moda\n",
    "df.idade.mode()\n"
   ]
  },
  {
   "cell_type": "code",
   "execution_count": 9,
   "id": "ccb658fe",
   "metadata": {},
   "outputs": [
    {
     "data": {
      "text/plain": [
       "40.93682960508146"
      ]
     },
     "execution_count": 9,
     "metadata": {},
     "output_type": "execute_result"
    }
   ],
   "source": [
    "#calculando da variância\n",
    "df.idade.var()\n"
   ]
  },
  {
   "cell_type": "code",
   "execution_count": 10,
   "id": "2b4ca870",
   "metadata": {},
   "outputs": [],
   "source": [
    "Min=df.idade.min()\n",
    "Max=df.idade.max()\n",
    "Media=df.idade.mean()\n",
    "Mediana=df.idade.median()\n",
    "Moda=df.idade.mode()\n",
    "Var=df.idade.var()\n",
    "Desvpad=df.idade.std()\n"
   ]
  },
  {
   "cell_type": "code",
   "execution_count": 11,
   "id": "d5f3a22e",
   "metadata": {},
   "outputs": [],
   "source": [
    "\n",
    "CV=df.idade.std() / df.idade.mean()\n"
   ]
  },
  {
   "cell_type": "code",
   "execution_count": 12,
   "id": "6f708533",
   "metadata": {},
   "outputs": [
    {
     "data": {
      "text/plain": [
       "0.18480091878825788"
      ]
     },
     "execution_count": 12,
     "metadata": {},
     "output_type": "execute_result"
    }
   ],
   "source": [
    "CV"
   ]
  },
  {
   "cell_type": "code",
   "execution_count": 13,
   "id": "6dee1a2e",
   "metadata": {},
   "outputs": [
    {
     "data": {
      "text/html": [
       "<div>\n",
       "<style scoped>\n",
       "    .dataframe tbody tr th:only-of-type {\n",
       "        vertical-align: middle;\n",
       "    }\n",
       "\n",
       "    .dataframe tbody tr th {\n",
       "        vertical-align: top;\n",
       "    }\n",
       "\n",
       "    .dataframe thead th {\n",
       "        text-align: right;\n",
       "    }\n",
       "</style>\n",
       "<table border=\"1\" class=\"dataframe\">\n",
       "  <thead>\n",
       "    <tr style=\"text-align: right;\">\n",
       "      <th></th>\n",
       "      <th>count</th>\n",
       "      <th>mean</th>\n",
       "      <th>std</th>\n",
       "      <th>min</th>\n",
       "      <th>25%</th>\n",
       "      <th>50%</th>\n",
       "      <th>75%</th>\n",
       "      <th>max</th>\n",
       "    </tr>\n",
       "    <tr>\n",
       "      <th>reg_proc</th>\n",
       "      <th></th>\n",
       "      <th></th>\n",
       "      <th></th>\n",
       "      <th></th>\n",
       "      <th></th>\n",
       "      <th></th>\n",
       "      <th></th>\n",
       "      <th></th>\n",
       "    </tr>\n",
       "  </thead>\n",
       "  <tbody>\n",
       "    <tr>\n",
       "      <th>cap</th>\n",
       "      <td>143.0</td>\n",
       "      <td>36.06993</td>\n",
       "      <td>5.550854</td>\n",
       "      <td>22.0</td>\n",
       "      <td>33.0</td>\n",
       "      <td>35.0</td>\n",
       "      <td>39.5</td>\n",
       "      <td>49.0</td>\n",
       "    </tr>\n",
       "    <tr>\n",
       "      <th>int</th>\n",
       "      <td>135.0</td>\n",
       "      <td>33.77037</td>\n",
       "      <td>6.004899</td>\n",
       "      <td>20.0</td>\n",
       "      <td>29.5</td>\n",
       "      <td>33.0</td>\n",
       "      <td>37.5</td>\n",
       "      <td>49.0</td>\n",
       "    </tr>\n",
       "    <tr>\n",
       "      <th>out</th>\n",
       "      <td>148.0</td>\n",
       "      <td>34.00000</td>\n",
       "      <td>7.254368</td>\n",
       "      <td>20.0</td>\n",
       "      <td>28.0</td>\n",
       "      <td>34.0</td>\n",
       "      <td>40.0</td>\n",
       "      <td>46.0</td>\n",
       "    </tr>\n",
       "  </tbody>\n",
       "</table>\n",
       "</div>"
      ],
      "text/plain": [
       "          count      mean       std   min   25%   50%   75%   max\n",
       "reg_proc                                                         \n",
       "cap       143.0  36.06993  5.550854  22.0  33.0  35.0  39.5  49.0\n",
       "int       135.0  33.77037  6.004899  20.0  29.5  33.0  37.5  49.0\n",
       "out       148.0  34.00000  7.254368  20.0  28.0  34.0  40.0  46.0"
      ]
     },
     "execution_count": 13,
     "metadata": {},
     "output_type": "execute_result"
    }
   ],
   "source": [
    "#Calculando descritivas por Região de Procedência\n",
    "df.groupby(['reg_proc']) ['idade'].describe()\n"
   ]
  },
  {
   "cell_type": "code",
   "execution_count": 14,
   "id": "2a188ba8",
   "metadata": {},
   "outputs": [
    {
     "data": {
      "text/plain": [
       "reg_proc\n",
       "cap    27\n",
       "int    29\n",
       "out    26\n",
       "Name: idade, dtype: int64"
      ]
     },
     "execution_count": 14,
     "metadata": {},
     "output_type": "execute_result"
    }
   ],
   "source": [
    "# calculando amplitude por Região de Procedência\n",
    "\n",
    "Ampl=df.groupby (['reg_proc']) ['idade'].max()-df.groupby (['reg_proc']) ['idade'].min()\n",
    "Ampl\n"
   ]
  },
  {
   "cell_type": "code",
   "execution_count": 15,
   "id": "a4a908b4",
   "metadata": {},
   "outputs": [
    {
     "data": {
      "text/plain": [
       "reg_proc\n",
       "cap    30.811977\n",
       "int    36.058817\n",
       "out    52.625850\n",
       "Name: idade, dtype: float64"
      ]
     },
     "execution_count": 15,
     "metadata": {},
     "output_type": "execute_result"
    }
   ],
   "source": [
    "\n",
    "#calculando a variância por Região de Procedência\n",
    "Var=df.groupby (['reg_proc']) ['idade'].var( )\n",
    "Var\n",
    "\n"
   ]
  },
  {
   "cell_type": "code",
   "execution_count": 16,
   "id": "72d55bc0",
   "metadata": {},
   "outputs": [
    {
     "data": {
      "text/plain": [
       "reg_proc\n",
       "cap    0.153891\n",
       "int    0.177816\n",
       "out    0.213364\n",
       "Name: idade, dtype: float64"
      ]
     },
     "execution_count": 16,
     "metadata": {},
     "output_type": "execute_result"
    }
   ],
   "source": [
    "#calculando o CV por Região de Procedência\n",
    "CV= df.groupby (['reg_proc']) ['idade'].std( ) / df.groupby (['reg_proc']) ['idade'].mean( )\n",
    "CV"
   ]
  },
  {
   "cell_type": "code",
   "execution_count": 17,
   "id": "f8093c5b",
   "metadata": {},
   "outputs": [
    {
     "data": {
      "text/plain": [
       "reg_proc\n",
       "cap          35\n",
       "int    [30, 34]\n",
       "out    [33, 41]\n",
       "Name: idade, dtype: object"
      ]
     },
     "execution_count": 17,
     "metadata": {},
     "output_type": "execute_result"
    }
   ],
   "source": [
    "#calculando a moda\n",
    "Moda=df.groupby(['reg_proc'])['idade'].agg(pd.Series.mode)\n",
    "Moda"
   ]
  },
  {
   "cell_type": "code",
   "execution_count": null,
   "id": "3bfaf939",
   "metadata": {},
   "outputs": [],
   "source": []
  }
 ],
 "metadata": {
  "kernelspec": {
   "display_name": "Python (myenv)",
   "language": "python",
   "name": "myenv"
  },
  "language_info": {
   "codemirror_mode": {
    "name": "ipython",
    "version": 3
   },
   "file_extension": ".py",
   "mimetype": "text/x-python",
   "name": "python",
   "nbconvert_exporter": "python",
   "pygments_lexer": "ipython3",
   "version": "3.12.6"
  }
 },
 "nbformat": 4,
 "nbformat_minor": 5
}
