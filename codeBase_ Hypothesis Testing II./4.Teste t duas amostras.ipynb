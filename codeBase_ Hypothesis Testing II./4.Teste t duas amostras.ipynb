{
 "cells": [
  {
   "cell_type": "code",
   "execution_count": 5,
   "id": "1ab6c2e7",
   "metadata": {},
   "outputs": [],
   "source": [
    "# importa biblioteca pandas\n",
    "import pandas as pd\n",
    "\n",
    "\n",
    "# importa biblioteca scipy\n",
    "import scipy.stats as stats\n"
   ]
  },
  {
   "cell_type": "code",
   "execution_count": 6,
   "id": "99afeb27",
   "metadata": {},
   "outputs": [],
   "source": [
    "# local do arquivo\n",
    "Caminho='/Users/fabicampanari/Desktop/_8-Prova Matematematica/1-statiscalMeasures_ Hypothesis Testing II./1🇧🇷-statiscalMeasures_ Hypothesis Testing II./Dataset/cadastro_funcionarios.xlsx'\n"
   ]
  },
  {
   "cell_type": "code",
   "execution_count": 7,
   "id": "cc4b132d",
   "metadata": {},
   "outputs": [
    {
     "name": "stdout",
     "output_type": "stream",
     "text": [
      "Requirement already satisfied: openpyxl in /Users/fabicampanari/myenv/lib/python3.12/site-packages (3.1.5)\n",
      "Requirement already satisfied: et-xmlfile in /Users/fabicampanari/myenv/lib/python3.12/site-packages (from openpyxl) (1.1.0)\n",
      "Note: you may need to restart the kernel to use updated packages.\n"
     ]
    }
   ],
   "source": [
    "pip install openpyxl"
   ]
  },
  {
   "cell_type": "code",
   "execution_count": 8,
   "id": "3c5e3acd",
   "metadata": {},
   "outputs": [],
   "source": [
    "#Traz o arquivo para o Python\n",
    "df=pd.read_excel(\"/Users/fabicampanari/Desktop/_8-Prova Matematematica/1-statiscalMeasures_ Hypothesis Testing II./1🇧🇷-statiscalMeasures_ Hypothesis Testing II./Dataset/cadastro_funcionarios.xlsx\")\n"
   ]
  },
  {
   "cell_type": "code",
   "execution_count": 9,
   "id": "ab4cfbff",
   "metadata": {},
   "outputs": [
    {
     "data": {
      "text/html": [
       "<div>\n",
       "<style scoped>\n",
       "    .dataframe tbody tr th:only-of-type {\n",
       "        vertical-align: middle;\n",
       "    }\n",
       "\n",
       "    .dataframe tbody tr th {\n",
       "        vertical-align: top;\n",
       "    }\n",
       "\n",
       "    .dataframe thead th {\n",
       "        text-align: right;\n",
       "    }\n",
       "</style>\n",
       "<table border=\"1\" class=\"dataframe\">\n",
       "  <thead>\n",
       "    <tr style=\"text-align: right;\">\n",
       "      <th></th>\n",
       "      <th>ID</th>\n",
       "      <th>estado_civil</th>\n",
       "      <th>grau_instrucao</th>\n",
       "      <th>n_filhos</th>\n",
       "      <th>salario</th>\n",
       "      <th>idade</th>\n",
       "      <th>reg_proc</th>\n",
       "    </tr>\n",
       "  </thead>\n",
       "  <tbody>\n",
       "    <tr>\n",
       "      <th>0</th>\n",
       "      <td>1</td>\n",
       "      <td>s</td>\n",
       "      <td>f</td>\n",
       "      <td>0</td>\n",
       "      <td>4.00</td>\n",
       "      <td>26</td>\n",
       "      <td>int</td>\n",
       "    </tr>\n",
       "    <tr>\n",
       "      <th>1</th>\n",
       "      <td>2</td>\n",
       "      <td>c</td>\n",
       "      <td>f</td>\n",
       "      <td>1</td>\n",
       "      <td>4.56</td>\n",
       "      <td>32</td>\n",
       "      <td>cap</td>\n",
       "    </tr>\n",
       "    <tr>\n",
       "      <th>2</th>\n",
       "      <td>3</td>\n",
       "      <td>c</td>\n",
       "      <td>f</td>\n",
       "      <td>2</td>\n",
       "      <td>5.25</td>\n",
       "      <td>36</td>\n",
       "      <td>cap</td>\n",
       "    </tr>\n",
       "    <tr>\n",
       "      <th>3</th>\n",
       "      <td>4</td>\n",
       "      <td>s</td>\n",
       "      <td>m</td>\n",
       "      <td>0</td>\n",
       "      <td>5.73</td>\n",
       "      <td>20</td>\n",
       "      <td>out</td>\n",
       "    </tr>\n",
       "    <tr>\n",
       "      <th>4</th>\n",
       "      <td>5</td>\n",
       "      <td>s</td>\n",
       "      <td>f</td>\n",
       "      <td>0</td>\n",
       "      <td>6.26</td>\n",
       "      <td>40</td>\n",
       "      <td>out</td>\n",
       "    </tr>\n",
       "  </tbody>\n",
       "</table>\n",
       "</div>"
      ],
      "text/plain": [
       "   ID estado_civil grau_instrucao  n_filhos  salario  idade reg_proc\n",
       "0   1            s              f         0     4.00     26      int\n",
       "1   2            c              f         1     4.56     32      cap\n",
       "2   3            c              f         2     5.25     36      cap\n",
       "3   4            s              m         0     5.73     20      out\n",
       "4   5            s              f         0     6.26     40      out"
      ]
     },
     "execution_count": 9,
     "metadata": {},
     "output_type": "execute_result"
    }
   ],
   "source": [
    "df.head( ) "
   ]
  },
  {
   "cell_type": "code",
   "execution_count": 10,
   "id": "30be05e7",
   "metadata": {},
   "outputs": [
    {
     "data": {
      "text/html": [
       "<div>\n",
       "<style scoped>\n",
       "    .dataframe tbody tr th:only-of-type {\n",
       "        vertical-align: middle;\n",
       "    }\n",
       "\n",
       "    .dataframe tbody tr th {\n",
       "        vertical-align: top;\n",
       "    }\n",
       "\n",
       "    .dataframe thead th {\n",
       "        text-align: right;\n",
       "    }\n",
       "</style>\n",
       "<table border=\"1\" class=\"dataframe\">\n",
       "  <thead>\n",
       "    <tr style=\"text-align: right;\">\n",
       "      <th></th>\n",
       "      <th>count</th>\n",
       "      <th>mean</th>\n",
       "      <th>std</th>\n",
       "      <th>min</th>\n",
       "      <th>25%</th>\n",
       "      <th>50%</th>\n",
       "      <th>75%</th>\n",
       "      <th>max</th>\n",
       "    </tr>\n",
       "    <tr>\n",
       "      <th>estado_civil</th>\n",
       "      <th></th>\n",
       "      <th></th>\n",
       "      <th></th>\n",
       "      <th></th>\n",
       "      <th></th>\n",
       "      <th></th>\n",
       "      <th></th>\n",
       "      <th></th>\n",
       "    </tr>\n",
       "  </thead>\n",
       "  <tbody>\n",
       "    <tr>\n",
       "      <th>c</th>\n",
       "      <td>244.0</td>\n",
       "      <td>35.094262</td>\n",
       "      <td>5.761670</td>\n",
       "      <td>25.0</td>\n",
       "      <td>31.0</td>\n",
       "      <td>35.0</td>\n",
       "      <td>39.0</td>\n",
       "      <td>49.0</td>\n",
       "    </tr>\n",
       "    <tr>\n",
       "      <th>s</th>\n",
       "      <td>182.0</td>\n",
       "      <td>33.989011</td>\n",
       "      <td>7.130968</td>\n",
       "      <td>20.0</td>\n",
       "      <td>27.0</td>\n",
       "      <td>34.0</td>\n",
       "      <td>41.0</td>\n",
       "      <td>46.0</td>\n",
       "    </tr>\n",
       "  </tbody>\n",
       "</table>\n",
       "</div>"
      ],
      "text/plain": [
       "              count       mean       std   min   25%   50%   75%   max\n",
       "estado_civil                                                          \n",
       "c             244.0  35.094262  5.761670  25.0  31.0  35.0  39.0  49.0\n",
       "s             182.0  33.989011  7.130968  20.0  27.0  34.0  41.0  46.0"
      ]
     },
     "execution_count": 10,
     "metadata": {},
     "output_type": "execute_result"
    }
   ],
   "source": [
    "#Verifica a média de idade por grupo\n",
    "df.groupby(['estado_civil'])['idade'].describe()\n"
   ]
  },
  {
   "cell_type": "code",
   "execution_count": 11,
   "id": "d824c68a",
   "metadata": {},
   "outputs": [],
   "source": [
    "solteiro=df[df.estado_civil=='s'].idade\n",
    "casado=df[df.estado_civil=='c'].idade\n"
   ]
  },
  {
   "cell_type": "code",
   "execution_count": 12,
   "id": "1ff7d184-0a36-456b-a131-8f0c62cb5530",
   "metadata": {},
   "outputs": [
    {
     "data": {
      "text/plain": [
       "LeveneResult(statistic=15.882848929731193, pvalue=7.932664725672226e-05)"
      ]
     },
     "execution_count": 12,
     "metadata": {},
     "output_type": "execute_result"
    }
   ],
   "source": [
    "# Executa o teste de Levene para verificar a igualdade das variâncias\n",
    "stats.levene(casado, solteiro)"
   ]
  },
  {
   "cell_type": "code",
   "execution_count": 13,
   "id": "feac51b0",
   "metadata": {},
   "outputs": [
    {
     "data": {
      "text/plain": [
       "TtestResult(statistic=1.768126851642872, pvalue=0.07775876759104682, df=424.0)"
      ]
     },
     "execution_count": 13,
     "metadata": {},
     "output_type": "execute_result"
    }
   ],
   "source": [
    "# executa o teste t Testando H0: μc= μs   H1: μc ≠ μs \n",
    "stats.ttest_ind(casado,solteiro,equal_var=True)\n",
    "# PARA 95% DE CONFIANÇA REJEITO H0 SE PVALUE < 0.05"
   ]
  }
 ],
 "metadata": {
  "kernelspec": {
   "display_name": "Python (myenv)",
   "language": "python",
   "name": "myenv"
  },
  "language_info": {
   "codemirror_mode": {
    "name": "ipython",
    "version": 3
   },
   "file_extension": ".py",
   "mimetype": "text/x-python",
   "name": "python",
   "nbconvert_exporter": "python",
   "pygments_lexer": "ipython3",
   "version": "3.12.6"
  }
 },
 "nbformat": 4,
 "nbformat_minor": 5
}
