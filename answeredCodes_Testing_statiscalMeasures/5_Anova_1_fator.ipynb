{
  "cells": [
    {
      "cell_type": "markdown",
      "id": "a32fb3c5",
      "metadata": {},
      "source": [
        "## Exercício 5 – Teste a hipótese de o salário ser o mesmo independente do grau de instrução. Qual sua conclusão?"
      ]
    },
    {
      "cell_type": "code",
      "execution_count": 1,
      "id": "4480a3ff",
      "metadata": {},
      "outputs": [
        {
          "name": "stdout",
          "output_type": "stream",
          "text": [
            "Requirement already satisfied: statsmodels in /Users/fabicampanari/myenv/lib/python3.12/site-packages (0.14.2)\n",
            "Requirement already satisfied: numpy>=1.22.3 in /Users/fabicampanari/myenv/lib/python3.12/site-packages (from statsmodels) (1.26.4)\n",
            "Requirement already satisfied: scipy!=1.9.2,>=1.8 in /Users/fabicampanari/myenv/lib/python3.12/site-packages (from statsmodels) (1.14.1)\n",
            "Requirement already satisfied: pandas!=2.1.0,>=1.4 in /Users/fabicampanari/myenv/lib/python3.12/site-packages (from statsmodels) (2.2.2)\n",
            "Requirement already satisfied: patsy>=0.5.6 in /Users/fabicampanari/myenv/lib/python3.12/site-packages (from statsmodels) (0.5.6)\n",
            "Requirement already satisfied: packaging>=21.3 in /Users/fabicampanari/myenv/lib/python3.12/site-packages (from statsmodels) (24.1)\n",
            "Requirement already satisfied: python-dateutil>=2.8.2 in /Users/fabicampanari/myenv/lib/python3.12/site-packages (from pandas!=2.1.0,>=1.4->statsmodels) (2.9.0.post0)\n",
            "Requirement already satisfied: pytz>=2020.1 in /Users/fabicampanari/myenv/lib/python3.12/site-packages (from pandas!=2.1.0,>=1.4->statsmodels) (2024.1)\n",
            "Requirement already satisfied: tzdata>=2022.7 in /Users/fabicampanari/myenv/lib/python3.12/site-packages (from pandas!=2.1.0,>=1.4->statsmodels) (2024.1)\n",
            "Requirement already satisfied: six in /Users/fabicampanari/myenv/lib/python3.12/site-packages (from patsy>=0.5.6->statsmodels) (1.16.0)\n",
            "Note: you may need to restart the kernel to use updated packages.\n"
          ]
        }
      ],
      "source": [
        "%pip install statsmodels"
      ]
    },
    {
      "cell_type": "code",
      "execution_count": 2,
      "id": "ea0baa45",
      "metadata": {
        "id": "ea0baa45"
      },
      "outputs": [],
      "source": [
        "# importa biblioteca pandas\n",
        "import pandas as pd\n",
        "\n",
        "# importa biblioteca statsmodels\n",
        "import statsmodels.api as sm\n",
        "\n",
        "# local do arquivo\n",
        "Caminho='/Users/fabicampanari/Desktop/_8-Prova Matematematica/1-statiscalMeasures_ Hypothesis Testing II./1🇧🇷-statiscalMeasures_ Hypothesis Testing II./answeredCodes_statiscalMeasures/cadastro_funcionarios.xlsx'\n"
      ]
    },
    {
      "cell_type": "code",
      "execution_count": 3,
      "id": "c8c3caad",
      "metadata": {
        "id": "c8c3caad"
      },
      "outputs": [],
      "source": [
        "#Traz o arquivo para o Python\n",
        "df=pd.read_excel(Caminho)\n"
      ]
    },
    {
      "cell_type": "code",
      "execution_count": 4,
      "id": "89e26cd3",
      "metadata": {
        "colab": {
          "base_uri": "https://localhost:8080/",
          "height": 206
        },
        "id": "89e26cd3",
        "outputId": "b57a08f6-40a5-4e50-b719-5228fb8c7405"
      },
      "outputs": [
        {
          "data": {
            "text/html": [
              "<div>\n",
              "<style scoped>\n",
              "    .dataframe tbody tr th:only-of-type {\n",
              "        vertical-align: middle;\n",
              "    }\n",
              "\n",
              "    .dataframe tbody tr th {\n",
              "        vertical-align: top;\n",
              "    }\n",
              "\n",
              "    .dataframe thead th {\n",
              "        text-align: right;\n",
              "    }\n",
              "</style>\n",
              "<table border=\"1\" class=\"dataframe\">\n",
              "  <thead>\n",
              "    <tr style=\"text-align: right;\">\n",
              "      <th></th>\n",
              "      <th>ID</th>\n",
              "      <th>estado_civil</th>\n",
              "      <th>grau_instrucao</th>\n",
              "      <th>n_filhos</th>\n",
              "      <th>salario</th>\n",
              "      <th>idade</th>\n",
              "      <th>reg_proc</th>\n",
              "    </tr>\n",
              "  </thead>\n",
              "  <tbody>\n",
              "    <tr>\n",
              "      <th>0</th>\n",
              "      <td>1</td>\n",
              "      <td>s</td>\n",
              "      <td>f</td>\n",
              "      <td>0</td>\n",
              "      <td>4.00</td>\n",
              "      <td>26</td>\n",
              "      <td>int</td>\n",
              "    </tr>\n",
              "    <tr>\n",
              "      <th>1</th>\n",
              "      <td>2</td>\n",
              "      <td>c</td>\n",
              "      <td>f</td>\n",
              "      <td>1</td>\n",
              "      <td>4.56</td>\n",
              "      <td>32</td>\n",
              "      <td>cap</td>\n",
              "    </tr>\n",
              "    <tr>\n",
              "      <th>2</th>\n",
              "      <td>3</td>\n",
              "      <td>c</td>\n",
              "      <td>f</td>\n",
              "      <td>2</td>\n",
              "      <td>5.25</td>\n",
              "      <td>36</td>\n",
              "      <td>cap</td>\n",
              "    </tr>\n",
              "    <tr>\n",
              "      <th>3</th>\n",
              "      <td>4</td>\n",
              "      <td>s</td>\n",
              "      <td>m</td>\n",
              "      <td>0</td>\n",
              "      <td>5.73</td>\n",
              "      <td>20</td>\n",
              "      <td>out</td>\n",
              "    </tr>\n",
              "    <tr>\n",
              "      <th>4</th>\n",
              "      <td>5</td>\n",
              "      <td>s</td>\n",
              "      <td>f</td>\n",
              "      <td>0</td>\n",
              "      <td>6.26</td>\n",
              "      <td>40</td>\n",
              "      <td>out</td>\n",
              "    </tr>\n",
              "  </tbody>\n",
              "</table>\n",
              "</div>"
            ],
            "text/plain": [
              "   ID estado_civil grau_instrucao  n_filhos  salario  idade reg_proc\n",
              "0   1            s              f         0     4.00     26      int\n",
              "1   2            c              f         1     4.56     32      cap\n",
              "2   3            c              f         2     5.25     36      cap\n",
              "3   4            s              m         0     5.73     20      out\n",
              "4   5            s              f         0     6.26     40      out"
            ]
          },
          "execution_count": 4,
          "metadata": {},
          "output_type": "execute_result"
        }
      ],
      "source": [
        "df.head( )\n"
      ]
    },
    {
      "cell_type": "code",
      "execution_count": 5,
      "id": "ba9e7b19",
      "metadata": {
        "colab": {
          "base_uri": "https://localhost:8080/",
          "height": 175
        },
        "id": "ba9e7b19",
        "outputId": "ebe759f2-4e31-421d-d352-abcd76e04963"
      },
      "outputs": [
        {
          "data": {
            "text/html": [
              "<div>\n",
              "<style scoped>\n",
              "    .dataframe tbody tr th:only-of-type {\n",
              "        vertical-align: middle;\n",
              "    }\n",
              "\n",
              "    .dataframe tbody tr th {\n",
              "        vertical-align: top;\n",
              "    }\n",
              "\n",
              "    .dataframe thead th {\n",
              "        text-align: right;\n",
              "    }\n",
              "</style>\n",
              "<table border=\"1\" class=\"dataframe\">\n",
              "  <thead>\n",
              "    <tr style=\"text-align: right;\">\n",
              "      <th></th>\n",
              "      <th>count</th>\n",
              "      <th>mean</th>\n",
              "      <th>std</th>\n",
              "      <th>min</th>\n",
              "      <th>25%</th>\n",
              "      <th>50%</th>\n",
              "      <th>75%</th>\n",
              "      <th>max</th>\n",
              "    </tr>\n",
              "    <tr>\n",
              "      <th>grau_instrucao</th>\n",
              "      <th></th>\n",
              "      <th></th>\n",
              "      <th></th>\n",
              "      <th></th>\n",
              "      <th></th>\n",
              "      <th></th>\n",
              "      <th></th>\n",
              "      <th></th>\n",
              "    </tr>\n",
              "  </thead>\n",
              "  <tbody>\n",
              "    <tr>\n",
              "      <th>f</th>\n",
              "      <td>120.0</td>\n",
              "      <td>35.533333</td>\n",
              "      <td>6.925696</td>\n",
              "      <td>20.0</td>\n",
              "      <td>28.0</td>\n",
              "      <td>37.0</td>\n",
              "      <td>41.0</td>\n",
              "      <td>49.0</td>\n",
              "    </tr>\n",
              "    <tr>\n",
              "      <th>m</th>\n",
              "      <td>203.0</td>\n",
              "      <td>34.556650</td>\n",
              "      <td>6.145955</td>\n",
              "      <td>20.0</td>\n",
              "      <td>31.0</td>\n",
              "      <td>35.0</td>\n",
              "      <td>37.0</td>\n",
              "      <td>49.0</td>\n",
              "    </tr>\n",
              "    <tr>\n",
              "      <th>s</th>\n",
              "      <td>103.0</td>\n",
              "      <td>33.689320</td>\n",
              "      <td>6.159687</td>\n",
              "      <td>22.0</td>\n",
              "      <td>31.0</td>\n",
              "      <td>33.0</td>\n",
              "      <td>38.0</td>\n",
              "      <td>49.0</td>\n",
              "    </tr>\n",
              "  </tbody>\n",
              "</table>\n",
              "</div>"
            ],
            "text/plain": [
              "                count       mean       std   min   25%   50%   75%   max\n",
              "grau_instrucao                                                          \n",
              "f               120.0  35.533333  6.925696  20.0  28.0  37.0  41.0  49.0\n",
              "m               203.0  34.556650  6.145955  20.0  31.0  35.0  37.0  49.0\n",
              "s               103.0  33.689320  6.159687  22.0  31.0  33.0  38.0  49.0"
            ]
          },
          "execution_count": 5,
          "metadata": {},
          "output_type": "execute_result"
        }
      ],
      "source": [
        "#Verifica a média de idade por grupo\n",
        "df.groupby(['grau_instrucao'])['idade'].describe()\n"
      ]
    },
    {
      "cell_type": "code",
      "execution_count": 6,
      "id": "afa1c981",
      "metadata": {
        "id": "afa1c981"
      },
      "outputs": [],
      "source": [
        "#Gera o modelo para comparar idade por grau de instrução\n",
        "from statsmodels.formula.api import ols\n",
        "modelo=ols('idade ~ grau_instrucao',data=df).fit()\n"
      ]
    },
    {
      "cell_type": "code",
      "execution_count": 7,
      "id": "747d1d8c",
      "metadata": {
        "colab": {
          "base_uri": "https://localhost:8080/"
        },
        "id": "747d1d8c",
        "outputId": "7d2681eb-1009-4d36-8517-3af59f0da897"
      },
      "outputs": [
        {
          "name": "stdout",
          "output_type": "stream",
          "text": [
            "                   df        sum_sq    mean_sq         F    PR(>F)\n",
            "grau_instrucao    2.0    190.129141  95.064570  2.336835  0.097879\n",
            "Residual        423.0  17208.023441  40.680906       NaN       NaN\n"
          ]
        }
      ],
      "source": [
        "#Aplicação ANOVA Testando H0: μf= μm=μs   H1: Ao menos um diferente\n",
        "anova=sm.stats.anova_lm(modelo)\n",
        "print(anova)\n"
      ]
    },
    {
      "cell_type": "code",
      "execution_count": 8,
      "id": "d885fba7",
      "metadata": {
        "colab": {
          "base_uri": "https://localhost:8080/",
          "height": 137
        },
        "id": "d885fba7",
        "outputId": "00eea2f9-36a7-4ed9-9cc1-6387e999c633"
      },
      "outputs": [
        {
          "data": {
            "text/html": [
              "<table class=\"simpletable\">\n",
              "<caption>Multiple Comparison of Means - Tukey HSD, FWER=0.05</caption>\n",
              "<tr>\n",
              "  <th>group1</th> <th>group2</th> <th>meandiff</th>  <th>p-adj</th>  <th>lower</th>   <th>upper</th> <th>reject</th>\n",
              "</tr>\n",
              "<tr>\n",
              "     <td>f</td>      <td>m</td>    <td>-0.9767</td> <td>0.3794</td> <td>-2.7041</td> <td>0.7507</td>  <td>False</td>\n",
              "</tr>\n",
              "<tr>\n",
              "     <td>f</td>      <td>s</td>    <td>-1.844</td>  <td>0.0808</td> <td>-3.859</td>   <td>0.171</td>  <td>False</td>\n",
              "</tr>\n",
              "<tr>\n",
              "     <td>m</td>      <td>s</td>    <td>-0.8673</td> <td>0.4997</td> <td>-2.6821</td> <td>0.9475</td>  <td>False</td>\n",
              "</tr>\n",
              "</table>"
            ],
            "text/latex": [
              "\\begin{center}\n",
              "\\begin{tabular}{ccccccc}\n",
              "\\toprule\n",
              "\\textbf{group1} & \\textbf{group2} & \\textbf{meandiff} & \\textbf{p-adj} & \\textbf{lower} & \\textbf{upper} & \\textbf{reject}  \\\\\n",
              "\\midrule\n",
              "       f        &        m        &      -0.9767      &     0.3794     &    -2.7041     &     0.7507     &      False       \\\\\n",
              "       f        &        s        &       -1.844      &     0.0808     &     -3.859     &     0.171      &      False       \\\\\n",
              "       m        &        s        &      -0.8673      &     0.4997     &    -2.6821     &     0.9475     &      False       \\\\\n",
              "\\bottomrule\n",
              "\\end{tabular}\n",
              "%\\caption{Multiple Comparison of Means - Tukey HSD, FWER=0.05}\n",
              "\\end{center}"
            ],
            "text/plain": [
              "<class 'statsmodels.iolib.table.SimpleTable'>"
            ]
          },
          "execution_count": 8,
          "metadata": {},
          "output_type": "execute_result"
        }
      ],
      "source": [
        "#Teste Post Hoc de Tukey para avaliar diferenças\n",
        "from statsmodels.stats.multicomp import pairwise_tukeyhsd\n",
        "tukey=pairwise_tukeyhsd(endog=df.idade, groups=df.grau_instrucao)\n",
        "tukey.summary ( )\n"
      ]
    },
    {
      "cell_type": "code",
      "execution_count": 9,
      "id": "06b24bcb",
      "metadata": {
        "colab": {
          "base_uri": "https://localhost:8080/"
        },
        "id": "06b24bcb",
        "outputId": "173e7936-198a-456b-fbe9-09dd2ce1e875"
      },
      "outputs": [
        {
          "name": "stdout",
          "output_type": "stream",
          "text": [
            "             df        sum_sq     mean_sq         F    PR(>F)\n",
            "reg_proc    2.0    454.970401  227.485201  5.679349  0.003682\n",
            "Residual  423.0  16943.182181   40.054804       NaN       NaN\n"
          ]
        }
      ],
      "source": [
        "#Gera o modelo para comparar idade por região de procedencia\n",
        "from statsmodels.formula.api import ols\n",
        "modelo=ols('idade ~ reg_proc',data=df).fit()\n",
        "#Aplicação ANOVA Testando H0: μf= μm=μs   H1: Ao menos um diferente\n",
        "anova=sm.stats.anova_lm(modelo)\n",
        "print(anova)"
      ]
    },
    {
      "cell_type": "code",
      "execution_count": 10,
      "id": "0b5dd64d",
      "metadata": {
        "colab": {
          "base_uri": "https://localhost:8080/",
          "height": 175
        },
        "id": "0b5dd64d",
        "outputId": "67324b81-4557-417d-fcf8-d73855e0a063"
      },
      "outputs": [
        {
          "data": {
            "text/html": [
              "<div>\n",
              "<style scoped>\n",
              "    .dataframe tbody tr th:only-of-type {\n",
              "        vertical-align: middle;\n",
              "    }\n",
              "\n",
              "    .dataframe tbody tr th {\n",
              "        vertical-align: top;\n",
              "    }\n",
              "\n",
              "    .dataframe thead th {\n",
              "        text-align: right;\n",
              "    }\n",
              "</style>\n",
              "<table border=\"1\" class=\"dataframe\">\n",
              "  <thead>\n",
              "    <tr style=\"text-align: right;\">\n",
              "      <th></th>\n",
              "      <th>count</th>\n",
              "      <th>mean</th>\n",
              "      <th>std</th>\n",
              "      <th>min</th>\n",
              "      <th>25%</th>\n",
              "      <th>50%</th>\n",
              "      <th>75%</th>\n",
              "      <th>max</th>\n",
              "    </tr>\n",
              "    <tr>\n",
              "      <th>reg_proc</th>\n",
              "      <th></th>\n",
              "      <th></th>\n",
              "      <th></th>\n",
              "      <th></th>\n",
              "      <th></th>\n",
              "      <th></th>\n",
              "      <th></th>\n",
              "      <th></th>\n",
              "    </tr>\n",
              "  </thead>\n",
              "  <tbody>\n",
              "    <tr>\n",
              "      <th>cap</th>\n",
              "      <td>143.0</td>\n",
              "      <td>36.06993</td>\n",
              "      <td>5.550854</td>\n",
              "      <td>22.0</td>\n",
              "      <td>33.0</td>\n",
              "      <td>35.0</td>\n",
              "      <td>39.5</td>\n",
              "      <td>49.0</td>\n",
              "    </tr>\n",
              "    <tr>\n",
              "      <th>int</th>\n",
              "      <td>135.0</td>\n",
              "      <td>33.77037</td>\n",
              "      <td>6.004899</td>\n",
              "      <td>20.0</td>\n",
              "      <td>29.5</td>\n",
              "      <td>33.0</td>\n",
              "      <td>37.5</td>\n",
              "      <td>49.0</td>\n",
              "    </tr>\n",
              "    <tr>\n",
              "      <th>out</th>\n",
              "      <td>148.0</td>\n",
              "      <td>34.00000</td>\n",
              "      <td>7.254368</td>\n",
              "      <td>20.0</td>\n",
              "      <td>28.0</td>\n",
              "      <td>34.0</td>\n",
              "      <td>40.0</td>\n",
              "      <td>46.0</td>\n",
              "    </tr>\n",
              "  </tbody>\n",
              "</table>\n",
              "</div>"
            ],
            "text/plain": [
              "          count      mean       std   min   25%   50%   75%   max\n",
              "reg_proc                                                         \n",
              "cap       143.0  36.06993  5.550854  22.0  33.0  35.0  39.5  49.0\n",
              "int       135.0  33.77037  6.004899  20.0  29.5  33.0  37.5  49.0\n",
              "out       148.0  34.00000  7.254368  20.0  28.0  34.0  40.0  46.0"
            ]
          },
          "execution_count": 10,
          "metadata": {},
          "output_type": "execute_result"
        }
      ],
      "source": [
        "#Verifica a média de idade por grupo\n",
        "df.groupby(['reg_proc'])['idade'].describe()\n"
      ]
    },
    {
      "cell_type": "code",
      "execution_count": 11,
      "id": "4be8d489",
      "metadata": {
        "colab": {
          "base_uri": "https://localhost:8080/",
          "height": 137
        },
        "id": "4be8d489",
        "outputId": "38bc110c-79b5-40eb-df15-170399c29827"
      },
      "outputs": [
        {
          "data": {
            "text/html": [
              "<table class=\"simpletable\">\n",
              "<caption>Multiple Comparison of Means - Tukey HSD, FWER=0.05</caption>\n",
              "<tr>\n",
              "  <th>group1</th> <th>group2</th> <th>meandiff</th>  <th>p-adj</th>  <th>lower</th>   <th>upper</th>  <th>reject</th>\n",
              "</tr>\n",
              "<tr>\n",
              "    <td>cap</td>    <td>int</td>   <td>-2.2996</td> <td>0.0074</td> <td>-4.0858</td> <td>-0.5133</td>  <td>True</td> \n",
              "</tr>\n",
              "<tr>\n",
              "    <td>cap</td>    <td>out</td>   <td>-2.0699</td> <td>0.0152</td> <td>-3.8154</td> <td>-0.3245</td>  <td>True</td> \n",
              "</tr>\n",
              "<tr>\n",
              "    <td>int</td>    <td>out</td>   <td>0.2296</td>  <td>0.9501</td> <td>-1.5419</td> <td>2.0012</td>   <td>False</td>\n",
              "</tr>\n",
              "</table>"
            ],
            "text/latex": [
              "\\begin{center}\n",
              "\\begin{tabular}{ccccccc}\n",
              "\\toprule\n",
              "\\textbf{group1} & \\textbf{group2} & \\textbf{meandiff} & \\textbf{p-adj} & \\textbf{lower} & \\textbf{upper} & \\textbf{reject}  \\\\\n",
              "\\midrule\n",
              "      cap       &       int       &      -2.2996      &     0.0074     &    -4.0858     &    -0.5133     &       True       \\\\\n",
              "      cap       &       out       &      -2.0699      &     0.0152     &    -3.8154     &    -0.3245     &       True       \\\\\n",
              "      int       &       out       &       0.2296      &     0.9501     &    -1.5419     &     2.0012     &      False       \\\\\n",
              "\\bottomrule\n",
              "\\end{tabular}\n",
              "%\\caption{Multiple Comparison of Means - Tukey HSD, FWER=0.05}\n",
              "\\end{center}"
            ],
            "text/plain": [
              "<class 'statsmodels.iolib.table.SimpleTable'>"
            ]
          },
          "execution_count": 11,
          "metadata": {},
          "output_type": "execute_result"
        }
      ],
      "source": [
        "#Teste Post Hoc de Tukey para avaliar diferenças\n",
        "from statsmodels.stats.multicomp import pairwise_tukeyhsd\n",
        "tukey=pairwise_tukeyhsd(endog=df.idade, groups=df.reg_proc)\n",
        "tukey.summary ()"
      ]
    },
    {
      "cell_type": "code",
      "execution_count": 12,
      "id": "9cd4a2b8",
      "metadata": {
        "colab": {
          "base_uri": "https://localhost:8080/",
          "height": 175
        },
        "id": "9cd4a2b8",
        "outputId": "15b14ea8-fa75-4006-f46b-fca0ab7f4681"
      },
      "outputs": [
        {
          "data": {
            "text/html": [
              "<div>\n",
              "<style scoped>\n",
              "    .dataframe tbody tr th:only-of-type {\n",
              "        vertical-align: middle;\n",
              "    }\n",
              "\n",
              "    .dataframe tbody tr th {\n",
              "        vertical-align: top;\n",
              "    }\n",
              "\n",
              "    .dataframe thead th {\n",
              "        text-align: right;\n",
              "    }\n",
              "</style>\n",
              "<table border=\"1\" class=\"dataframe\">\n",
              "  <thead>\n",
              "    <tr style=\"text-align: right;\">\n",
              "      <th></th>\n",
              "      <th>count</th>\n",
              "      <th>mean</th>\n",
              "      <th>std</th>\n",
              "      <th>min</th>\n",
              "      <th>25%</th>\n",
              "      <th>50%</th>\n",
              "      <th>75%</th>\n",
              "      <th>max</th>\n",
              "    </tr>\n",
              "    <tr>\n",
              "      <th>grau_instrucao</th>\n",
              "      <th></th>\n",
              "      <th></th>\n",
              "      <th></th>\n",
              "      <th></th>\n",
              "      <th></th>\n",
              "      <th></th>\n",
              "      <th></th>\n",
              "      <th></th>\n",
              "    </tr>\n",
              "  </thead>\n",
              "  <tbody>\n",
              "    <tr>\n",
              "      <th>f</th>\n",
              "      <td>120.0</td>\n",
              "      <td>7.922667</td>\n",
              "      <td>2.802770</td>\n",
              "      <td>4.00</td>\n",
              "      <td>6.2475</td>\n",
              "      <td>7.365</td>\n",
              "      <td>8.995</td>\n",
              "      <td>14.7</td>\n",
              "    </tr>\n",
              "    <tr>\n",
              "      <th>m</th>\n",
              "      <td>203.0</td>\n",
              "      <td>11.208522</td>\n",
              "      <td>3.785457</td>\n",
              "      <td>4.43</td>\n",
              "      <td>8.2600</td>\n",
              "      <td>10.500</td>\n",
              "      <td>13.850</td>\n",
              "      <td>23.9</td>\n",
              "    </tr>\n",
              "    <tr>\n",
              "      <th>s</th>\n",
              "      <td>103.0</td>\n",
              "      <td>14.507864</td>\n",
              "      <td>3.590439</td>\n",
              "      <td>7.60</td>\n",
              "      <td>11.3500</td>\n",
              "      <td>14.550</td>\n",
              "      <td>17.260</td>\n",
              "      <td>23.5</td>\n",
              "    </tr>\n",
              "  </tbody>\n",
              "</table>\n",
              "</div>"
            ],
            "text/plain": [
              "                count       mean       std   min      25%     50%     75%  \\\n",
              "grau_instrucao                                                              \n",
              "f               120.0   7.922667  2.802770  4.00   6.2475   7.365   8.995   \n",
              "m               203.0  11.208522  3.785457  4.43   8.2600  10.500  13.850   \n",
              "s               103.0  14.507864  3.590439  7.60  11.3500  14.550  17.260   \n",
              "\n",
              "                 max  \n",
              "grau_instrucao        \n",
              "f               14.7  \n",
              "m               23.9  \n",
              "s               23.5  "
            ]
          },
          "execution_count": 12,
          "metadata": {},
          "output_type": "execute_result"
        }
      ],
      "source": [
        "#Verifica a média de idade por grupo\n",
        "df.groupby(['grau_instrucao'])['salario'].describe()"
      ]
    },
    {
      "cell_type": "code",
      "execution_count": 13,
      "id": "4GR8qAqKRT-s",
      "metadata": {
        "id": "4GR8qAqKRT-s"
      },
      "outputs": [],
      "source": [
        "#Gera o modelo para comparar idade por grau de instrução\n",
        "from statsmodels.formula.api import ols\n",
        "modelo=ols(' salario ~ grau_instrucao',data=df).fit()\n"
      ]
    },
    {
      "cell_type": "code",
      "execution_count": 14,
      "id": "9z5U--DwRtdi",
      "metadata": {
        "colab": {
          "base_uri": "https://localhost:8080/"
        },
        "id": "9z5U--DwRtdi",
        "outputId": "98476d0b-7cfe-4867-ec8d-560c0291b70c"
      },
      "outputs": [
        {
          "name": "stdout",
          "output_type": "stream",
          "text": [
            "                   df       sum_sq      mean_sq          F        PR(>F)\n",
            "grau_instrucao    2.0  2409.879383  1204.939691  99.078295  5.116294e-36\n",
            "Residual        423.0  5144.310233    12.161490        NaN           NaN\n"
          ]
        }
      ],
      "source": [
        "#Gera o modelo para comparar idade por região de procedencia\n",
        "from statsmodels.formula.api import ols\n",
        "modelo=ols('salario ~ grau_instrucao',data=df).fit()\n",
        "#Aplicação ANOVA Testando H0: μf= μm=μs   H1: Ao menos um diferente\n",
        "anova=sm.stats.anova_lm(modelo)\n",
        "print(anova)"
      ]
    },
    {
      "cell_type": "code",
      "execution_count": 15,
      "id": "f9ZpAPdrSXw0",
      "metadata": {
        "colab": {
          "base_uri": "https://localhost:8080/",
          "height": 137
        },
        "id": "f9ZpAPdrSXw0",
        "outputId": "d21b1163-21e8-45b6-d6bc-084b37024be4"
      },
      "outputs": [
        {
          "name": "stdout",
          "output_type": "stream",
          "text": [
            "Requirement already satisfied: statsmodels in /Users/fabicampanari/myenv/lib/python3.12/site-packages (0.14.2)\n",
            "Requirement already satisfied: numpy>=1.22.3 in /Users/fabicampanari/myenv/lib/python3.12/site-packages (from statsmodels) (1.26.4)\n",
            "Requirement already satisfied: scipy!=1.9.2,>=1.8 in /Users/fabicampanari/myenv/lib/python3.12/site-packages (from statsmodels) (1.14.1)\n",
            "Requirement already satisfied: pandas!=2.1.0,>=1.4 in /Users/fabicampanari/myenv/lib/python3.12/site-packages (from statsmodels) (2.2.2)\n",
            "Requirement already satisfied: patsy>=0.5.6 in /Users/fabicampanari/myenv/lib/python3.12/site-packages (from statsmodels) (0.5.6)\n",
            "Requirement already satisfied: packaging>=21.3 in /Users/fabicampanari/myenv/lib/python3.12/site-packages (from statsmodels) (24.1)\n",
            "Requirement already satisfied: python-dateutil>=2.8.2 in /Users/fabicampanari/myenv/lib/python3.12/site-packages (from pandas!=2.1.0,>=1.4->statsmodels) (2.9.0.post0)\n",
            "Requirement already satisfied: pytz>=2020.1 in /Users/fabicampanari/myenv/lib/python3.12/site-packages (from pandas!=2.1.0,>=1.4->statsmodels) (2024.1)\n",
            "Requirement already satisfied: tzdata>=2022.7 in /Users/fabicampanari/myenv/lib/python3.12/site-packages (from pandas!=2.1.0,>=1.4->statsmodels) (2024.1)\n",
            "Requirement already satisfied: six in /Users/fabicampanari/myenv/lib/python3.12/site-packages (from patsy>=0.5.6->statsmodels) (1.16.0)\n",
            "Note: you may need to restart the kernel to use updated packages.\n"
          ]
        },
        {
          "data": {
            "text/html": [
              "<table class=\"simpletable\">\n",
              "<caption>Multiple Comparison of Means - Tukey HSD, FWER=0.05</caption>\n",
              "<tr>\n",
              "  <th>group1</th> <th>group2</th> <th>meandiff</th> <th>p-adj</th>  <th>lower</th>  <th>upper</th> <th>reject</th>\n",
              "</tr>\n",
              "<tr>\n",
              "     <td>f</td>      <td>m</td>    <td>3.2859</td>   <td>0.0</td>  <td>2.3414</td> <td>4.2303</td>  <td>True</td> \n",
              "</tr>\n",
              "<tr>\n",
              "     <td>f</td>      <td>s</td>    <td>6.5852</td>   <td>0.0</td>  <td>5.4835</td> <td>7.6869</td>  <td>True</td> \n",
              "</tr>\n",
              "<tr>\n",
              "     <td>m</td>      <td>s</td>    <td>3.2993</td>   <td>0.0</td>  <td>2.3071</td> <td>4.2916</td>  <td>True</td> \n",
              "</tr>\n",
              "</table>"
            ],
            "text/latex": [
              "\\begin{center}\n",
              "\\begin{tabular}{ccccccc}\n",
              "\\toprule\n",
              "\\textbf{group1} & \\textbf{group2} & \\textbf{meandiff} & \\textbf{p-adj} & \\textbf{lower} & \\textbf{upper} & \\textbf{reject}  \\\\\n",
              "\\midrule\n",
              "       f        &        m        &       3.2859      &      0.0       &     2.3414     &     4.2303     &       True       \\\\\n",
              "       f        &        s        &       6.5852      &      0.0       &     5.4835     &     7.6869     &       True       \\\\\n",
              "       m        &        s        &       3.2993      &      0.0       &     2.3071     &     4.2916     &       True       \\\\\n",
              "\\bottomrule\n",
              "\\end{tabular}\n",
              "%\\caption{Multiple Comparison of Means - Tukey HSD, FWER=0.05}\n",
              "\\end{center}"
            ],
            "text/plain": [
              "<class 'statsmodels.iolib.table.SimpleTable'>"
            ]
          },
          "execution_count": 15,
          "metadata": {},
          "output_type": "execute_result"
        }
      ],
      "source": [
        "#Teste Post Hoc de Tukey para avaliar diferenças\n",
        "%pip install statsmodels\n",
        "from statsmodels.stats.multicomp import pairwise_tukeyhsd\n",
        "tukey=pairwise_tukeyhsd(endog=df.salario, groups=df.grau_instrucao)\n",
        "tukey.summary()"
      ]
    },
    {
      "cell_type": "markdown",
      "id": "57e0e992",
      "metadata": {},
      "source": [
        "## Questao 5 -  Teste a hipótese de o salário ser o mesmo independente do grau de instrução. Qual sua conclusão?"
      ]
    },
    {
      "cell_type": "code",
      "execution_count": 16,
      "id": "a4403167",
      "metadata": {},
      "outputs": [],
      "source": [
        "# Importa bibliotecas necessárias\n",
        "import pandas as pd\n",
        "import statsmodels.api as sm\n",
        "from statsmodels.formula.api import ols\n",
        "from statsmodels.stats.multicomp import pairwise_tukeyhsd"
      ]
    },
    {
      "cell_type": "code",
      "execution_count": 17,
      "id": "92221dca",
      "metadata": {},
      "outputs": [],
      "source": [
        "# Carrega o arquivo Excel\n",
        "caminho = '/Users/fabicampanari/Desktop/_8-Prova Matematematica/1-statiscalMeasures_ Hypothesis Testing II./1🇧🇷-statiscalMeasures_ Hypothesis Testing II./answeredCodes_statiscalMeasures/cadastro_funcionarios.xlsx'\n",
        "df = pd.read_excel(caminho)\n"
      ]
    },
    {
      "cell_type": "code",
      "execution_count": 18,
      "id": "1bdd7379",
      "metadata": {},
      "outputs": [
        {
          "name": "stdout",
          "output_type": "stream",
          "text": [
            "   ID estado_civil grau_instrucao  n_filhos  salario  idade reg_proc\n",
            "0   1            s              f         0     4.00     26      int\n",
            "1   2            c              f         1     4.56     32      cap\n",
            "2   3            c              f         2     5.25     36      cap\n",
            "3   4            s              m         0     5.73     20      out\n",
            "4   5            s              f         0     6.26     40      out\n"
          ]
        }
      ],
      "source": [
        "# Visualiza as primeiras linhas do DataFrame\n",
        "print(df.head())"
      ]
    },
    {
      "cell_type": "code",
      "execution_count": 19,
      "id": "d133531f",
      "metadata": {},
      "outputs": [
        {
          "name": "stdout",
          "output_type": "stream",
          "text": [
            "                count       mean       std   min      25%     50%     75%  \\\n",
            "grau_instrucao                                                              \n",
            "f               120.0   7.922667  2.802770  4.00   6.2475   7.365   8.995   \n",
            "m               203.0  11.208522  3.785457  4.43   8.2600  10.500  13.850   \n",
            "s               103.0  14.507864  3.590439  7.60  11.3500  14.550  17.260   \n",
            "\n",
            "                 max  \n",
            "grau_instrucao        \n",
            "f               14.7  \n",
            "m               23.9  \n",
            "s               23.5  \n"
          ]
        }
      ],
      "source": [
        "# Verifica a média de salário por grupo de grau de instrução\n",
        "print(df.groupby(['grau_instrucao'])['salario'].describe())"
      ]
    },
    {
      "cell_type": "code",
      "execution_count": 20,
      "id": "6cef0861",
      "metadata": {},
      "outputs": [
        {
          "data": {
            "text/plain": [
              "<statsmodels.regression.linear_model.RegressionResultsWrapper at 0x10774f1d0>"
            ]
          },
          "execution_count": 20,
          "metadata": {},
          "output_type": "execute_result"
        }
      ],
      "source": [
        "# Gera o modelo para comparar salário por grau de instrução\n",
        "modelo = ols('salario ~ grau_instrucao', data=df).fit()\n",
        "modelo"
      ]
    },
    {
      "cell_type": "code",
      "execution_count": 21,
      "id": "f2bb2d3e",
      "metadata": {},
      "outputs": [
        {
          "name": "stdout",
          "output_type": "stream",
          "text": [
            "Resultados do Teste ANOVA:\n",
            "                   df       sum_sq      mean_sq          F        PR(>F)\n",
            "grau_instrucao    2.0  2409.879383  1204.939691  99.078295  5.116294e-36\n",
            "Residual        423.0  5144.310233    12.161490        NaN           NaN\n"
          ]
        }
      ],
      "source": [
        "# Aplicação ANOVA\n",
        "anova = sm.stats.anova_lm(modelo)\n",
        "print(\"Resultados do Teste ANOVA:\")\n",
        "print(anova)"
      ]
    },
    {
      "cell_type": "code",
      "execution_count": 22,
      "id": "7fd9f989",
      "metadata": {},
      "outputs": [
        {
          "name": "stdout",
          "output_type": "stream",
          "text": [
            "Conclusão: Existe uma diferença significativa nos salários entre os diferentes graus de instrução.\n"
          ]
        },
        {
          "name": "stderr",
          "output_type": "stream",
          "text": [
            "/var/folders/sp/qr0jn46s10x5j0y77wb390d00000gn/T/ipykernel_1360/1741062523.py:2: FutureWarning: Series.__getitem__ treating keys as positions is deprecated. In a future version, integer keys will always be treated as labels (consistent with DataFrame behavior). To access a value by position, use `ser.iloc[pos]`\n",
            "  if anova['PR(>F)'][0] < 0.05:\n"
          ]
        }
      ],
      "source": [
        "# Interpretação dos resultados\n",
        "if anova['PR(>F)'][0] < 0.05:\n",
        "    print(\"Conclusão: Existe uma diferença significativa nos salários entre os diferentes graus de instrução.\")\n",
        "else:\n",
        "    print(\"Conclusão: Não existe uma diferença significativa nos salários entre os diferentes graus de instrução.\")"
      ]
    },
    {
      "cell_type": "markdown",
      "id": "f544fd3f",
      "metadata": {},
      "source": [
        "### Interpretação:\n",
        "#### Valor F: 99.078295\n",
        "#### Valor p (PR(>F)): 5.116294e-36\n",
        "\n",
        "O valor p é extremamente pequeno (5.116294e-36), muito menor que o nível de significância comum (0.05). Isso indica que há uma diferença significativa nos salários entre os diferentes graus de instrução.\n"
      ]
    },
    {
      "cell_type": "code",
      "execution_count": 23,
      "id": "91b20edf",
      "metadata": {},
      "outputs": [
        {
          "name": "stdout",
          "output_type": "stream",
          "text": [
            "Resultados do Teste Post Hoc de Tukey:\n",
            "Multiple Comparison of Means - Tukey HSD, FWER=0.05\n",
            "=================================================\n",
            "group1 group2 meandiff p-adj lower  upper  reject\n",
            "-------------------------------------------------\n",
            "     f      m   3.2859   0.0 2.3414 4.2303   True\n",
            "     f      s   6.5852   0.0 5.4835 7.6869   True\n",
            "     m      s   3.2993   0.0 2.3071 4.2916   True\n",
            "-------------------------------------------------\n"
          ]
        }
      ],
      "source": [
        "# Teste Post Hoc de Tukey para avaliar diferenças específicas\n",
        "#  O teste de Tukey é realizado para identificar diferenças específicas entre os grupos de grau de instrução.x\n",
        "tukey = pairwise_tukeyhsd(endog=df.salario, groups=df.grau_instrucao)\n",
        "print(\"Resultados do Teste Post Hoc de Tukey:\")\n",
        "print(tukey.summary())"
      ]
    },
    {
      "cell_type": "markdown",
      "id": "e748ce81",
      "metadata": {},
      "source": [
        "Interpretação Resultados do Teste Post Hoc de Tukey:\n",
        "#### Colunas:\n",
        "\n",
        "- **group1 e group2**: Representam os grupos de grau de instrução que estão sendo comparados.\n",
        "- **meandiff**: Diferença de média entre os dois grupos comparados.\n",
        "- **p-adj**: Valor p ajustado para múltiplas comparações. Um valor p muito pequeno (próximo de 0) indica que a diferença entre os grupos é estatisticamente significativa.\n",
        "- **lower e upper**: Limites inferior e superior do intervalo de confiança para a diferença de média. Se o intervalo não inclui 0, a diferença é considerada significativa.\n",
        "- **reject**: Indica se a hipótese nula (de que não há diferença entre as médias dos grupos) é rejeitada (True) ou não (False).\n",
        "\n",
        "#### Por que os valores aparecem dessa forma:\n",
        "\n",
        "- **Diferença de Média (meandiff)**: A diferença de média entre os grupos é calculada automaticamente pela função. Por exemplo, a diferença de média entre os grupos f e m é 3.2859.\n",
        "- **Valor p Ajustado (p-adj)**: O valor p ajustado é muito pequeno (0.0), indicando que a diferença entre os grupos é altamente significativa.\n",
        "- **Intervalo de Confiança (lower e upper)**: O intervalo de confiança para a diferença de média é calculado automaticamente. Por exemplo, para a comparação entre f e m, o intervalo de confiança é de 2.3414 a 4.2303.\n",
        "- **Rejeição da Hipótese Nula (reject)**: A coluna reject é True para todas as comparações, indicando que a hipótese nula de que não há diferença entre as médias dos grupos é rejeitada para todas as comparações.\n",
        "\n",
        "### Conclusão:\n",
        "\n",
        "Os resultados do Teste Post Hoc de Tukey indicam que há diferenças significativas nos salários entre todos os pares de graus de instrução. Especificamente:\n",
        "\n",
        "- O salário médio do grupo f é significativamente menor que o do grupo m.\n",
        "- O salário médio do grupo f é significativamente menor que o do grupo s.\n",
        "- O salário médio do grupo m é significativamente menor que o do grupo s.\n",
        "\n",
        "Esses resultados sugerem que o grau de instrução tem um impacto significativo nos salários, com níveis mais altos de instrução associados a salários mais altos.\n"
      ]
    }
  ],
  "metadata": {
    "colab": {
      "provenance": []
    },
    "kernelspec": {
      "display_name": "myenv",
      "language": "python",
      "name": "python3"
    },
    "language_info": {
      "codemirror_mode": {
        "name": "ipython",
        "version": 3
      },
      "file_extension": ".py",
      "mimetype": "text/x-python",
      "name": "python",
      "nbconvert_exporter": "python",
      "pygments_lexer": "ipython3",
      "version": "3.12.6"
    }
  },
  "nbformat": 4,
  "nbformat_minor": 5
}
