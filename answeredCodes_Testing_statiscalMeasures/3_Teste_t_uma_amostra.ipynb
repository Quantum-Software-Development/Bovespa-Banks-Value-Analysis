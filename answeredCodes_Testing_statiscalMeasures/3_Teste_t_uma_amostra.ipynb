{
  "cells": [
    {
      "cell_type": "markdown",
      "id": "554e9b0d",
      "metadata": {},
      "source": [
        "# Exercício 3– Teste a hipótese do salário ser igual a 12. Qual sua conclusão?"
      ]
    },
    {
      "cell_type": "code",
      "execution_count": 1,
      "id": "d7400875",
      "metadata": {
        "id": "d7400875"
      },
      "outputs": [],
      "source": [
        "# importa biblioteca pandas\n",
        "import pandas as pd\n",
        "\n",
        "\n",
        "# importa biblioteca scipy\n",
        "import scipy.stats as stats\n"
      ]
    },
    {
      "cell_type": "code",
      "execution_count": 2,
      "id": "15efaf8d",
      "metadata": {
        "id": "15efaf8d"
      },
      "outputs": [],
      "source": [
        "# local do arquivo\n",
        "Caminho='/Users/fabicampanari/Desktop/_8-Prova Matematematica/1-statiscalMeasures_ Hypothesis Testing II./1🇧🇷-statiscalMeasures_ Hypothesis Testing II./answeredCodes_statiscalMeasures/cadastro_funcionarios.xlsx'\n"
      ]
    },
    {
      "cell_type": "code",
      "execution_count": 3,
      "id": "b560d792",
      "metadata": {
        "id": "b560d792"
      },
      "outputs": [],
      "source": [
        "#Traz o arquivo para o Python\n",
        "df=pd.read_excel(Caminho)"
      ]
    },
    {
      "cell_type": "code",
      "execution_count": 4,
      "id": "58867de4",
      "metadata": {
        "id": "58867de4"
      },
      "outputs": [
        {
          "data": {
            "text/html": [
              "<div>\n",
              "<style scoped>\n",
              "    .dataframe tbody tr th:only-of-type {\n",
              "        vertical-align: middle;\n",
              "    }\n",
              "\n",
              "    .dataframe tbody tr th {\n",
              "        vertical-align: top;\n",
              "    }\n",
              "\n",
              "    .dataframe thead th {\n",
              "        text-align: right;\n",
              "    }\n",
              "</style>\n",
              "<table border=\"1\" class=\"dataframe\">\n",
              "  <thead>\n",
              "    <tr style=\"text-align: right;\">\n",
              "      <th></th>\n",
              "      <th>ID</th>\n",
              "      <th>estado_civil</th>\n",
              "      <th>grau_instrucao</th>\n",
              "      <th>n_filhos</th>\n",
              "      <th>salario</th>\n",
              "      <th>idade</th>\n",
              "      <th>reg_proc</th>\n",
              "    </tr>\n",
              "  </thead>\n",
              "  <tbody>\n",
              "    <tr>\n",
              "      <th>0</th>\n",
              "      <td>1</td>\n",
              "      <td>s</td>\n",
              "      <td>f</td>\n",
              "      <td>0</td>\n",
              "      <td>4.00</td>\n",
              "      <td>26</td>\n",
              "      <td>int</td>\n",
              "    </tr>\n",
              "    <tr>\n",
              "      <th>1</th>\n",
              "      <td>2</td>\n",
              "      <td>c</td>\n",
              "      <td>f</td>\n",
              "      <td>1</td>\n",
              "      <td>4.56</td>\n",
              "      <td>32</td>\n",
              "      <td>cap</td>\n",
              "    </tr>\n",
              "    <tr>\n",
              "      <th>2</th>\n",
              "      <td>3</td>\n",
              "      <td>c</td>\n",
              "      <td>f</td>\n",
              "      <td>2</td>\n",
              "      <td>5.25</td>\n",
              "      <td>36</td>\n",
              "      <td>cap</td>\n",
              "    </tr>\n",
              "    <tr>\n",
              "      <th>3</th>\n",
              "      <td>4</td>\n",
              "      <td>s</td>\n",
              "      <td>m</td>\n",
              "      <td>0</td>\n",
              "      <td>5.73</td>\n",
              "      <td>20</td>\n",
              "      <td>out</td>\n",
              "    </tr>\n",
              "    <tr>\n",
              "      <th>4</th>\n",
              "      <td>5</td>\n",
              "      <td>s</td>\n",
              "      <td>f</td>\n",
              "      <td>0</td>\n",
              "      <td>6.26</td>\n",
              "      <td>40</td>\n",
              "      <td>out</td>\n",
              "    </tr>\n",
              "  </tbody>\n",
              "</table>\n",
              "</div>"
            ],
            "text/plain": [
              "   ID estado_civil grau_instrucao  n_filhos  salario  idade reg_proc\n",
              "0   1            s              f         0     4.00     26      int\n",
              "1   2            c              f         1     4.56     32      cap\n",
              "2   3            c              f         2     5.25     36      cap\n",
              "3   4            s              m         0     5.73     20      out\n",
              "4   5            s              f         0     6.26     40      out"
            ]
          },
          "execution_count": 4,
          "metadata": {},
          "output_type": "execute_result"
        }
      ],
      "source": [
        "df.head( )"
      ]
    },
    {
      "cell_type": "code",
      "execution_count": 5,
      "id": "2cfd685a",
      "metadata": {
        "id": "2cfd685a"
      },
      "outputs": [],
      "source": [
        "# trazer apenas a variável idade para executar o teste\n",
        "base_idade=df['idade']\n"
      ]
    },
    {
      "cell_type": "code",
      "execution_count": 6,
      "id": "be0b2198",
      "metadata": {
        "id": "be0b2198"
      },
      "outputs": [
        {
          "data": {
            "text/plain": [
              "TtestResult(statistic=8.458459436515964, pvalue=4.4022567945723766e-16, df=425)"
            ]
          },
          "execution_count": 6,
          "metadata": {},
          "output_type": "execute_result"
        }
      ],
      "source": [
        "# executa o teste t Testando H0: idade= 32 e H1:idade ≠ 32\n",
        "stats.ttest_1samp(base_idade, 32)"
      ]
    },
    {
      "cell_type": "code",
      "execution_count": 7,
      "id": "1b26a025",
      "metadata": {},
      "outputs": [
        {
          "name": "stdout",
          "output_type": "stream",
          "text": [
            "Rejeitamos a hipótese nula (H0).\n"
          ]
        }
      ],
      "source": [
        "p_value = 4.4022567945723766e-16\n",
        "alpha = 0.05\n",
        "\n",
        "if p_value < alpha:\n",
        "    print(\"Rejeitamos a hipótese nula (H0).\")\n",
        "else:\n",
        "    print(\"Não rejeitamos a hipótese nula (H0).\")"
      ]
    },
    {
      "cell_type": "code",
      "execution_count": 8,
      "id": "84897028",
      "metadata": {
        "id": "84897028"
      },
      "outputs": [
        {
          "data": {
            "text/plain": [
              "34.62206572769953"
            ]
          },
          "execution_count": 8,
          "metadata": {},
          "output_type": "execute_result"
        }
      ],
      "source": [
        "#Lembrando a média\n",
        "df.idade.mean()"
      ]
    },
    {
      "cell_type": "code",
      "execution_count": 9,
      "id": "5b1ec17d",
      "metadata": {
        "id": "5b1ec17d"
      },
      "outputs": [
        {
          "data": {
            "text/plain": [
              "TtestResult(statistic=2.0067070283587505, pvalue=0.045413783138037615, df=425)"
            ]
          },
          "execution_count": 9,
          "metadata": {},
          "output_type": "execute_result"
        }
      ],
      "source": [
        "# executa o teste t Testando H0: idade= 34 e H1:idade ≠ 34\n",
        "stats.ttest_1samp(base_idade, 34)\n",
        "# PARA 95% DE CONFIANÇA REJEITO H0 SE PVALUE < 0.05"
      ]
    },
    {
      "cell_type": "markdown",
      "id": "c038bf1e",
      "metadata": {},
      "source": [
        "# Adicional"
      ]
    },
    {
      "cell_type": "code",
      "execution_count": 10,
      "id": "1eaf84bc",
      "metadata": {},
      "outputs": [
        {
          "name": "stdout",
          "output_type": "stream",
          "text": [
            "Rejeitamos a hipótese nula (H0).\n"
          ]
        }
      ],
      "source": [
        "# Definir o nível de significância\n",
        "alpha = 0.05\n",
        "\n",
        "# Valor-p do teste t\n",
        "p_value = 0.045413783138037615\n",
        "\n",
        "# Decidir se rejeitamos ou não a hipótese nula\n",
        "if p_value < alpha:\n",
        "    print(\"Rejeitamos a hipótese nula (H0).\")\n",
        "else:\n",
        "    print(\"Não rejeitamos a hipótese nula (H0).\")"
      ]
    },
    {
      "cell_type": "markdown",
      "id": "cdc92821",
      "metadata": {},
      "source": [
        "## Com um valor-p de 0.045, que é menor que o nível de significância de 0.05, rejeitamos a hipótese nula. Isso indica que há evidências estatisticamente significativas para sugerir que a idade média dos funcionários é diferente de 34."
      ]
    },
    {
      "cell_type": "code",
      "execution_count": 11,
      "id": "08eaf42a",
      "metadata": {
        "id": "08eaf42a"
      },
      "outputs": [
        {
          "data": {
            "text/plain": [
              "TtestResult(statistic=-1.2191691757198562, pvalue=0.22345620342178218, df=425)"
            ]
          },
          "execution_count": 11,
          "metadata": {},
          "output_type": "execute_result"
        }
      ],
      "source": [
        "# executa o teste t Testando H0: idade= 35 e H1:idade ≠ 35\n",
        "stats.ttest_1samp(base_idade, 35)\n",
        "# PARA 95% DE CONFIANÇA REJEITO H0 SE PVALUE < 0.05"
      ]
    },
    {
      "cell_type": "code",
      "execution_count": 12,
      "id": "9f371417",
      "metadata": {},
      "outputs": [
        {
          "name": "stdout",
          "output_type": "stream",
          "text": [
            "Não rejeitamos a hipótese nula (H0).\n"
          ]
        }
      ],
      "source": [
        "# Definir o nível de significância\n",
        "alpha = 0.05\n",
        "\n",
        "# Valor-p do teste t\n",
        "p_value = 0.22345620342178218\n",
        "\n",
        "# Decidir se rejeitamos ou não a hipótese nula\n",
        "if p_value < alpha:\n",
        "    print(\"Rejeitamos a hipótese nula (H0).\")\n",
        "else:\n",
        "    print(\"Não rejeitamos a hipótese nula (H0).\")"
      ]
    },
    {
      "cell_type": "markdown",
      "id": "b1f22bc0",
      "metadata": {},
      "source": [
        "### Com um valor-p de 0.2234, que é maior que o nível de significância de 0.05, não rejeitamos a hipótese nula. Isso significa que não há evidências suficientes para concluir que a idade média dos funcionários é diferente do valor hipotetizado (32, 35 ou qualquer outro valor que estava sendo testado)"
      ]
    },
    {
      "cell_type": "code",
      "execution_count": null,
      "id": "2ccd617a",
      "metadata": {
        "id": "2ccd617a"
      },
      "outputs": [],
      "source": []
    },
    {
      "cell_type": "markdown",
      "id": "6b3c573b",
      "metadata": {},
      "source": [
        "### Repondendo a questao 3\n",
        "\n",
        "### Teste a hipótese do salário ser igual a 12. Qual sua conclusão?"
      ]
    },
    {
      "cell_type": "code",
      "execution_count": 13,
      "id": "045c4fed",
      "metadata": {},
      "outputs": [],
      "source": [
        "import pandas as pd\n",
        "import scipy.stats as stats\n"
      ]
    },
    {
      "cell_type": "code",
      "execution_count": 14,
      "id": "69747497",
      "metadata": {},
      "outputs": [],
      "source": [
        "# Local do arquivo\n",
        "Caminho = '/Users/fabicampanari/Desktop/_8-Prova Matematematica/1-statiscalMeasures_ Hypothesis Testing II./1🇧🇷-statiscalMeasures_ Hypothesis Testing II./answeredCodes_statiscalMeasures/cadastro_funcionarios.xlsx'"
      ]
    },
    {
      "cell_type": "code",
      "execution_count": 15,
      "id": "56f5fc9e",
      "metadata": {},
      "outputs": [],
      "source": [
        "# Carregar os dados\n",
        "df = pd.read_excel(Caminho)"
      ]
    },
    {
      "cell_type": "code",
      "execution_count": 16,
      "id": "281e6ae6",
      "metadata": {},
      "outputs": [],
      "source": [
        "#Traz o arquivo para o Python\n",
        "df=pd.read_excel(Caminho)"
      ]
    },
    {
      "cell_type": "code",
      "execution_count": 17,
      "id": "c646d77b",
      "metadata": {},
      "outputs": [
        {
          "data": {
            "text/html": [
              "<div>\n",
              "<style scoped>\n",
              "    .dataframe tbody tr th:only-of-type {\n",
              "        vertical-align: middle;\n",
              "    }\n",
              "\n",
              "    .dataframe tbody tr th {\n",
              "        vertical-align: top;\n",
              "    }\n",
              "\n",
              "    .dataframe thead th {\n",
              "        text-align: right;\n",
              "    }\n",
              "</style>\n",
              "<table border=\"1\" class=\"dataframe\">\n",
              "  <thead>\n",
              "    <tr style=\"text-align: right;\">\n",
              "      <th></th>\n",
              "      <th>ID</th>\n",
              "      <th>estado_civil</th>\n",
              "      <th>grau_instrucao</th>\n",
              "      <th>n_filhos</th>\n",
              "      <th>salario</th>\n",
              "      <th>idade</th>\n",
              "      <th>reg_proc</th>\n",
              "    </tr>\n",
              "  </thead>\n",
              "  <tbody>\n",
              "    <tr>\n",
              "      <th>0</th>\n",
              "      <td>1</td>\n",
              "      <td>s</td>\n",
              "      <td>f</td>\n",
              "      <td>0</td>\n",
              "      <td>4.00</td>\n",
              "      <td>26</td>\n",
              "      <td>int</td>\n",
              "    </tr>\n",
              "    <tr>\n",
              "      <th>1</th>\n",
              "      <td>2</td>\n",
              "      <td>c</td>\n",
              "      <td>f</td>\n",
              "      <td>1</td>\n",
              "      <td>4.56</td>\n",
              "      <td>32</td>\n",
              "      <td>cap</td>\n",
              "    </tr>\n",
              "    <tr>\n",
              "      <th>2</th>\n",
              "      <td>3</td>\n",
              "      <td>c</td>\n",
              "      <td>f</td>\n",
              "      <td>2</td>\n",
              "      <td>5.25</td>\n",
              "      <td>36</td>\n",
              "      <td>cap</td>\n",
              "    </tr>\n",
              "    <tr>\n",
              "      <th>3</th>\n",
              "      <td>4</td>\n",
              "      <td>s</td>\n",
              "      <td>m</td>\n",
              "      <td>0</td>\n",
              "      <td>5.73</td>\n",
              "      <td>20</td>\n",
              "      <td>out</td>\n",
              "    </tr>\n",
              "    <tr>\n",
              "      <th>4</th>\n",
              "      <td>5</td>\n",
              "      <td>s</td>\n",
              "      <td>f</td>\n",
              "      <td>0</td>\n",
              "      <td>6.26</td>\n",
              "      <td>40</td>\n",
              "      <td>out</td>\n",
              "    </tr>\n",
              "  </tbody>\n",
              "</table>\n",
              "</div>"
            ],
            "text/plain": [
              "   ID estado_civil grau_instrucao  n_filhos  salario  idade reg_proc\n",
              "0   1            s              f         0     4.00     26      int\n",
              "1   2            c              f         1     4.56     32      cap\n",
              "2   3            c              f         2     5.25     36      cap\n",
              "3   4            s              m         0     5.73     20      out\n",
              "4   5            s              f         0     6.26     40      out"
            ]
          },
          "execution_count": 17,
          "metadata": {},
          "output_type": "execute_result"
        }
      ],
      "source": [
        "df.head( )"
      ]
    },
    {
      "cell_type": "code",
      "execution_count": 18,
      "id": "eed5a650",
      "metadata": {},
      "outputs": [],
      "source": [
        "# Selecionar a variável de interesse (salário)\n",
        "salarios = df['salario']"
      ]
    },
    {
      "cell_type": "code",
      "execution_count": 19,
      "id": "d27d6338",
      "metadata": {},
      "outputs": [
        {
          "data": {
            "text/plain": [
              "TtestResult(statistic=-4.500727991746298, pvalue=8.755117588192511e-06, df=425)"
            ]
          },
          "execution_count": 19,
          "metadata": {},
          "output_type": "execute_result"
        }
      ],
      "source": [
        "# Executar o teste t Testando H0: salario = 12 e H1: salario ≠ 12\n",
        "resultado_teste = stats.ttest_1samp(salarios, 12)\n",
        "resultado_teste"
      ]
    },
    {
      "cell_type": "code",
      "execution_count": 20,
      "id": "4eded798",
      "metadata": {},
      "outputs": [
        {
          "data": {
            "text/plain": [
              "8.755117588192511e-06"
            ]
          },
          "execution_count": 20,
          "metadata": {},
          "output_type": "execute_result"
        }
      ],
      "source": [
        "# Obter o valor-p do resultado do teste\n",
        "p_value = resultado_teste.pvalue\n",
        "p_value"
      ]
    },
    {
      "cell_type": "code",
      "execution_count": 21,
      "id": "03601372",
      "metadata": {},
      "outputs": [],
      "source": [
        "# Definir o nível de significância\n",
        "alpha = 0.05"
      ]
    },
    {
      "cell_type": "code",
      "execution_count": 22,
      "id": "3d35125d",
      "metadata": {},
      "outputs": [
        {
          "name": "stdout",
          "output_type": "stream",
          "text": [
            "Rejeitamos a hipótese nula (H0).\n"
          ]
        }
      ],
      "source": [
        "# Interpretar o resultado\n",
        "p_value = 8.755117588192511e-06\n",
        "alpha = 0.05\n",
        "\n",
        "if p_value < alpha:\n",
        "    print(\"Rejeitamos a hipótese nula (H0).\")\n",
        "else:\n",
        "    print(\"Não rejeitamos a hipótese nula (H0).\")"
      ]
    },
    {
      "cell_type": "code",
      "execution_count": 23,
      "id": "92278b07",
      "metadata": {},
      "outputs": [
        {
          "name": "stdout",
          "output_type": "stream",
          "text": [
            "Estatística do teste t: -4.500727991746298\n",
            "Valor-p: 8.755117588192511e-06\n",
            "Rejeitamos a hipótese nula (H0).\n"
          ]
        }
      ],
      "source": [
        "# Definir a conclusão com base no valor-p e no nível de significância\n",
        "if p_value < alpha:\n",
        "    conclusao = \"Rejeitamos a hipótese nula (H0).\"\n",
        "else:\n",
        "    conclusao = \"Não rejeitamos a hipótese nula (H0).\"\n",
        "\n",
        "# Exibir o resultado do teste e a conclusão\n",
        "print(f\"Estatística do teste t: {resultado_teste.statistic}\")\n",
        "print(f\"Valor-p: {resultado_teste.pvalue}\")\n",
        "print(conclusao)"
      ]
    },
    {
      "cell_type": "markdown",
      "id": "6b8cda19",
      "metadata": {},
      "source": [
        "### Análise e Conclusão com bano valor-p e no nível de significância\n",
        "\n",
        "No teste de hipótese realizado, testamos a hipótese nula (H0) de que o salário médio dos funcionários é igual a 12 contra a hipótese alternativa (H1) de que o salário médio dos funcionários é diferente de 12.\n",
        "\n",
        "Os resultados do teste t foram os seguintes:\n",
        "- Estatística do teste t: -4.500727991746298\n",
        "- Valor-p: 8.755117588192511e-06\n",
        "\n",
        "Com um valor-p de aproximadamente 8.76e-06, que é significativamente menor que o nível de significância de 0.05, rejeitamos a hipótese nula (H0). Isso indica que há evidências estatisticamente significativas para sugerir que o salário médio dos funcionários é diferente de 12.\n",
        "\n",
        "Portanto, a conclusão do teste é que rejeitamos a hipótese nula (H0) e aceitamos a hipótese alternativa (H1), indicando que o salário médio dos funcionários não é igual a 12."
      ]
    },
    {
      "cell_type": "markdown",
      "id": "1030de78",
      "metadata": {},
      "source": []
    }
  ],
  "metadata": {
    "colab": {
      "provenance": []
    },
    "kernelspec": {
      "display_name": "myenv",
      "language": "python",
      "name": "python3"
    },
    "language_info": {
      "codemirror_mode": {
        "name": "ipython",
        "version": 3
      },
      "file_extension": ".py",
      "mimetype": "text/x-python",
      "name": "python",
      "nbconvert_exporter": "python",
      "pygments_lexer": "ipython3",
      "version": "3.12.6"
    }
  },
  "nbformat": 4,
  "nbformat_minor": 5
}
