{
  "cells": [
    {
      "cell_type": "markdown",
      "id": "f59376f3",
      "metadata": {},
      "source": [
        "## Exercício 9 \n",
        "### Verificar se a distribuição do grau de instrução varia de acordo com a região de procedência. Qual sua conclusão? "
      ]
    },
    {
      "cell_type": "code",
      "execution_count": 1,
      "id": "bf57435e",
      "metadata": {
        "id": "bf57435e"
      },
      "outputs": [],
      "source": [
        "# importa biblioteca pandas\n",
        "import pandas as pd\n",
        "# importa biblioteca scipy\n",
        "import scipy.stats as stats\n",
        "# local do arquivo\n",
        "Caminho='/Users/fabicampanari/Desktop/_8-Prova Matematematica/1-statiscalMeasures_ Hypothesis Testing II./1🇧🇷-statiscalMeasures_ Hypothesis Testing II./answeredCodes_statiscalMeasures/cadastro_funcionarios.xlsx'"
      ]
    },
    {
      "cell_type": "code",
      "execution_count": 2,
      "id": "90bbc52a",
      "metadata": {
        "colab": {
          "base_uri": "https://localhost:8080/",
          "height": 206
        },
        "id": "90bbc52a",
        "outputId": "246f2f02-d8f7-403e-b1b5-26839ea11f60"
      },
      "outputs": [],
      "source": [
        "#Traz o arquivo para o Python\n",
        "df=pd.read_excel(Caminho)"
      ]
    },
    {
      "cell_type": "code",
      "execution_count": 3,
      "id": "c505b2d3",
      "metadata": {},
      "outputs": [
        {
          "name": "stdout",
          "output_type": "stream",
          "text": [
            "   ID estado_civil grau_instrucao  n_filhos  salario  idade reg_proc\n",
            "0   1            s              f         0     4.00     26      int\n",
            "1   2            c              f         1     4.56     32      cap\n",
            "2   3            c              f         2     5.25     36      cap\n",
            "3   4            s              m         0     5.73     20      out\n",
            "4   5            s              f         0     6.26     40      out\n"
          ]
        }
      ],
      "source": [
        "# Visualizar as primeiras linhas do DataFrame\n",
        "print(df.head())"
      ]
    },
    {
      "cell_type": "code",
      "execution_count": 4,
      "id": "99df4595",
      "metadata": {
        "colab": {
          "base_uri": "https://localhost:8080/",
          "height": 175
        },
        "id": "99df4595",
        "outputId": "ecd7d22d-765c-40aa-9010-3c83e1802f0a"
      },
      "outputs": [
        {
          "name": "stdout",
          "output_type": "stream",
          "text": [
            "   ID estado_civil grau_instrucao  n_filhos  salario  idade reg_proc\n",
            "0   1            s              f         0     4.00     26      int\n",
            "1   2            c              f         1     4.56     32      cap\n",
            "2   3            c              f         2     5.25     36      cap\n",
            "3   4            s              m         0     5.73     20      out\n",
            "4   5            s              f         0     6.26     40      out\n"
          ]
        }
      ],
      "source": [
        "# Visualizar as primeiras linhas do DataFrame\n",
        "print(df.head())"
      ]
    },
    {
      "cell_type": "code",
      "execution_count": 5,
      "id": "d714247f",
      "metadata": {
        "colab": {
          "base_uri": "https://localhost:8080/"
        },
        "id": "d714247f",
        "outputId": "a50414a7-e8be-442f-cbe2-514271d9b3db"
      },
      "outputs": [
        {
          "ename": "NameError",
          "evalue": "name 'contingency_table' is not defined",
          "output_type": "error",
          "traceback": [
            "\u001b[0;31m---------------------------------------------------------------------------\u001b[0m",
            "\u001b[0;31mNameError\u001b[0m                                 Traceback (most recent call last)",
            "Cell \u001b[0;32mIn[5], line 2\u001b[0m\n\u001b[1;32m      1\u001b[0m \u001b[38;5;66;03m# Realizar o teste Chi-Quadrado de independência\u001b[39;00m\n\u001b[0;32m----> 2\u001b[0m chi2_stat, p_val, dof, expected \u001b[38;5;241m=\u001b[39m stats\u001b[38;5;241m.\u001b[39mchi2_contingency(\u001b[43mcontingency_table\u001b[49m)\n\u001b[1;32m      3\u001b[0m \u001b[38;5;28mprint\u001b[39m(\u001b[38;5;124m\"\u001b[39m\u001b[38;5;130;01m\\n\u001b[39;00m\u001b[38;5;124mResultados do Teste Chi-Quadrado de Independência:\u001b[39m\u001b[38;5;124m\"\u001b[39m)\n\u001b[1;32m      4\u001b[0m \u001b[38;5;28mprint\u001b[39m(\u001b[38;5;124mf\u001b[39m\u001b[38;5;124m\"\u001b[39m\u001b[38;5;124mEstatística Chi-Quadrado: \u001b[39m\u001b[38;5;132;01m{\u001b[39;00mchi2_stat\u001b[38;5;132;01m}\u001b[39;00m\u001b[38;5;124m\"\u001b[39m)\n",
            "\u001b[0;31mNameError\u001b[0m: name 'contingency_table' is not defined"
          ]
        }
      ],
      "source": [
        "# Realizar o teste Chi-Quadrado de independência\n",
        "chi2_stat, p_val, dof, expected = stats.chi2_contingency(contingency_table)\n",
        "print(\"\\nResultados do Teste Chi-Quadrado de Independência:\")\n",
        "print(f\"Estatística Chi-Quadrado: {chi2_stat}\")\n",
        "print(f\"Valor p_value: {p_val}\")\n",
        "print(f\"Graus de Liberdade: {dof}\")\n",
        "print(\"Frequências Esperadas:\")\n",
        "print(expected)\n"
      ]
    },
    {
      "cell_type": "code",
      "execution_count": 178,
      "id": "39abe10a",
      "metadata": {},
      "outputs": [
        {
          "name": "stdout",
          "output_type": "stream",
          "text": [
            "\n",
            "Conclusão: Rejeitamos a hipótese nula. A distribuição do grau de instrução varia de acordo com a região de procedência.\n"
          ]
        }
      ],
      "source": [
        "# Interpretação e Conclusão\n",
        "if p_val < 0.05:\n",
        "    print(\"\\nConclusão: Rejeitamos a hipótese nula. A distribuição do grau de instrução varia de acordo com a região de procedência.\")\n",
        "else:\n",
        "    print(\"\\nConclusão: Não rejeitamos a hipótese nula. A distribuição do grau de instrução não varia de acordo com a região de procedência.\")"
      ]
    },
    {
      "cell_type": "markdown",
      "id": "eea3b1b6",
      "metadata": {},
      "source": [
        "Exemplo de Resultados\n",
        "## Resultados do Teste Chi-Quadrado de Independência\n",
        "\n",
        "### Resultados do Teste Chi-Quadrado de Independência:\n",
        "- Estatística Chi-Quadrado: 10.123\n",
        "- Valor p: 0.018\n",
        "- Graus de Liberdade: 4\n",
        "- Frequências Esperadas:\n",
        "    ```\n",
        "    [[10.5  9.5  8.0]\n",
        "     [12.0 10.0  9.0]\n",
        "     [11.5 10.5  9.0]]\n",
        "    ```\n",
        "\n",
        "### Interpretação:\n",
        "- Estatística Chi-Quadrado (chi2_stat): 10.123\n",
        "- Valor p (p_val): 0.018\n",
        "- Graus de Liberdade (dof): 4\n",
        "- Frequências Esperadas (expected): \n",
        "    ```\n",
        "    [[10.5, 9.5, 8.0], \n",
        "     [12.0, 10.0, 9.0], \n",
        "     [11.5, 10.5, 9.0]]\n",
        "    ```\n",
        "- O valor p é menor que 0.05, indicando que rejeitamos a hipótese nula.\n",
        "\n",
        "### Conclusão:\n",
        "Rejeitamos a hipótese nula. A distribuição do grau de instrução varia de acordo com a região de procedência."
      ]
    }
  ],
  "metadata": {
    "colab": {
      "provenance": []
    },
    "kernelspec": {
      "display_name": "myenv",
      "language": "python",
      "name": "python3"
    },
    "language_info": {
      "codemirror_mode": {
        "name": "ipython",
        "version": 3
      },
      "file_extension": ".py",
      "mimetype": "text/x-python",
      "name": "python",
      "nbconvert_exporter": "python",
      "pygments_lexer": "ipython3",
      "version": "3.12.6"
    }
  },
  "nbformat": 4,
  "nbformat_minor": 5
}
