{
  "cells": [
    {
      "cell_type": "markdown",
      "id": "35683c4b",
      "metadata": {},
      "source": [
        "## Exercício 7 \n",
        "### Teste a hipótese de o salário ser o mesmo independente do grau de instrução e estado civil, avaliando ainda a interação.Qual sua conclusão ?"
      ]
    },
    {
      "cell_type": "code",
      "execution_count": 1,
      "id": "ea0baa45",
      "metadata": {
        "id": "ea0baa45"
      },
      "outputs": [],
      "source": [
        "# importa biblioteca pandas\n",
        "import pandas as pd\n",
        "\n",
        "# importa biblioteca statsmodels\n",
        "import statsmodels.api as sm\n",
        "\n",
        "# local do arquivo\n",
        "Caminho='/Users/fabicampanari/Desktop/_8-Prova Matematematica/1-statiscalMeasures_ Hypothesis Testing II./1🇧🇷-statiscalMeasures_ Hypothesis Testing II./answeredCodes_statiscalMeasures/cadastro_funcionarios.xlsx'\n"
      ]
    },
    {
      "cell_type": "code",
      "execution_count": 2,
      "id": "c8c3caad",
      "metadata": {
        "id": "c8c3caad"
      },
      "outputs": [],
      "source": [
        "#Traz o arquivo para o Python\n",
        "df=pd.read_excel(Caminho)\n"
      ]
    },
    {
      "cell_type": "code",
      "execution_count": 3,
      "id": "89e26cd3",
      "metadata": {
        "colab": {
          "base_uri": "https://localhost:8080/",
          "height": 206
        },
        "id": "89e26cd3",
        "outputId": "7b976ae2-1102-4837-da5f-fce6b3d99e30"
      },
      "outputs": [
        {
          "data": {
            "text/html": [
              "<div>\n",
              "<style scoped>\n",
              "    .dataframe tbody tr th:only-of-type {\n",
              "        vertical-align: middle;\n",
              "    }\n",
              "\n",
              "    .dataframe tbody tr th {\n",
              "        vertical-align: top;\n",
              "    }\n",
              "\n",
              "    .dataframe thead th {\n",
              "        text-align: right;\n",
              "    }\n",
              "</style>\n",
              "<table border=\"1\" class=\"dataframe\">\n",
              "  <thead>\n",
              "    <tr style=\"text-align: right;\">\n",
              "      <th></th>\n",
              "      <th>ID</th>\n",
              "      <th>estado_civil</th>\n",
              "      <th>grau_instrucao</th>\n",
              "      <th>n_filhos</th>\n",
              "      <th>salario</th>\n",
              "      <th>idade</th>\n",
              "      <th>reg_proc</th>\n",
              "    </tr>\n",
              "  </thead>\n",
              "  <tbody>\n",
              "    <tr>\n",
              "      <th>0</th>\n",
              "      <td>1</td>\n",
              "      <td>s</td>\n",
              "      <td>f</td>\n",
              "      <td>0</td>\n",
              "      <td>4.00</td>\n",
              "      <td>26</td>\n",
              "      <td>int</td>\n",
              "    </tr>\n",
              "    <tr>\n",
              "      <th>1</th>\n",
              "      <td>2</td>\n",
              "      <td>c</td>\n",
              "      <td>f</td>\n",
              "      <td>1</td>\n",
              "      <td>4.56</td>\n",
              "      <td>32</td>\n",
              "      <td>cap</td>\n",
              "    </tr>\n",
              "    <tr>\n",
              "      <th>2</th>\n",
              "      <td>3</td>\n",
              "      <td>c</td>\n",
              "      <td>f</td>\n",
              "      <td>2</td>\n",
              "      <td>5.25</td>\n",
              "      <td>36</td>\n",
              "      <td>cap</td>\n",
              "    </tr>\n",
              "    <tr>\n",
              "      <th>3</th>\n",
              "      <td>4</td>\n",
              "      <td>s</td>\n",
              "      <td>m</td>\n",
              "      <td>0</td>\n",
              "      <td>5.73</td>\n",
              "      <td>20</td>\n",
              "      <td>out</td>\n",
              "    </tr>\n",
              "    <tr>\n",
              "      <th>4</th>\n",
              "      <td>5</td>\n",
              "      <td>s</td>\n",
              "      <td>f</td>\n",
              "      <td>0</td>\n",
              "      <td>6.26</td>\n",
              "      <td>40</td>\n",
              "      <td>out</td>\n",
              "    </tr>\n",
              "  </tbody>\n",
              "</table>\n",
              "</div>"
            ],
            "text/plain": [
              "   ID estado_civil grau_instrucao  n_filhos  salario  idade reg_proc\n",
              "0   1            s              f         0     4.00     26      int\n",
              "1   2            c              f         1     4.56     32      cap\n",
              "2   3            c              f         2     5.25     36      cap\n",
              "3   4            s              m         0     5.73     20      out\n",
              "4   5            s              f         0     6.26     40      out"
            ]
          },
          "execution_count": 3,
          "metadata": {},
          "output_type": "execute_result"
        }
      ],
      "source": [
        "df.head( )\n"
      ]
    },
    {
      "cell_type": "code",
      "execution_count": 4,
      "id": "ba9e7b19",
      "metadata": {
        "colab": {
          "base_uri": "https://localhost:8080/",
          "height": 175
        },
        "id": "ba9e7b19",
        "outputId": "0e1dd2f0-bb01-4b74-c684-463c7d492c21"
      },
      "outputs": [
        {
          "data": {
            "text/html": [
              "<div>\n",
              "<style scoped>\n",
              "    .dataframe tbody tr th:only-of-type {\n",
              "        vertical-align: middle;\n",
              "    }\n",
              "\n",
              "    .dataframe tbody tr th {\n",
              "        vertical-align: top;\n",
              "    }\n",
              "\n",
              "    .dataframe thead th {\n",
              "        text-align: right;\n",
              "    }\n",
              "</style>\n",
              "<table border=\"1\" class=\"dataframe\">\n",
              "  <thead>\n",
              "    <tr style=\"text-align: right;\">\n",
              "      <th></th>\n",
              "      <th>count</th>\n",
              "      <th>mean</th>\n",
              "      <th>std</th>\n",
              "      <th>min</th>\n",
              "      <th>25%</th>\n",
              "      <th>50%</th>\n",
              "      <th>75%</th>\n",
              "      <th>max</th>\n",
              "    </tr>\n",
              "    <tr>\n",
              "      <th>grau_instrucao</th>\n",
              "      <th></th>\n",
              "      <th></th>\n",
              "      <th></th>\n",
              "      <th></th>\n",
              "      <th></th>\n",
              "      <th></th>\n",
              "      <th></th>\n",
              "      <th></th>\n",
              "    </tr>\n",
              "  </thead>\n",
              "  <tbody>\n",
              "    <tr>\n",
              "      <th>f</th>\n",
              "      <td>120.0</td>\n",
              "      <td>35.533333</td>\n",
              "      <td>6.925696</td>\n",
              "      <td>20.0</td>\n",
              "      <td>28.0</td>\n",
              "      <td>37.0</td>\n",
              "      <td>41.0</td>\n",
              "      <td>49.0</td>\n",
              "    </tr>\n",
              "    <tr>\n",
              "      <th>m</th>\n",
              "      <td>203.0</td>\n",
              "      <td>34.556650</td>\n",
              "      <td>6.145955</td>\n",
              "      <td>20.0</td>\n",
              "      <td>31.0</td>\n",
              "      <td>35.0</td>\n",
              "      <td>37.0</td>\n",
              "      <td>49.0</td>\n",
              "    </tr>\n",
              "    <tr>\n",
              "      <th>s</th>\n",
              "      <td>103.0</td>\n",
              "      <td>33.689320</td>\n",
              "      <td>6.159687</td>\n",
              "      <td>22.0</td>\n",
              "      <td>31.0</td>\n",
              "      <td>33.0</td>\n",
              "      <td>38.0</td>\n",
              "      <td>49.0</td>\n",
              "    </tr>\n",
              "  </tbody>\n",
              "</table>\n",
              "</div>"
            ],
            "text/plain": [
              "                count       mean       std   min   25%   50%   75%   max\n",
              "grau_instrucao                                                          \n",
              "f               120.0  35.533333  6.925696  20.0  28.0  37.0  41.0  49.0\n",
              "m               203.0  34.556650  6.145955  20.0  31.0  35.0  37.0  49.0\n",
              "s               103.0  33.689320  6.159687  22.0  31.0  33.0  38.0  49.0"
            ]
          },
          "execution_count": 4,
          "metadata": {},
          "output_type": "execute_result"
        }
      ],
      "source": [
        "#Verifica a média de idade por grau de instrução\n",
        "df.groupby(['grau_instrucao'])['idade'].describe()"
      ]
    },
    {
      "cell_type": "code",
      "execution_count": 5,
      "id": "9cd4a2b8",
      "metadata": {
        "colab": {
          "base_uri": "https://localhost:8080/",
          "height": 143
        },
        "id": "9cd4a2b8",
        "outputId": "de55029b-d937-40ac-f286-3528b3aa1f9e"
      },
      "outputs": [
        {
          "data": {
            "text/html": [
              "<div>\n",
              "<style scoped>\n",
              "    .dataframe tbody tr th:only-of-type {\n",
              "        vertical-align: middle;\n",
              "    }\n",
              "\n",
              "    .dataframe tbody tr th {\n",
              "        vertical-align: top;\n",
              "    }\n",
              "\n",
              "    .dataframe thead th {\n",
              "        text-align: right;\n",
              "    }\n",
              "</style>\n",
              "<table border=\"1\" class=\"dataframe\">\n",
              "  <thead>\n",
              "    <tr style=\"text-align: right;\">\n",
              "      <th></th>\n",
              "      <th>count</th>\n",
              "      <th>mean</th>\n",
              "      <th>std</th>\n",
              "      <th>min</th>\n",
              "      <th>25%</th>\n",
              "      <th>50%</th>\n",
              "      <th>75%</th>\n",
              "      <th>max</th>\n",
              "    </tr>\n",
              "    <tr>\n",
              "      <th>estado_civil</th>\n",
              "      <th></th>\n",
              "      <th></th>\n",
              "      <th></th>\n",
              "      <th></th>\n",
              "      <th></th>\n",
              "      <th></th>\n",
              "      <th></th>\n",
              "      <th></th>\n",
              "    </tr>\n",
              "  </thead>\n",
              "  <tbody>\n",
              "    <tr>\n",
              "      <th>c</th>\n",
              "      <td>244.0</td>\n",
              "      <td>35.094262</td>\n",
              "      <td>5.761670</td>\n",
              "      <td>25.0</td>\n",
              "      <td>31.0</td>\n",
              "      <td>35.0</td>\n",
              "      <td>39.0</td>\n",
              "      <td>49.0</td>\n",
              "    </tr>\n",
              "    <tr>\n",
              "      <th>s</th>\n",
              "      <td>182.0</td>\n",
              "      <td>33.989011</td>\n",
              "      <td>7.130968</td>\n",
              "      <td>20.0</td>\n",
              "      <td>27.0</td>\n",
              "      <td>34.0</td>\n",
              "      <td>41.0</td>\n",
              "      <td>46.0</td>\n",
              "    </tr>\n",
              "  </tbody>\n",
              "</table>\n",
              "</div>"
            ],
            "text/plain": [
              "              count       mean       std   min   25%   50%   75%   max\n",
              "estado_civil                                                          \n",
              "c             244.0  35.094262  5.761670  25.0  31.0  35.0  39.0  49.0\n",
              "s             182.0  33.989011  7.130968  20.0  27.0  34.0  41.0  46.0"
            ]
          },
          "execution_count": 5,
          "metadata": {},
          "output_type": "execute_result"
        }
      ],
      "source": [
        "#Verifica a média de idade por estado_civil\n",
        "df.groupby(['estado_civil'])['idade'].describe()"
      ]
    },
    {
      "cell_type": "code",
      "execution_count": 6,
      "id": "d7c1455b",
      "metadata": {
        "id": "d7c1455b"
      },
      "outputs": [],
      "source": [
        "#Gera o modelo para comparar idade por grau de instrução e região\n",
        "from statsmodels.formula.api import ols\n",
        "modelo=ols('idade ~ grau_instrucao + estado_civil + grau_instrucao:estado_civil ',data=df).fit()"
      ]
    },
    {
      "cell_type": "code",
      "execution_count": 7,
      "id": "0221936b",
      "metadata": {
        "colab": {
          "base_uri": "https://localhost:8080/"
        },
        "id": "0221936b",
        "outputId": "00ed081e-a8f5-4aa1-ad63-3a3706ae01d2"
      },
      "outputs": [
        {
          "name": "stdout",
          "output_type": "stream",
          "text": [
            "                                df        sum_sq     mean_sq         F  \\\n",
            "grau_instrucao                 2.0    190.129141   95.064570  2.385647   \n",
            "estado_civil                   1.0    151.018755  151.018755  3.789819   \n",
            "grau_instrucao:estado_civil    2.0    320.616846  160.308423  4.022943   \n",
            "Residual                     420.0  16736.387841   39.848542       NaN   \n",
            "\n",
            "                               PR(>F)  \n",
            "grau_instrucao               0.093275  \n",
            "estado_civil                 0.052232  \n",
            "grau_instrucao:estado_civil  0.018594  \n",
            "Residual                          NaN  \n"
          ]
        }
      ],
      "source": [
        "#Aplicação ANOVA Testando H0: μf= μm=μs   H1: Ao menos um diferente\n",
        "#H0: μc= μs   H1: Ao menos um diferente\n",
        "\n",
        "anova=sm.stats.anova_lm(modelo)\n",
        "print(anova)"
      ]
    },
    {
      "cell_type": "code",
      "execution_count": 8,
      "id": "5b8f24e5",
      "metadata": {
        "colab": {
          "base_uri": "https://localhost:8080/",
          "height": 95
        },
        "id": "5b8f24e5",
        "outputId": "6d9d1a9a-11ef-418e-b928-678bb3e01ece"
      },
      "outputs": [
        {
          "data": {
            "text/html": [
              "<table class=\"simpletable\">\n",
              "<caption>Multiple Comparison of Means - Tukey HSD, FWER=0.05</caption>\n",
              "<tr>\n",
              "  <th>group1</th> <th>group2</th> <th>meandiff</th>  <th>p-adj</th>  <th>lower</th>   <th>upper</th> <th>reject</th>\n",
              "</tr>\n",
              "<tr>\n",
              "     <td>c</td>      <td>s</td>    <td>-1.1053</td> <td>0.0778</td> <td>-2.3339</td> <td>0.1234</td>  <td>False</td>\n",
              "</tr>\n",
              "</table>"
            ],
            "text/latex": [
              "\\begin{center}\n",
              "\\begin{tabular}{ccccccc}\n",
              "\\toprule\n",
              "\\textbf{group1} & \\textbf{group2} & \\textbf{meandiff} & \\textbf{p-adj} & \\textbf{lower} & \\textbf{upper} & \\textbf{reject}  \\\\\n",
              "\\midrule\n",
              "       c        &        s        &      -1.1053      &     0.0778     &    -2.3339     &     0.1234     &      False       \\\\\n",
              "\\bottomrule\n",
              "\\end{tabular}\n",
              "%\\caption{Multiple Comparison of Means - Tukey HSD, FWER=0.05}\n",
              "\\end{center}"
            ],
            "text/plain": [
              "<class 'statsmodels.iolib.table.SimpleTable'>"
            ]
          },
          "execution_count": 8,
          "metadata": {},
          "output_type": "execute_result"
        }
      ],
      "source": [
        "#Teste Post Hoc de Tukey para avaliar diferenças no estado civil\n",
        "from statsmodels.stats.multicomp import pairwise_tukeyhsd\n",
        "tukey=pairwise_tukeyhsd(endog=df.idade, groups=df.estado_civil)\n",
        "tukey.summary ( )"
      ]
    },
    {
      "cell_type": "code",
      "execution_count": 9,
      "id": "d219a36c",
      "metadata": {
        "colab": {
          "base_uri": "https://localhost:8080/",
          "height": 137
        },
        "id": "d219a36c",
        "outputId": "2f995fc4-750e-43fc-bd9f-7df43dc93e88"
      },
      "outputs": [
        {
          "data": {
            "text/html": [
              "<table class=\"simpletable\">\n",
              "<caption>Multiple Comparison of Means - Tukey HSD, FWER=0.05</caption>\n",
              "<tr>\n",
              "  <th>group1</th> <th>group2</th> <th>meandiff</th>  <th>p-adj</th>  <th>lower</th>   <th>upper</th> <th>reject</th>\n",
              "</tr>\n",
              "<tr>\n",
              "     <td>f</td>      <td>m</td>    <td>-0.9767</td> <td>0.3794</td> <td>-2.7041</td> <td>0.7507</td>  <td>False</td>\n",
              "</tr>\n",
              "<tr>\n",
              "     <td>f</td>      <td>s</td>    <td>-1.844</td>  <td>0.0808</td> <td>-3.859</td>   <td>0.171</td>  <td>False</td>\n",
              "</tr>\n",
              "<tr>\n",
              "     <td>m</td>      <td>s</td>    <td>-0.8673</td> <td>0.4997</td> <td>-2.6821</td> <td>0.9475</td>  <td>False</td>\n",
              "</tr>\n",
              "</table>"
            ],
            "text/latex": [
              "\\begin{center}\n",
              "\\begin{tabular}{ccccccc}\n",
              "\\toprule\n",
              "\\textbf{group1} & \\textbf{group2} & \\textbf{meandiff} & \\textbf{p-adj} & \\textbf{lower} & \\textbf{upper} & \\textbf{reject}  \\\\\n",
              "\\midrule\n",
              "       f        &        m        &      -0.9767      &     0.3794     &    -2.7041     &     0.7507     &      False       \\\\\n",
              "       f        &        s        &       -1.844      &     0.0808     &     -3.859     &     0.171      &      False       \\\\\n",
              "       m        &        s        &      -0.8673      &     0.4997     &    -2.6821     &     0.9475     &      False       \\\\\n",
              "\\bottomrule\n",
              "\\end{tabular}\n",
              "%\\caption{Multiple Comparison of Means - Tukey HSD, FWER=0.05}\n",
              "\\end{center}"
            ],
            "text/plain": [
              "<class 'statsmodels.iolib.table.SimpleTable'>"
            ]
          },
          "execution_count": 9,
          "metadata": {},
          "output_type": "execute_result"
        }
      ],
      "source": [
        "#Teste Post Hoc de Tukey para avaliar diferenças no grau de instrução\n",
        "from statsmodels.stats.multicomp import pairwise_tukeyhsd\n",
        "tukey=pairwise_tukeyhsd(endog=df.idade, groups=df.grau_instrucao)\n",
        "tukey.summary ( )"
      ]
    },
    {
      "cell_type": "code",
      "execution_count": 10,
      "id": "LD04kLYShxso",
      "metadata": {
        "id": "LD04kLYShxso"
      },
      "outputs": [],
      "source": [
        "#Gera o modelo para comparar idade por grau de instrução e região\n",
        "from statsmodels.formula.api import ols\n",
        "modelo=ols('salario ~ grau_instrucao + estado_civil + grau_instrucao:estado_civil ',data=df).fit()"
      ]
    },
    {
      "cell_type": "code",
      "execution_count": 11,
      "id": "TWm3xSaiiDyh",
      "metadata": {
        "colab": {
          "base_uri": "https://localhost:8080/"
        },
        "id": "TWm3xSaiiDyh",
        "outputId": "ba9e883a-73ec-4483-aea4-1780925a0c13"
      },
      "outputs": [
        {
          "name": "stdout",
          "output_type": "stream",
          "text": [
            "                                df       sum_sq      mean_sq           F  \\\n",
            "grau_instrucao                 2.0  2409.879383  1204.939691  106.622571   \n",
            "estado_civil                   1.0   251.442334   251.442334   22.249602   \n",
            "grau_instrucao:estado_civil    2.0   146.455719    73.227860    6.479779   \n",
            "Residual                     420.0  4746.412180    11.300981         NaN   \n",
            "\n",
            "                                   PR(>F)  \n",
            "grau_instrucao               3.566637e-38  \n",
            "estado_civil                 3.264264e-06  \n",
            "grau_instrucao:estado_civil  1.692043e-03  \n",
            "Residual                              NaN  \n"
          ]
        }
      ],
      "source": [
        "anova=sm.stats.anova_lm(modelo)\n",
        "print(anova)"
      ]
    },
    {
      "cell_type": "code",
      "execution_count": 12,
      "id": "Ct4Jp4XXiJTy",
      "metadata": {
        "colab": {
          "base_uri": "https://localhost:8080/",
          "height": 95
        },
        "id": "Ct4Jp4XXiJTy",
        "outputId": "215c713b-157f-4d7f-ed11-4a755c782039"
      },
      "outputs": [
        {
          "data": {
            "text/html": [
              "<table class=\"simpletable\">\n",
              "<caption>Multiple Comparison of Means - Tukey HSD, FWER=0.05</caption>\n",
              "<tr>\n",
              "  <th>group1</th> <th>group2</th> <th>meandiff</th> <th>p-adj</th>  <th>lower</th>   <th>upper</th>  <th>reject</th>\n",
              "</tr>\n",
              "<tr>\n",
              "     <td>c</td>      <td>s</td>    <td>-1.8108</td>  <td>0.0</td>  <td>-2.6048</td> <td>-1.0168</td>  <td>True</td> \n",
              "</tr>\n",
              "</table>"
            ],
            "text/latex": [
              "\\begin{center}\n",
              "\\begin{tabular}{ccccccc}\n",
              "\\toprule\n",
              "\\textbf{group1} & \\textbf{group2} & \\textbf{meandiff} & \\textbf{p-adj} & \\textbf{lower} & \\textbf{upper} & \\textbf{reject}  \\\\\n",
              "\\midrule\n",
              "       c        &        s        &      -1.8108      &      0.0       &    -2.6048     &    -1.0168     &       True       \\\\\n",
              "\\bottomrule\n",
              "\\end{tabular}\n",
              "%\\caption{Multiple Comparison of Means - Tukey HSD, FWER=0.05}\n",
              "\\end{center}"
            ],
            "text/plain": [
              "<class 'statsmodels.iolib.table.SimpleTable'>"
            ]
          },
          "execution_count": 12,
          "metadata": {},
          "output_type": "execute_result"
        }
      ],
      "source": [
        "#Teste Post Hoc de Tukey para avaliar diferenças no estado civil\n",
        "from statsmodels.stats.multicomp import pairwise_tukeyhsd\n",
        "tukey=pairwise_tukeyhsd(endog=df.salario, groups=df.estado_civil)\n",
        "tukey.summary ( )"
      ]
    },
    {
      "cell_type": "code",
      "execution_count": 13,
      "id": "HoXRJWUwiRCq",
      "metadata": {
        "colab": {
          "base_uri": "https://localhost:8080/",
          "height": 137
        },
        "id": "HoXRJWUwiRCq",
        "outputId": "1ac5fdbf-dcf2-4555-9858-526450a60b2d"
      },
      "outputs": [
        {
          "data": {
            "text/html": [
              "<table class=\"simpletable\">\n",
              "<caption>Multiple Comparison of Means - Tukey HSD, FWER=0.05</caption>\n",
              "<tr>\n",
              "  <th>group1</th> <th>group2</th> <th>meandiff</th> <th>p-adj</th>  <th>lower</th>  <th>upper</th> <th>reject</th>\n",
              "</tr>\n",
              "<tr>\n",
              "     <td>f</td>      <td>m</td>    <td>3.2859</td>   <td>0.0</td>  <td>2.3414</td> <td>4.2303</td>  <td>True</td> \n",
              "</tr>\n",
              "<tr>\n",
              "     <td>f</td>      <td>s</td>    <td>6.5852</td>   <td>0.0</td>  <td>5.4835</td> <td>7.6869</td>  <td>True</td> \n",
              "</tr>\n",
              "<tr>\n",
              "     <td>m</td>      <td>s</td>    <td>3.2993</td>   <td>0.0</td>  <td>2.3071</td> <td>4.2916</td>  <td>True</td> \n",
              "</tr>\n",
              "</table>"
            ],
            "text/latex": [
              "\\begin{center}\n",
              "\\begin{tabular}{ccccccc}\n",
              "\\toprule\n",
              "\\textbf{group1} & \\textbf{group2} & \\textbf{meandiff} & \\textbf{p-adj} & \\textbf{lower} & \\textbf{upper} & \\textbf{reject}  \\\\\n",
              "\\midrule\n",
              "       f        &        m        &       3.2859      &      0.0       &     2.3414     &     4.2303     &       True       \\\\\n",
              "       f        &        s        &       6.5852      &      0.0       &     5.4835     &     7.6869     &       True       \\\\\n",
              "       m        &        s        &       3.2993      &      0.0       &     2.3071     &     4.2916     &       True       \\\\\n",
              "\\bottomrule\n",
              "\\end{tabular}\n",
              "%\\caption{Multiple Comparison of Means - Tukey HSD, FWER=0.05}\n",
              "\\end{center}"
            ],
            "text/plain": [
              "<class 'statsmodels.iolib.table.SimpleTable'>"
            ]
          },
          "execution_count": 13,
          "metadata": {},
          "output_type": "execute_result"
        }
      ],
      "source": [
        "#Teste Post Hoc de Tukey para avaliar diferenças no grau de instrução\n",
        "from statsmodels.stats.multicomp import pairwise_tukeyhsd\n",
        "tukey=pairwise_tukeyhsd(endog=df.salario, groups=df.grau_instrucao)\n",
        "tukey.summary ( )"
      ]
    },
    {
      "cell_type": "markdown",
      "id": "313e1bf6",
      "metadata": {},
      "source": [
        "## Resposta Questao 7\n",
        "### Teste a hipótese de o salário ser o mesmo independente do grau de instrução e estado civil, avaliando ainda a interação.Qual sua conclusão ?"
      ]
    },
    {
      "cell_type": "code",
      "execution_count": 14,
      "id": "a80fca65",
      "metadata": {},
      "outputs": [],
      "source": [
        "# Importar bibliotecas necessárias\n",
        "import pandas as pd\n",
        "import statsmodels.api as sm\n",
        "from statsmodels.formula.api import ols\n",
        "from statsmodels.stats.multicomp import pairwise_tukeyhsd"
      ]
    },
    {
      "cell_type": "code",
      "execution_count": 15,
      "id": "d3c514a1",
      "metadata": {},
      "outputs": [],
      "source": [
        "# Local do arquivo\n",
        "Caminho = '/Users/fabicampanari/Desktop/_8-Prova Matematematica/1-statiscalMeasures_ Hypothesis Testing II./1🇧🇷-statiscalMeasures_ Hypothesis Testing II./answeredCodes_statiscalMeasures/cadastro_funcionarios.xlsx'\n",
        "\n",
        "# Carregar o arquivo para o DataFrame\n",
        "df = pd.read_excel(Caminho)"
      ]
    },
    {
      "cell_type": "code",
      "execution_count": 16,
      "id": "e2d50b74",
      "metadata": {},
      "outputs": [
        {
          "name": "stdout",
          "output_type": "stream",
          "text": [
            "   ID estado_civil grau_instrucao  n_filhos  salario  idade reg_proc\n",
            "0   1            s              f         0     4.00     26      int\n",
            "1   2            c              f         1     4.56     32      cap\n",
            "2   3            c              f         2     5.25     36      cap\n",
            "3   4            s              m         0     5.73     20      out\n",
            "4   5            s              f         0     6.26     40      out\n"
          ]
        }
      ],
      "source": [
        "# Visualizar as primeiras linhas do DataFrame\n",
        "print(df.head())"
      ]
    },
    {
      "cell_type": "code",
      "execution_count": 17,
      "id": "5cecb47c",
      "metadata": {},
      "outputs": [
        {
          "name": "stdout",
          "output_type": "stream",
          "text": [
            "                             count       mean       std   min     25%     50%  \\\n",
            "grau_instrucao estado_civil                                                     \n",
            "f              c              57.0   8.048596  2.918592  4.00   5.450   7.600   \n",
            "               s              63.0   7.808730  2.712180  4.00   6.260   7.200   \n",
            "m              c             131.0  12.223664  4.014562  4.43   8.925  12.790   \n",
            "               s              72.0   9.361528  2.428721  5.73   7.440   9.075   \n",
            "s              c              56.0  14.863929  3.450633  9.50  12.790  14.225   \n",
            "               s              47.0  14.083617  3.743024  7.60  10.565  15.320   \n",
            "\n",
            "                               75%    max  \n",
            "grau_instrucao estado_civil                \n",
            "f              c              9.40  14.70  \n",
            "               s              8.48  13.90  \n",
            "m              c             15.20  23.90  \n",
            "               s             10.76  16.07  \n",
            "s              c             17.26  23.50  \n",
            "               s             17.25  18.90  \n"
          ]
        }
      ],
      "source": [
        "# Verificar a média de salário por grau de instrução e estado civil\n",
        "print(df.groupby(['grau_instrucao', 'estado_civil'])['salario'].describe())"
      ]
    },
    {
      "cell_type": "code",
      "execution_count": 18,
      "id": "2bee47b6",
      "metadata": {},
      "outputs": [
        {
          "data": {
            "text/plain": [
              "<statsmodels.regression.linear_model.RegressionResultsWrapper at 0x1645c4d10>"
            ]
          },
          "execution_count": 18,
          "metadata": {},
          "output_type": "execute_result"
        }
      ],
      "source": [
        "# Gerar o modelo para comparar salário por grau de instrução e estado civil, incluindo interação\n",
        "modelo = ols('salario ~ grau_instrucao * estado_civil', data=df).fit()\n",
        "modelo"
      ]
    },
    {
      "cell_type": "code",
      "execution_count": 19,
      "id": "7a92d606",
      "metadata": {},
      "outputs": [
        {
          "name": "stdout",
          "output_type": "stream",
          "text": [
            "Resultados do Teste ANOVA:\n",
            "                                df       sum_sq      mean_sq           F  \\\n",
            "grau_instrucao                 2.0  2409.879383  1204.939691  106.622571   \n",
            "estado_civil                   1.0   251.442334   251.442334   22.249602   \n",
            "grau_instrucao:estado_civil    2.0   146.455719    73.227860    6.479779   \n",
            "Residual                     420.0  4746.412180    11.300981         NaN   \n",
            "\n",
            "                                   PR(>F)  \n",
            "grau_instrucao               3.566637e-38  \n",
            "estado_civil                 3.264264e-06  \n",
            "grau_instrucao:estado_civil  1.692043e-03  \n",
            "Residual                              NaN  \n"
          ]
        }
      ],
      "source": [
        "# Aplicar ANOVA\n",
        "anova = sm.stats.anova_lm(modelo)\n",
        "print(\"Resultados do Teste ANOVA:\")\n",
        "print(anova)"
      ]
    },
    {
      "cell_type": "code",
      "execution_count": 20,
      "id": "4213ae19",
      "metadata": {},
      "outputs": [
        {
          "name": "stdout",
          "output_type": "stream",
          "text": [
            "\n",
            "Resultados do Teste Post Hoc de Tukey para Estado Civil:\n",
            "Multiple Comparison of Means - Tukey HSD, FWER=0.05\n",
            "===================================================\n",
            "group1 group2 meandiff p-adj  lower   upper  reject\n",
            "---------------------------------------------------\n",
            "     c      s  -1.8108   0.0 -2.6048 -1.0168   True\n",
            "---------------------------------------------------\n"
          ]
        }
      ],
      "source": [
        "# Teste Post Hoc de Tukey para avaliar diferenças no estado civil\n",
        "print(\"\\nResultados do Teste Post Hoc de Tukey para Estado Civil:\")\n",
        "tukey_estado_civil = pairwise_tukeyhsd(endog=df.salario, groups=df.estado_civil)\n",
        "print(tukey_estado_civil.summary())"
      ]
    },
    {
      "cell_type": "code",
      "execution_count": 21,
      "id": "afdbe2b8",
      "metadata": {},
      "outputs": [
        {
          "name": "stdout",
          "output_type": "stream",
          "text": [
            "\n",
            "Resultados do Teste Post Hoc de Tukey para Grau de Instrução:\n",
            "Multiple Comparison of Means - Tukey HSD, FWER=0.05\n",
            "=================================================\n",
            "group1 group2 meandiff p-adj lower  upper  reject\n",
            "-------------------------------------------------\n",
            "     f      m   3.2859   0.0 2.3414 4.2303   True\n",
            "     f      s   6.5852   0.0 5.4835 7.6869   True\n",
            "     m      s   3.2993   0.0 2.3071 4.2916   True\n",
            "-------------------------------------------------\n"
          ]
        }
      ],
      "source": [
        "# Teste Post Hoc de Tukey para avaliar diferenças no grau de instrução\n",
        "print(\"\\nResultados do Teste Post Hoc de Tukey para Grau de Instrução:\")\n",
        "tukey_instrucao = pairwise_tukeyhsd(endog=df.salario, groups=df.grau_instrucao)\n",
        "print(tukey_instrucao.summary())"
      ]
    },
    {
      "cell_type": "markdown",
      "id": "1a81c83f",
      "metadata": {},
      "source": [
        "## Conclusão\n",
        "### Resultados do Teste ANOVA:\n",
        "\n",
        "| Source                      | df   | sum_sq      | mean_sq    | F          | PR(>F)        |\n",
        "|-----------------------------|------|-------------|------------|------------|---------------|\n",
        "| grau_instrucao              | 2.0  | 2409.879383 | 1204.939691| 106.622571 | 3.566637e-38  |\n",
        "| estado_civil                | 1.0  | 251.442334  | 251.442334 | 22.249602  | 3.264264e-06  |\n",
        "| grau_instrucao:estado_civil | 2.0  | 146.455719  | 73.227860  | 6.479779   | 1.692043e-03  |\n",
        "| Residual                    | 420.0| 4746.412180 | 11.300981  | NaN        | NaN           |\n",
        "\n",
        "### Interpretação:\n",
        "\n",
        "**Para Grau de Instrução:**\n",
        "\n",
        "- Valor F: 106.622571\n",
        "- Valor p (PR(>F)): 3.566637e-38\n",
        "\n",
        "**Para Estado Civil:**\n",
        "\n",
        "- Valor F: 22.249602\n",
        "- Valor p (PR(>F)): 3.264264e-06\n",
        "\n",
        "**Para Interação Grau de Instrução e Estado Civil:**\n",
        "\n",
        "- Valor F: 6.479779\n",
        "- Valor p (PR(>F)): 1.692043e-03\n",
        "\n",
        "Os valores p são extremamente pequenos, muito menores que o nível de significância comum (0.05). Isso indica que há uma diferença significativa nos salários tanto para diferentes graus de instrução quanto para diferentes estados civis, e também que há uma interação significativa entre grau de instrução e estado civil."
      ]
    },
    {
      "cell_type": "markdown",
      "id": "83a02837",
      "metadata": {},
      "source": [
        "Resultados do Teste Post Hoc de Tukey para Grau de Instrução:\n",
        "## Resultados do Teste Post Hoc de Tukey para Grau de Instrução:\n",
        "\n",
        "Multiple Comparison of Means - Tukey HSD, FWER=0.05\n",
        "| G1 | G2 | Mean Diff | p-adj | Lower  | Upper  | Reject |\n",
        "|----|----|-----------|-------|--------|--------|--------|\n",
        "| f  | m  |  3.2859   |  0.0  |  2.3414|  4.2303|  True  |\n",
        "| f  | s  |  6.5852   |  0.0  |  5.4835|  7.6869|  True  |\n",
        "| m  | s  |  3.2993   |  0.0  |  2.3071|  4.2916|  True  |\n",
        "\n",
        "\n",
        "## Resultados do Teste Post Hoc de Tukey para Estado Civil:\n",
        "\n",
        "Multiple Comparison of Means - Tukey HSD, FWER=0.05\n",
        "| G1 | G2 | Mean Diff | p-adj | Lower  | Upper  | Reject |\n",
        "|----|----|-----------|-------|--------|--------|--------|\n",
        "| c  | s  |  -1.8108  |  0.0  | -2.6048| -1.0168|  True  |\n",
        "\n",
        "\n",
        "## Conclusão:\n",
        "Os resultados do teste ANOVA indicam que há diferenças significativas nos salários tanto para diferentes graus de instrução quanto para diferentes estados civis, e também que há uma interação significativa entre grau de instrução e estado civil. Os testes Post Hoc de Tukey confirmam que:\n",
        "\n",
        "- **Para grau de instrução**, todas as comparações entre os grupos (f, m, s) são estatisticamente significativas.\n",
        "- **Para estado civil**, a comparação entre casados (c) e solteiros (s) é estatisticamente significativa.\n",
        "\n",
        "Portanto, a conclusão é que o salário não é o mesmo independentemente do grau de instrução e estado civil, e a interação entre esses fatores também é significativa. Existem diferenças significativas nos salários com base nesses fatores e suas interações."
      ]
    }
  ],
  "metadata": {
    "colab": {
      "provenance": []
    },
    "kernelspec": {
      "display_name": "myenv",
      "language": "python",
      "name": "python3"
    },
    "language_info": {
      "codemirror_mode": {
        "name": "ipython",
        "version": 3
      },
      "file_extension": ".py",
      "mimetype": "text/x-python",
      "name": "python",
      "nbconvert_exporter": "python",
      "pygments_lexer": "ipython3",
      "version": "3.12.6"
    }
  },
  "nbformat": 4,
  "nbformat_minor": 5
}
