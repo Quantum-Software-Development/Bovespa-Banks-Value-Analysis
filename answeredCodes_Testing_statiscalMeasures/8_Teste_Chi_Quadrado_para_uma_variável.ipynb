{
  "cells": [
    {
      "cell_type": "markdown",
      "id": "815d5d65",
      "metadata": {},
      "source": [
        "## Exercício 8 \n",
        "###  Verificar se a distribuição da região de procedência é a mesma nesta amostra. Qual sua conclusão ?"
      ]
    },
    {
      "cell_type": "code",
      "execution_count": 23,
      "id": "94bd83e8",
      "metadata": {
        "id": "94bd83e8"
      },
      "outputs": [],
      "source": [
        "# importa biblioteca pandas\n",
        "import pandas as pd\n",
        "\n",
        "# importa biblioteca scipy\n",
        "import scipy.stats as stats\n",
        "\n",
        "# local do arquivo\n",
        "Caminho='/Users/fabicampanari/Desktop/_8-Prova Matematematica/1-statiscalMeasures_ Hypothesis Testing II./1🇧🇷-statiscalMeasures_ Hypothesis Testing II./answeredCodes_statiscalMeasures/cadastro_funcionarios.xlsx'\n"
      ]
    },
    {
      "cell_type": "code",
      "execution_count": 15,
      "id": "18c72cc4",
      "metadata": {
        "id": "18c72cc4"
      },
      "outputs": [],
      "source": [
        " #Traz o arquivo para o Python\n",
        "df=pd.read_excel(Caminho)\n"
      ]
    },
    {
      "cell_type": "code",
      "execution_count": 16,
      "id": "ece24dbf",
      "metadata": {
        "colab": {
          "base_uri": "https://localhost:8080/",
          "height": 206
        },
        "id": "ece24dbf",
        "outputId": "f4185fc2-c6a6-4d86-a9c4-1552e40748a5"
      },
      "outputs": [
        {
          "data": {
            "text/html": [
              "<div>\n",
              "<style scoped>\n",
              "    .dataframe tbody tr th:only-of-type {\n",
              "        vertical-align: middle;\n",
              "    }\n",
              "\n",
              "    .dataframe tbody tr th {\n",
              "        vertical-align: top;\n",
              "    }\n",
              "\n",
              "    .dataframe thead th {\n",
              "        text-align: right;\n",
              "    }\n",
              "</style>\n",
              "<table border=\"1\" class=\"dataframe\">\n",
              "  <thead>\n",
              "    <tr style=\"text-align: right;\">\n",
              "      <th></th>\n",
              "      <th>ID</th>\n",
              "      <th>estado_civil</th>\n",
              "      <th>grau_instrucao</th>\n",
              "      <th>n_filhos</th>\n",
              "      <th>salario</th>\n",
              "      <th>idade</th>\n",
              "      <th>reg_proc</th>\n",
              "    </tr>\n",
              "  </thead>\n",
              "  <tbody>\n",
              "    <tr>\n",
              "      <th>0</th>\n",
              "      <td>1</td>\n",
              "      <td>s</td>\n",
              "      <td>f</td>\n",
              "      <td>0</td>\n",
              "      <td>4.00</td>\n",
              "      <td>26</td>\n",
              "      <td>int</td>\n",
              "    </tr>\n",
              "    <tr>\n",
              "      <th>1</th>\n",
              "      <td>2</td>\n",
              "      <td>c</td>\n",
              "      <td>f</td>\n",
              "      <td>1</td>\n",
              "      <td>4.56</td>\n",
              "      <td>32</td>\n",
              "      <td>cap</td>\n",
              "    </tr>\n",
              "    <tr>\n",
              "      <th>2</th>\n",
              "      <td>3</td>\n",
              "      <td>c</td>\n",
              "      <td>f</td>\n",
              "      <td>2</td>\n",
              "      <td>5.25</td>\n",
              "      <td>36</td>\n",
              "      <td>cap</td>\n",
              "    </tr>\n",
              "    <tr>\n",
              "      <th>3</th>\n",
              "      <td>4</td>\n",
              "      <td>s</td>\n",
              "      <td>m</td>\n",
              "      <td>0</td>\n",
              "      <td>5.73</td>\n",
              "      <td>20</td>\n",
              "      <td>out</td>\n",
              "    </tr>\n",
              "    <tr>\n",
              "      <th>4</th>\n",
              "      <td>5</td>\n",
              "      <td>s</td>\n",
              "      <td>f</td>\n",
              "      <td>0</td>\n",
              "      <td>6.26</td>\n",
              "      <td>40</td>\n",
              "      <td>out</td>\n",
              "    </tr>\n",
              "  </tbody>\n",
              "</table>\n",
              "</div>"
            ],
            "text/plain": [
              "   ID estado_civil grau_instrucao  n_filhos  salario  idade reg_proc\n",
              "0   1            s              f         0     4.00     26      int\n",
              "1   2            c              f         1     4.56     32      cap\n",
              "2   3            c              f         2     5.25     36      cap\n",
              "3   4            s              m         0     5.73     20      out\n",
              "4   5            s              f         0     6.26     40      out"
            ]
          },
          "execution_count": 16,
          "metadata": {},
          "output_type": "execute_result"
        }
      ],
      "source": [
        "df.head()"
      ]
    },
    {
      "cell_type": "code",
      "execution_count": 17,
      "id": "f2ec7b03",
      "metadata": {
        "colab": {
          "base_uri": "https://localhost:8080/",
          "height": 209
        },
        "id": "f2ec7b03",
        "outputId": "85321adf-bc0f-4408-afb8-c2c49c42379c"
      },
      "outputs": [
        {
          "data": {
            "text/plain": [
              "grau_instrucao\n",
              "m    203\n",
              "f    120\n",
              "s    103\n",
              "Name: count, dtype: int64"
            ]
          },
          "execution_count": 17,
          "metadata": {},
          "output_type": "execute_result"
        }
      ],
      "source": [
        "#Tabela de frequência da variável grau de instrução\n",
        "freq=df[\"grau_instrucao\"].value_counts()\n",
        "freq"
      ]
    },
    {
      "cell_type": "code",
      "execution_count": 18,
      "id": "3012adce",
      "metadata": {
        "colab": {
          "base_uri": "https://localhost:8080/"
        },
        "id": "3012adce",
        "outputId": "1a34ddec-297e-46dd-98ad-35e71ff5dea4"
      },
      "outputs": [
        {
          "data": {
            "text/plain": [
              "Power_divergenceResult(statistic=40.32394366197183, pvalue=1.752939347286805e-09)"
            ]
          },
          "execution_count": 18,
          "metadata": {},
          "output_type": "execute_result"
        }
      ],
      "source": [
        "#Teste Chi-Quadrado\n",
        "stats.chisquare(freq)\n"
      ]
    },
    {
      "cell_type": "code",
      "execution_count": 19,
      "id": "6f70fa77",
      "metadata": {
        "colab": {
          "base_uri": "https://localhost:8080/",
          "height": 303
        },
        "id": "6f70fa77",
        "outputId": "8325a3a6-f760-41a6-948e-883242730e42"
      },
      "outputs": [
        {
          "data": {
            "text/plain": [
              "n_filhos\n",
              "0    234\n",
              "2     75\n",
              "1     61\n",
              "3     42\n",
              "5      8\n",
              "4      6\n",
              "Name: count, dtype: int64"
            ]
          },
          "execution_count": 19,
          "metadata": {},
          "output_type": "execute_result"
        }
      ],
      "source": [
        "#Tabela de frequência da variável n_filhos\n",
        "freq2=df[\"n_filhos\"].value_counts()\n",
        "freq2"
      ]
    },
    {
      "cell_type": "code",
      "execution_count": 20,
      "id": "4b0e9d77",
      "metadata": {
        "colab": {
          "base_uri": "https://localhost:8080/"
        },
        "id": "4b0e9d77",
        "outputId": "67a7c20e-13a6-430b-919a-df34bf7b1279"
      },
      "outputs": [
        {
          "data": {
            "text/plain": [
              "Power_divergenceResult(statistic=503.09859154929575, pvalue=1.7116482149421455e-106)"
            ]
          },
          "execution_count": 20,
          "metadata": {},
          "output_type": "execute_result"
        }
      ],
      "source": [
        "#Teste Chi-Quadrado\n",
        "stats.chisquare(freq2)\n"
      ]
    },
    {
      "cell_type": "code",
      "execution_count": 21,
      "id": "6a3ff2e2",
      "metadata": {
        "colab": {
          "base_uri": "https://localhost:8080/",
          "height": 209
        },
        "id": "6a3ff2e2",
        "outputId": "bcff002f-ed1f-4ecd-9446-783dbfd78f3d"
      },
      "outputs": [
        {
          "data": {
            "text/plain": [
              "reg_proc\n",
              "out    148\n",
              "cap    143\n",
              "int    135\n",
              "Name: count, dtype: int64"
            ]
          },
          "execution_count": 21,
          "metadata": {},
          "output_type": "execute_result"
        }
      ],
      "source": [
        "#Tabela de frequência da variável grau de instrução\n",
        "freq=df[\"reg_proc\"].value_counts()\n",
        "freq"
      ]
    },
    {
      "cell_type": "code",
      "execution_count": 22,
      "id": "AH8vCptcl0kw",
      "metadata": {
        "colab": {
          "base_uri": "https://localhost:8080/"
        },
        "id": "AH8vCptcl0kw",
        "outputId": "575289b1-6099-48be-9774-993a91b41e06"
      },
      "outputs": [
        {
          "data": {
            "text/plain": [
              "Power_divergenceResult(statistic=0.6056338028169014, pvalue=0.7387343452063055)"
            ]
          },
          "execution_count": 22,
          "metadata": {},
          "output_type": "execute_result"
        }
      ],
      "source": [
        "stats.chisquare(freq)\n",
        "#aceita a igualdade das proporcoes"
      ]
    },
    {
      "cell_type": "markdown",
      "id": "6e115563",
      "metadata": {},
      "source": [
        "## Resposta Questao 8 \n",
        "### Verificar se a distribuição da região de procedência é a mesma nesta amostra. Qual sua conclusão ?"
      ]
    },
    {
      "cell_type": "code",
      "execution_count": 24,
      "id": "8add398b",
      "metadata": {},
      "outputs": [],
      "source": [
        "# Importar bibliotecas necessárias\n",
        "import pandas as pd\n",
        "import scipy.stats as stats\n"
      ]
    },
    {
      "cell_type": "code",
      "execution_count": 26,
      "id": "bec78931",
      "metadata": {},
      "outputs": [],
      "source": [
        "# Local do arquivo\n",
        "caminho = '/Users/fabicampanari/Desktop/_8-Prova Matematematica/1-statiscalMeasures_ Hypothesis Testing II./1🇧🇷-statiscalMeasures_ Hypothesis Testing II./answeredCodes_statiscalMeasures/cadastro_funcionarios.xlsx'"
      ]
    },
    {
      "cell_type": "code",
      "execution_count": 27,
      "id": "760da0fb",
      "metadata": {},
      "outputs": [],
      "source": [
        "# Carregar o arquivo para o DataFrame\n",
        "df = pd.read_excel(caminho)"
      ]
    },
    {
      "cell_type": "code",
      "execution_count": 28,
      "id": "39254458",
      "metadata": {},
      "outputs": [
        {
          "name": "stdout",
          "output_type": "stream",
          "text": [
            "   ID estado_civil grau_instrucao  n_filhos  salario  idade reg_proc\n",
            "0   1            s              f         0     4.00     26      int\n",
            "1   2            c              f         1     4.56     32      cap\n",
            "2   3            c              f         2     5.25     36      cap\n",
            "3   4            s              m         0     5.73     20      out\n",
            "4   5            s              f         0     6.26     40      out\n"
          ]
        }
      ],
      "source": [
        "# Visualizar as primeiras linhas do DataFrame\n",
        "print(df.head())"
      ]
    },
    {
      "cell_type": "code",
      "execution_count": 29,
      "id": "d6a6d23f",
      "metadata": {},
      "outputs": [
        {
          "name": "stdout",
          "output_type": "stream",
          "text": [
            "Frequência da variável reg_proc:\n",
            "reg_proc\n",
            "out    148\n",
            "cap    143\n",
            "int    135\n",
            "Name: count, dtype: int64\n"
          ]
        }
      ],
      "source": [
        "# Tabela de frequência da variável reg_proc\n",
        "freq_reg_proc = df['reg_proc'].value_counts()\n",
        "print(\"Frequência da variável reg_proc:\")\n",
        "print(freq_reg_proc)\n"
      ]
    },
    {
      "cell_type": "code",
      "execution_count": 30,
      "id": "75ec6d86",
      "metadata": {},
      "outputs": [
        {
          "name": "stdout",
          "output_type": "stream",
          "text": [
            "\n",
            "Resultados do Teste Chi-Quadrado:\n",
            "Estatística Chi-Quadrado: 0.6056338028169014\n",
            "Valor p: 0.7387343452063055\n"
          ]
        }
      ],
      "source": [
        "# Realizar o teste Chi-Quadrado\n",
        "chi2_stat, p_val = stats.chisquare(freq_reg_proc)\n",
        "print(\"\\nResultados do Teste Chi-Quadrado:\")\n",
        "print(f\"Estatística Chi-Quadrado: {chi2_stat}\")\n",
        "print(f\"Valor p: {p_val}\")"
      ]
    },
    {
      "cell_type": "code",
      "execution_count": 31,
      "id": "99702187",
      "metadata": {},
      "outputs": [
        {
          "name": "stdout",
          "output_type": "stream",
          "text": [
            "Não rejeitamos a hipótese nula. A distribuição da região de procedência é a mesma na amostra.\n"
          ]
        }
      ],
      "source": [
        "# Interpretação e Conclusão\n",
        "if p_val < 0.05:\n",
        "    print(\"Rejeitamos a hipótese nula. A distribuição da região de procedência não é a mesma na amostra.\")\n",
        "else:\n",
        "    print(\"Não rejeitamos a hipótese nula. A distribuição da região de procedência é a mesma na amostra.\")"
      ]
    },
    {
      "cell_type": "markdown",
      "id": "34c6e80b",
      "metadata": {},
      "source": [
        "Interpretação e Conclusão\n",
        "## Resultados do Teste Chi-Quadrado:\n",
        "\n",
        "### Interpretação:\n",
        "- **Estatística Chi-Quadrado (statistic):** 0.6056338028169014\n",
        "- **Valor p (pvalue):** 0.7387343452063055\n",
        "\n",
        "O valor p é maior que o nível de significância comum (0.05). Isso indica que não há evidência suficiente para rejeitar a hipótese nula de que a distribuição da região de procedência é a mesma na amostra.\n",
        "\n",
        "### Conclusão:\n",
        "Com base nos resultados do teste Chi-Quadrado, não rejeitamos a hipótese nula. Portanto, concluímos que a distribuição da região de procedência é a mesma nesta amostra.\n",
        "\n"
      ]
    }
  ],
  "metadata": {
    "colab": {
      "provenance": []
    },
    "kernelspec": {
      "display_name": "myenv",
      "language": "python",
      "name": "python3"
    },
    "language_info": {
      "codemirror_mode": {
        "name": "ipython",
        "version": 3
      },
      "file_extension": ".py",
      "mimetype": "text/x-python",
      "name": "python",
      "nbconvert_exporter": "python",
      "pygments_lexer": "ipython3",
      "version": "3.12.6"
    }
  },
  "nbformat": 4,
  "nbformat_minor": 5
}
