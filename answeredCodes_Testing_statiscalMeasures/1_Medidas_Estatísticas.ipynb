{
  "cells": [
    {
      "cell_type": "markdown",
      "id": "3c8c3011",
      "metadata": {},
      "source": [
        "# Faça a análise descritiva da variável SALARIO, para a base como um todo e considerando o Grau de Instrução"
      ]
    },
    {
      "cell_type": "code",
      "execution_count": 40,
      "id": "4fcfbd00",
      "metadata": {
        "id": "4fcfbd00"
      },
      "outputs": [],
      "source": [
        "# importa biblioteca pandas\n",
        "import pandas as pd\n",
        "\n",
        "# local do arquivo\n",
        "Caminho='/Users/fabicampanari/Desktop/_8-Prova Matematematica/1-statiscalMeasures_ Hypothesis Testing II./1🇧🇷-statiscalMeasures_ Hypothesis Testing II./answeredCodes_statiscalMeasures/cadastro_funcionarios.xlsx'\n"
      ]
    },
    {
      "cell_type": "code",
      "execution_count": 41,
      "id": "5c08dbd3",
      "metadata": {
        "id": "5c08dbd3"
      },
      "outputs": [],
      "source": [
        "df=pd.read_excel(Caminho)\n"
      ]
    },
    {
      "cell_type": "code",
      "execution_count": 42,
      "id": "c78e457f",
      "metadata": {
        "colab": {
          "base_uri": "https://localhost:8080/",
          "height": 206
        },
        "id": "c78e457f",
        "outputId": "056577db-f824-42f1-bfe3-ad9db9925abe"
      },
      "outputs": [
        {
          "data": {
            "text/html": [
              "<div>\n",
              "<style scoped>\n",
              "    .dataframe tbody tr th:only-of-type {\n",
              "        vertical-align: middle;\n",
              "    }\n",
              "\n",
              "    .dataframe tbody tr th {\n",
              "        vertical-align: top;\n",
              "    }\n",
              "\n",
              "    .dataframe thead th {\n",
              "        text-align: right;\n",
              "    }\n",
              "</style>\n",
              "<table border=\"1\" class=\"dataframe\">\n",
              "  <thead>\n",
              "    <tr style=\"text-align: right;\">\n",
              "      <th></th>\n",
              "      <th>ID</th>\n",
              "      <th>estado_civil</th>\n",
              "      <th>grau_instrucao</th>\n",
              "      <th>n_filhos</th>\n",
              "      <th>salario</th>\n",
              "      <th>idade</th>\n",
              "      <th>reg_proc</th>\n",
              "    </tr>\n",
              "  </thead>\n",
              "  <tbody>\n",
              "    <tr>\n",
              "      <th>0</th>\n",
              "      <td>1</td>\n",
              "      <td>s</td>\n",
              "      <td>f</td>\n",
              "      <td>0</td>\n",
              "      <td>4.00</td>\n",
              "      <td>26</td>\n",
              "      <td>int</td>\n",
              "    </tr>\n",
              "    <tr>\n",
              "      <th>1</th>\n",
              "      <td>2</td>\n",
              "      <td>c</td>\n",
              "      <td>f</td>\n",
              "      <td>1</td>\n",
              "      <td>4.56</td>\n",
              "      <td>32</td>\n",
              "      <td>cap</td>\n",
              "    </tr>\n",
              "    <tr>\n",
              "      <th>2</th>\n",
              "      <td>3</td>\n",
              "      <td>c</td>\n",
              "      <td>f</td>\n",
              "      <td>2</td>\n",
              "      <td>5.25</td>\n",
              "      <td>36</td>\n",
              "      <td>cap</td>\n",
              "    </tr>\n",
              "    <tr>\n",
              "      <th>3</th>\n",
              "      <td>4</td>\n",
              "      <td>s</td>\n",
              "      <td>m</td>\n",
              "      <td>0</td>\n",
              "      <td>5.73</td>\n",
              "      <td>20</td>\n",
              "      <td>out</td>\n",
              "    </tr>\n",
              "    <tr>\n",
              "      <th>4</th>\n",
              "      <td>5</td>\n",
              "      <td>s</td>\n",
              "      <td>f</td>\n",
              "      <td>0</td>\n",
              "      <td>6.26</td>\n",
              "      <td>40</td>\n",
              "      <td>out</td>\n",
              "    </tr>\n",
              "  </tbody>\n",
              "</table>\n",
              "</div>"
            ],
            "text/plain": [
              "   ID estado_civil grau_instrucao  n_filhos  salario  idade reg_proc\n",
              "0   1            s              f         0     4.00     26      int\n",
              "1   2            c              f         1     4.56     32      cap\n",
              "2   3            c              f         2     5.25     36      cap\n",
              "3   4            s              m         0     5.73     20      out\n",
              "4   5            s              f         0     6.26     40      out"
            ]
          },
          "execution_count": 42,
          "metadata": {},
          "output_type": "execute_result"
        }
      ],
      "source": [
        "df.head( )"
      ]
    },
    {
      "cell_type": "code",
      "execution_count": 43,
      "id": "bc37e5d8",
      "metadata": {
        "colab": {
          "base_uri": "https://localhost:8080/",
          "height": 335
        },
        "id": "bc37e5d8",
        "outputId": "1990ca0c-10ee-4d3b-d231-b78014d7bc4b"
      },
      "outputs": [
        {
          "data": {
            "text/plain": [
              "count    426.000000\n",
              "mean      34.622066\n",
              "std        6.398190\n",
              "min       20.000000\n",
              "25%       30.000000\n",
              "50%       34.000000\n",
              "75%       40.000000\n",
              "max       49.000000\n",
              "Name: idade, dtype: float64"
            ]
          },
          "execution_count": 43,
          "metadata": {},
          "output_type": "execute_result"
        }
      ],
      "source": [
        "# gera estatísticas descritivas da coluna \"idade\" do DataFrame d\n",
        "df.idade.describe()"
      ]
    },
    {
      "cell_type": "code",
      "execution_count": 44,
      "id": "9200d071",
      "metadata": {
        "colab": {
          "base_uri": "https://localhost:8080/"
        },
        "id": "9200d071",
        "outputId": "92f137cc-a70b-4f12-920e-47bc4b990240"
      },
      "outputs": [
        {
          "data": {
            "text/plain": [
              "29"
            ]
          },
          "execution_count": 44,
          "metadata": {},
          "output_type": "execute_result"
        }
      ],
      "source": [
        "#calculando amplitude (determina a diferença entre o valor máximo e o valor mínimo de uma série de dados,\n",
        "#  fornecendo uma medida simples da dispersão dos dados.)\n",
        "ampl=df.idade.max()-df.idade.min()\n",
        "ampl\n"
      ]
    },
    {
      "cell_type": "code",
      "execution_count": 45,
      "id": "a1e912c2",
      "metadata": {
        "colab": {
          "base_uri": "https://localhost:8080/",
          "height": 115
        },
        "id": "a1e912c2",
        "outputId": "98a1f476-885a-41bf-cc7b-cb275cacf7df"
      },
      "outputs": [
        {
          "data": {
            "text/plain": [
              "0    35\n",
              "Name: idade, dtype: int64"
            ]
          },
          "execution_count": 45,
          "metadata": {},
          "output_type": "execute_result"
        }
      ],
      "source": [
        "#calculando a moda (identificar o valor que ocorre com maior frequência em uma série de dados, sendo uma \n",
        "# medida de tendência central que indica o valor mais comum.)\n",
        "df.idade.mode()\n"
      ]
    },
    {
      "cell_type": "code",
      "execution_count": 46,
      "id": "ccb658fe",
      "metadata": {
        "colab": {
          "base_uri": "https://localhost:8080/"
        },
        "id": "ccb658fe",
        "outputId": "6b6ca929-a3eb-42bd-8339-5017091a9b71"
      },
      "outputs": [
        {
          "data": {
            "text/plain": [
              "40.93682960508146"
            ]
          },
          "execution_count": 46,
          "metadata": {},
          "output_type": "execute_result"
        }
      ],
      "source": [
        "#calculando da variância (mede a dispersão dos dados em relação à média, indicando o quanto os valores de uma série \n",
        "# de dados variam em torno da média. Uma variância alta indica que os dados estão amplamente espalhados,\n",
        "#  enquanto uma variância baixa indica que os dados estão mais próximos da média.)\n",
        "df.idade.var()\n"
      ]
    },
    {
      "cell_type": "code",
      "execution_count": 47,
      "id": "2b4ca870",
      "metadata": {
        "id": "2b4ca870"
      },
      "outputs": [],
      "source": [
        "# Calcula o valor mínimo da coluna 'idade' e armazena na variável Min\n",
        "Min = df.idade.min()\n",
        "\n",
        "# Calcula o valor máximo da coluna 'idade' e armazena na variável Max\n",
        "Max = df.idade.max()\n",
        "\n",
        "# Calcula a média (valor médio) da coluna 'idade' e armazena na variável Media\n",
        "Media = df.idade.mean()\n",
        "\n",
        "# Calcula a mediana (valor central) da coluna 'idade' e armazena na variável Mediana\n",
        "Mediana = df.idade.median()\n",
        "\n",
        "# Calcula a moda (valor mais frequente) da coluna 'idade' e armazena na variável Moda\n",
        "Moda = df.idade.mode()\n",
        "\n",
        "# Calcula a variância (medida de dispersão) da coluna 'idade' e armazena na variável Var\n",
        "Var = df.idade.var()\n",
        "\n",
        "# Calcula o desvio padrão (medida de dispersão) da coluna 'idade' e armazena na variável Desvpad\n",
        "Desvpad = df.idade.std()\n"
      ]
    },
    {
      "cell_type": "code",
      "execution_count": 48,
      "id": "d5f3a22e",
      "metadata": {
        "id": "d5f3a22e"
      },
      "outputs": [
        {
          "data": {
            "text/plain": [
              "0.18480091878825788"
            ]
          },
          "execution_count": 48,
          "metadata": {},
          "output_type": "execute_result"
        }
      ],
      "source": [
        "#calculado como a razão do desvio padrão pela média.\n",
        "CV=df.idade.std() / df.idade.mean()\n",
        "CV"
      ]
    },
    {
      "cell_type": "code",
      "execution_count": 49,
      "id": "6dee1a2e",
      "metadata": {
        "colab": {
          "base_uri": "https://localhost:8080/",
          "height": 175
        },
        "id": "6dee1a2e",
        "outputId": "f907e2cc-5ce1-427b-80b3-2e0c32c60302"
      },
      "outputs": [
        {
          "data": {
            "text/html": [
              "<div>\n",
              "<style scoped>\n",
              "    .dataframe tbody tr th:only-of-type {\n",
              "        vertical-align: middle;\n",
              "    }\n",
              "\n",
              "    .dataframe tbody tr th {\n",
              "        vertical-align: top;\n",
              "    }\n",
              "\n",
              "    .dataframe thead th {\n",
              "        text-align: right;\n",
              "    }\n",
              "</style>\n",
              "<table border=\"1\" class=\"dataframe\">\n",
              "  <thead>\n",
              "    <tr style=\"text-align: right;\">\n",
              "      <th></th>\n",
              "      <th>count</th>\n",
              "      <th>mean</th>\n",
              "      <th>std</th>\n",
              "      <th>min</th>\n",
              "      <th>25%</th>\n",
              "      <th>50%</th>\n",
              "      <th>75%</th>\n",
              "      <th>max</th>\n",
              "    </tr>\n",
              "    <tr>\n",
              "      <th>reg_proc</th>\n",
              "      <th></th>\n",
              "      <th></th>\n",
              "      <th></th>\n",
              "      <th></th>\n",
              "      <th></th>\n",
              "      <th></th>\n",
              "      <th></th>\n",
              "      <th></th>\n",
              "    </tr>\n",
              "  </thead>\n",
              "  <tbody>\n",
              "    <tr>\n",
              "      <th>cap</th>\n",
              "      <td>143.0</td>\n",
              "      <td>36.06993</td>\n",
              "      <td>5.550854</td>\n",
              "      <td>22.0</td>\n",
              "      <td>33.0</td>\n",
              "      <td>35.0</td>\n",
              "      <td>39.5</td>\n",
              "      <td>49.0</td>\n",
              "    </tr>\n",
              "    <tr>\n",
              "      <th>int</th>\n",
              "      <td>135.0</td>\n",
              "      <td>33.77037</td>\n",
              "      <td>6.004899</td>\n",
              "      <td>20.0</td>\n",
              "      <td>29.5</td>\n",
              "      <td>33.0</td>\n",
              "      <td>37.5</td>\n",
              "      <td>49.0</td>\n",
              "    </tr>\n",
              "    <tr>\n",
              "      <th>out</th>\n",
              "      <td>148.0</td>\n",
              "      <td>34.00000</td>\n",
              "      <td>7.254368</td>\n",
              "      <td>20.0</td>\n",
              "      <td>28.0</td>\n",
              "      <td>34.0</td>\n",
              "      <td>40.0</td>\n",
              "      <td>46.0</td>\n",
              "    </tr>\n",
              "  </tbody>\n",
              "</table>\n",
              "</div>"
            ],
            "text/plain": [
              "          count      mean       std   min   25%   50%   75%   max\n",
              "reg_proc                                                         \n",
              "cap       143.0  36.06993  5.550854  22.0  33.0  35.0  39.5  49.0\n",
              "int       135.0  33.77037  6.004899  20.0  29.5  33.0  37.5  49.0\n",
              "out       148.0  34.00000  7.254368  20.0  28.0  34.0  40.0  46.0"
            ]
          },
          "execution_count": 49,
          "metadata": {},
          "output_type": "execute_result"
        }
      ],
      "source": [
        "#Calculando descritivas por Região de Procedência\n",
        "df.groupby(['reg_proc']) ['idade'].describe()\n"
      ]
    },
    {
      "cell_type": "code",
      "execution_count": 50,
      "id": "2a188ba8",
      "metadata": {
        "colab": {
          "base_uri": "https://localhost:8080/",
          "height": 210
        },
        "id": "2a188ba8",
        "outputId": "1ca5793e-0c6a-4dc6-af13-8ea8507df0e6"
      },
      "outputs": [
        {
          "data": {
            "text/plain": [
              "reg_proc\n",
              "cap    27\n",
              "int    29\n",
              "out    26\n",
              "Name: idade, dtype: int64"
            ]
          },
          "execution_count": 50,
          "metadata": {},
          "output_type": "execute_result"
        }
      ],
      "source": [
        "# calculando amplitude por Região de Procedência\n",
        "\n",
        "Ampl=df.groupby (['reg_proc']) ['idade'].max()-df.groupby (['reg_proc']) ['idade'].min()\n",
        "Ampl\n"
      ]
    },
    {
      "cell_type": "code",
      "execution_count": 51,
      "id": "a4a908b4",
      "metadata": {
        "colab": {
          "base_uri": "https://localhost:8080/",
          "height": 210
        },
        "id": "a4a908b4",
        "outputId": "31111610-4c06-4bcc-f873-4d3538428037"
      },
      "outputs": [
        {
          "data": {
            "text/plain": [
              "reg_proc\n",
              "cap    30.811977\n",
              "int    36.058817\n",
              "out    52.625850\n",
              "Name: idade, dtype: float64"
            ]
          },
          "execution_count": 51,
          "metadata": {},
          "output_type": "execute_result"
        }
      ],
      "source": [
        "#calculando a variância por Região de Procedência\n",
        "Var=df.groupby (['reg_proc']) ['idade'].var( )\n",
        "Var\n",
        "\n"
      ]
    },
    {
      "cell_type": "code",
      "execution_count": 52,
      "id": "72d55bc0",
      "metadata": {
        "colab": {
          "base_uri": "https://localhost:8080/",
          "height": 210
        },
        "id": "72d55bc0",
        "outputId": "e06cd0d1-b2bd-49c8-f55a-778a4105ed4d"
      },
      "outputs": [
        {
          "data": {
            "text/plain": [
              "reg_proc\n",
              "cap    0.153891\n",
              "int    0.177816\n",
              "out    0.213364\n",
              "Name: idade, dtype: float64"
            ]
          },
          "execution_count": 52,
          "metadata": {},
          "output_type": "execute_result"
        }
      ],
      "source": [
        "#calculando o CV por Região de Procedência\n",
        "CV= df.groupby (['reg_proc']) ['idade'].std( ) / df.groupby (['reg_proc']) ['idade'].mean( )\n",
        "CV"
      ]
    },
    {
      "cell_type": "code",
      "execution_count": 53,
      "id": "f8093c5b",
      "metadata": {
        "colab": {
          "base_uri": "https://localhost:8080/",
          "height": 210
        },
        "id": "f8093c5b",
        "outputId": "2457bcb3-a68a-40ee-ff30-359d076d501d"
      },
      "outputs": [
        {
          "data": {
            "text/plain": [
              "reg_proc\n",
              "cap          35\n",
              "int    [30, 34]\n",
              "out    [33, 41]\n",
              "Name: idade, dtype: object"
            ]
          },
          "execution_count": 53,
          "metadata": {},
          "output_type": "execute_result"
        }
      ],
      "source": [
        "#calculando a moda\n",
        "Moda=df.groupby(['reg_proc'])['idade'].agg(pd.Series.mode)\n",
        "Moda"
      ]
    },
    {
      "cell_type": "markdown",
      "id": "7559283e",
      "metadata": {},
      "source": [
        "# Análise Descritiva da Variável SALARIO para a Base como um Todo\n"
      ]
    },
    {
      "cell_type": "code",
      "execution_count": 54,
      "id": "841e35cd",
      "metadata": {},
      "outputs": [],
      "source": [
        "# Importar as bibliotecas necessárias e carregar o dataset:\n",
        "import pandas as pd\n",
        "\n",
        "# Local do arquivo\n",
        "Caminho = '/Users/fabicampanari/Desktop/_8-Prova Matematematica/1-statiscalMeasures_ Hypothesis Testing II./1🇧🇷-statiscalMeasures_ Hypothesis Testing II./answeredCodes_statiscalMeasures/cadastro_funcionarios.xlsx'\n",
        "df = pd.read_excel(Caminho)"
      ]
    },
    {
      "cell_type": "code",
      "execution_count": 55,
      "id": "3bfaf939",
      "metadata": {
        "colab": {
          "base_uri": "https://localhost:8080/",
          "height": 335
        },
        "id": "3bfaf939",
        "outputId": "f6e5a1ea-9960-48d9-e56b-d09f10c73246"
      },
      "outputs": [
        {
          "data": {
            "text/plain": [
              "count    426.000000\n",
              "mean      11.080657\n",
              "std        4.215989\n",
              "min        4.000000\n",
              "25%        7.650000\n",
              "50%       10.400000\n",
              "75%       13.900000\n",
              "max       23.900000\n",
              "Name: salario, dtype: float64"
            ]
          },
          "execution_count": 55,
          "metadata": {},
          "output_type": "execute_result"
        }
      ],
      "source": [
        "# Descrever a variável SALARIO:\n",
        "df.salario.describe()"
      ]
    },
    {
      "cell_type": "code",
      "execution_count": 56,
      "id": "2d46e263",
      "metadata": {},
      "outputs": [
        {
          "data": {
            "text/plain": [
              "19.9"
            ]
          },
          "execution_count": 56,
          "metadata": {},
          "output_type": "execute_result"
        }
      ],
      "source": [
        "# Calcular a amplitude\n",
        "ampl = df['salario'].max() - df['salario'].min()\n",
        "ampl"
      ]
    },
    {
      "cell_type": "code",
      "execution_count": 57,
      "id": "pRz1xtKbd1PR",
      "metadata": {
        "colab": {
          "base_uri": "https://localhost:8080/"
        },
        "id": "pRz1xtKbd1PR",
        "outputId": "50c0322d-c882-42f6-ebab-7278f20b86f1"
      },
      "outputs": [
        {
          "data": {
            "text/plain": [
              "19.9"
            ]
          },
          "execution_count": 57,
          "metadata": {},
          "output_type": "execute_result"
        }
      ],
      "source": [
        "# outra forma de Calcular a amplitude\n",
        "ampl=df.salario.max()-df.salario.min()\n",
        "ampl"
      ]
    },
    {
      "cell_type": "code",
      "execution_count": 58,
      "id": "uEWHLsazd8zD",
      "metadata": {
        "colab": {
          "base_uri": "https://localhost:8080/",
          "height": 147
        },
        "id": "uEWHLsazd8zD",
        "outputId": "81de234f-3f32-4438-e23a-7dd326b28e6e"
      },
      "outputs": [
        {
          "data": {
            "text/plain": [
              "0     9.8\n",
              "1    13.6\n",
              "Name: salario, dtype: float64"
            ]
          },
          "execution_count": 58,
          "metadata": {},
          "output_type": "execute_result"
        }
      ],
      "source": [
        "# Calcular a moda:\n",
        "df.salario.mode()\n"
      ]
    },
    {
      "cell_type": "code",
      "execution_count": 59,
      "id": "2hQFAA8TeC6a",
      "metadata": {
        "colab": {
          "base_uri": "https://localhost:8080/"
        },
        "id": "2hQFAA8TeC6a",
        "outputId": "17047c75-b96b-4d58-d7ac-a6f6aaa4bbd3"
      },
      "outputs": [
        {
          "data": {
            "text/plain": [
              "17.774563802264566"
            ]
          },
          "execution_count": 59,
          "metadata": {},
          "output_type": "execute_result"
        }
      ],
      "source": [
        "#calculando da variância\n",
        "df.salario.var()"
      ]
    },
    {
      "cell_type": "code",
      "execution_count": 60,
      "id": "e4806a76",
      "metadata": {},
      "outputs": [
        {
          "data": {
            "text/plain": [
              "0.3804818577389044"
            ]
          },
          "execution_count": 60,
          "metadata": {},
          "output_type": "execute_result"
        }
      ],
      "source": [
        "# Calcular o coeficiente de variação (CV):\n",
        "cv = df['salario'].std() / df['salario'].mean()\n",
        "cv"
      ]
    },
    {
      "cell_type": "markdown",
      "id": "cb36b213",
      "metadata": {},
      "source": [
        "### Análise Descritiva da Variável SALARIO Considerando o Grau de Instrução"
      ]
    },
    {
      "cell_type": "code",
      "execution_count": 61,
      "id": "gnesiCNKdVBD",
      "metadata": {
        "colab": {
          "base_uri": "https://localhost:8080/",
          "height": 175
        },
        "id": "gnesiCNKdVBD",
        "outputId": "2e9669a6-67b8-4321-ada7-260e00c9238f"
      },
      "outputs": [
        {
          "data": {
            "text/html": [
              "<div>\n",
              "<style scoped>\n",
              "    .dataframe tbody tr th:only-of-type {\n",
              "        vertical-align: middle;\n",
              "    }\n",
              "\n",
              "    .dataframe tbody tr th {\n",
              "        vertical-align: top;\n",
              "    }\n",
              "\n",
              "    .dataframe thead th {\n",
              "        text-align: right;\n",
              "    }\n",
              "</style>\n",
              "<table border=\"1\" class=\"dataframe\">\n",
              "  <thead>\n",
              "    <tr style=\"text-align: right;\">\n",
              "      <th></th>\n",
              "      <th>count</th>\n",
              "      <th>mean</th>\n",
              "      <th>std</th>\n",
              "      <th>min</th>\n",
              "      <th>25%</th>\n",
              "      <th>50%</th>\n",
              "      <th>75%</th>\n",
              "      <th>max</th>\n",
              "    </tr>\n",
              "    <tr>\n",
              "      <th>grau_instrucao</th>\n",
              "      <th></th>\n",
              "      <th></th>\n",
              "      <th></th>\n",
              "      <th></th>\n",
              "      <th></th>\n",
              "      <th></th>\n",
              "      <th></th>\n",
              "      <th></th>\n",
              "    </tr>\n",
              "  </thead>\n",
              "  <tbody>\n",
              "    <tr>\n",
              "      <th>f</th>\n",
              "      <td>120.0</td>\n",
              "      <td>7.922667</td>\n",
              "      <td>2.802770</td>\n",
              "      <td>4.00</td>\n",
              "      <td>6.2475</td>\n",
              "      <td>7.365</td>\n",
              "      <td>8.995</td>\n",
              "      <td>14.7</td>\n",
              "    </tr>\n",
              "    <tr>\n",
              "      <th>m</th>\n",
              "      <td>203.0</td>\n",
              "      <td>11.208522</td>\n",
              "      <td>3.785457</td>\n",
              "      <td>4.43</td>\n",
              "      <td>8.2600</td>\n",
              "      <td>10.500</td>\n",
              "      <td>13.850</td>\n",
              "      <td>23.9</td>\n",
              "    </tr>\n",
              "    <tr>\n",
              "      <th>s</th>\n",
              "      <td>103.0</td>\n",
              "      <td>14.507864</td>\n",
              "      <td>3.590439</td>\n",
              "      <td>7.60</td>\n",
              "      <td>11.3500</td>\n",
              "      <td>14.550</td>\n",
              "      <td>17.260</td>\n",
              "      <td>23.5</td>\n",
              "    </tr>\n",
              "  </tbody>\n",
              "</table>\n",
              "</div>"
            ],
            "text/plain": [
              "                count       mean       std   min      25%     50%     75%  \\\n",
              "grau_instrucao                                                              \n",
              "f               120.0   7.922667  2.802770  4.00   6.2475   7.365   8.995   \n",
              "m               203.0  11.208522  3.785457  4.43   8.2600  10.500  13.850   \n",
              "s               103.0  14.507864  3.590439  7.60  11.3500  14.550  17.260   \n",
              "\n",
              "                 max  \n",
              "grau_instrucao        \n",
              "f               14.7  \n",
              "m               23.9  \n",
              "s               23.5  "
            ]
          },
          "execution_count": 61,
          "metadata": {},
          "output_type": "execute_result"
        }
      ],
      "source": [
        "#Calculando descritivas por grau_instrucao\n",
        "df.groupby([\"grau_instrucao\"]) ['salario'].describe()"
      ]
    },
    {
      "cell_type": "code",
      "execution_count": 62,
      "id": "BEyCFR1MfrTz",
      "metadata": {
        "id": "BEyCFR1MfrTz"
      },
      "outputs": [
        {
          "data": {
            "text/plain": [
              "grau_instrucao\n",
              "f     6.26\n",
              "m    13.60\n",
              "s    18.75\n",
              "Name: salario, dtype: float64"
            ]
          },
          "execution_count": 62,
          "metadata": {},
          "output_type": "execute_result"
        }
      ],
      "source": [
        "#calculando a moda\n",
        "Moda=df.groupby(['grau_instrucao'])['salario'].agg(lambda x: pd.Series.mode(x)[0]) # Using a lambda function to extract the first mode\n",
        "Moda"
      ]
    },
    {
      "cell_type": "code",
      "execution_count": 63,
      "id": "LxWvGdGzdxsR",
      "metadata": {
        "colab": {
          "base_uri": "https://localhost:8080/",
          "height": 210
        },
        "id": "LxWvGdGzdxsR",
        "outputId": "17a3519a-aa39-43a2-ce38-d707dffa15e0"
      },
      "outputs": [
        {
          "data": {
            "text/plain": [
              "grau_instrucao\n",
              "f    10.70\n",
              "m    19.47\n",
              "s    15.90\n",
              "Name: salario, dtype: float64"
            ]
          },
          "execution_count": 63,
          "metadata": {},
          "output_type": "execute_result"
        }
      ],
      "source": [
        "Ampl=df.groupby (['grau_instrucao']) ['salario'].max()-df.groupby (['grau_instrucao']) ['salario'].min()\n",
        "Ampl"
      ]
    },
    {
      "cell_type": "code",
      "execution_count": 64,
      "id": "ZjN1L0MVeu-y",
      "metadata": {
        "colab": {
          "base_uri": "https://localhost:8080/",
          "height": 210
        },
        "id": "ZjN1L0MVeu-y",
        "outputId": "8056dbc0-3e1f-47f6-eefd-ca722ee80c8c"
      },
      "outputs": [
        {
          "data": {
            "text/plain": [
              "grau_instrucao\n",
              "f     7.855517\n",
              "m    14.329684\n",
              "s    12.891250\n",
              "Name: salario, dtype: float64"
            ]
          },
          "execution_count": 64,
          "metadata": {},
          "output_type": "execute_result"
        }
      ],
      "source": [
        "#calculando a variância por salario\n",
        "Var=df.groupby (['grau_instrucao']) ['salario'].var( )\n",
        "Var\n"
      ]
    },
    {
      "cell_type": "code",
      "execution_count": 65,
      "id": "fuw0XB37e1ho",
      "metadata": {
        "colab": {
          "base_uri": "https://localhost:8080/",
          "height": 210
        },
        "id": "fuw0XB37e1ho",
        "outputId": "441f7ba9-9dd2-49c2-9c4d-295734f1bc36"
      },
      "outputs": [
        {
          "data": {
            "text/plain": [
              "grau_instrucao\n",
              "f    0.353766\n",
              "m    0.337730\n",
              "s    0.247482\n",
              "Name: salario, dtype: float64"
            ]
          },
          "execution_count": 65,
          "metadata": {},
          "output_type": "execute_result"
        }
      ],
      "source": [
        "#calculando o CV por salario\n",
        "CV= df.groupby (['grau_instrucao']) ['salario'].std( ) / df.groupby (['grau_instrucao']) ['salario'].mean( )\n",
        "CV"
      ]
    },
    {
      "cell_type": "code",
      "execution_count": 66,
      "id": "MHjCEHfzftpy",
      "metadata": {
        "colab": {
          "base_uri": "https://localhost:8080/",
          "height": 210
        },
        "id": "MHjCEHfzftpy",
        "outputId": "96fbb470-89d6-4d0e-a2cc-83092efbd708"
      },
      "outputs": [
        {
          "data": {
            "text/plain": [
              "grau_instrucao\n",
              "f     6.26\n",
              "m    13.60\n",
              "s    18.75\n",
              "Name: salario, dtype: float64"
            ]
          },
          "execution_count": 66,
          "metadata": {},
          "output_type": "execute_result"
        }
      ],
      "source": [
        "#calculando a moda\n",
        "Moda=df.groupby(['grau_instrucao'])['salario'].agg(lambda x: pd.Series.mode(x)[0]) # Using a lambda function to extract the first mode\n",
        "Moda"
      ]
    },
    {
      "cell_type": "markdown",
      "id": "137d2abe",
      "metadata": {},
      "source": [
        "# ADICIONAL Outra forma de Apresentar uma análise descritiva da variável SALARIO tanto para a base como um todo quanto considerando o grau_instrucao."
      ]
    },
    {
      "cell_type": "markdown",
      "id": "a4b3d345",
      "metadata": {},
      "source": [
        "### 1. Importação das Bibliotecas Necessárias:"
      ]
    },
    {
      "cell_type": "code",
      "execution_count": 67,
      "id": "d6dce80a",
      "metadata": {},
      "outputs": [],
      "source": [
        "import pandas as pd"
      ]
    },
    {
      "cell_type": "markdown",
      "id": "bccdaa28",
      "metadata": {},
      "source": [
        "### 2. Carregamento do Dataset:"
      ]
    },
    {
      "cell_type": "code",
      "execution_count": 68,
      "id": "89cbed4f",
      "metadata": {},
      "outputs": [],
      "source": [
        "Caminho = '/Users/fabicampanari/Desktop/_8-Prova Matematematica/1-statiscalMeasures_ Hypothesis Testing II./1🇧🇷-statiscalMeasures_ Hypothesis Testing II./answeredCodes_statiscalMeasures/cadastro_funcionarios.xlsx'\n",
        "df = pd.read_excel(Caminho)"
      ]
    },
    {
      "cell_type": "markdown",
      "id": "7a42b72c",
      "metadata": {},
      "source": [
        "### 3. Estatísticas Descritivas para a Variável SALARIO para a Base como um Todo:"
      ]
    },
    {
      "cell_type": "code",
      "execution_count": 69,
      "id": "98ce7c2f",
      "metadata": {},
      "outputs": [
        {
          "name": "stdout",
          "output_type": "stream",
          "text": [
            "Estatísticas descritivas para SALARIO (base como um todo):\n",
            "count    426.000000\n",
            "mean      11.080657\n",
            "std        4.215989\n",
            "min        4.000000\n",
            "25%        7.650000\n",
            "50%       10.400000\n",
            "75%       13.900000\n",
            "max       23.900000\n",
            "Name: salario, dtype: float64\n"
          ]
        }
      ],
      "source": [
        "estatisticas_salario = df['salario'].describe()\n",
        "print(\"Estatísticas descritivas para SALARIO (base como um todo):\")\n",
        "print(estatisticas_salario)"
      ]
    },
    {
      "cell_type": "markdown",
      "id": "07d33333",
      "metadata": {},
      "source": [
        "### 4. Cálculo da Amplitude:"
      ]
    },
    {
      "cell_type": "code",
      "execution_count": 70,
      "id": "8ddd6af0",
      "metadata": {},
      "outputs": [
        {
          "name": "stdout",
          "output_type": "stream",
          "text": [
            "\n",
            "Amplitude de SALARIO (base como um todo): 19.9\n"
          ]
        }
      ],
      "source": [
        "amplitude_salario = df['salario'].max() - df['salario'].min()\n",
        "print(\"\\nAmplitude de SALARIO (base como um todo):\", amplitude_salario)"
      ]
    },
    {
      "cell_type": "markdown",
      "id": "04b5891c",
      "metadata": {},
      "source": [
        "### 5. Cálculo da Moda:"
      ]
    },
    {
      "cell_type": "code",
      "execution_count": 71,
      "id": "6363915f",
      "metadata": {},
      "outputs": [
        {
          "name": "stdout",
          "output_type": "stream",
          "text": [
            "\n",
            "Moda de SALARIO (base como um todo): 9.8\n"
          ]
        }
      ],
      "source": [
        "moda_salario = df['salario'].mode()[0]\n",
        "print(\"\\nModa de SALARIO (base como um todo):\", moda_salario)"
      ]
    },
    {
      "cell_type": "markdown",
      "id": "b8c3e5f6",
      "metadata": {},
      "source": [
        "### 6. Cálculo da Variância:"
      ]
    },
    {
      "cell_type": "code",
      "execution_count": 72,
      "id": "2d4c99b2",
      "metadata": {},
      "outputs": [
        {
          "name": "stdout",
          "output_type": "stream",
          "text": [
            "\n",
            "Variância de SALARIO (base como um todo): 17.774563802264566\n"
          ]
        }
      ],
      "source": [
        "variancia_salario = df['salario'].var()\n",
        "print(\"\\nVariância de SALARIO (base como um todo):\", variancia_salario)"
      ]
    },
    {
      "cell_type": "markdown",
      "id": "c9740c87",
      "metadata": {},
      "source": [
        "### 7. Cálculo do Coeficiente de Variação (CV):"
      ]
    },
    {
      "cell_type": "code",
      "execution_count": 73,
      "id": "63cd3fd1",
      "metadata": {},
      "outputs": [
        {
          "name": "stdout",
          "output_type": "stream",
          "text": [
            "\n",
            "Coeficiente de variação de SALARIO (base como um todo): 0.3804818577389044\n"
          ]
        }
      ],
      "source": [
        "cv_salario = df['salario'].std() / df['salario'].mean()\n",
        "print(\"\\nCoeficiente de variação de SALARIO (base como um todo):\", cv_salario)"
      ]
    },
    {
      "cell_type": "markdown",
      "id": "0f8a7b1f",
      "metadata": {},
      "source": [
        "### 8. Estatísticas Descritivas para a Variável SALARIO Considerando o Grau de Instrução:"
      ]
    },
    {
      "cell_type": "code",
      "execution_count": 74,
      "id": "084a712b",
      "metadata": {},
      "outputs": [
        {
          "name": "stdout",
          "output_type": "stream",
          "text": [
            "\n",
            "Estatísticas descritivas para SALARIO considerando grau_instrucao:\n",
            "                count       mean       std   min      25%     50%     75%  \\\n",
            "grau_instrucao                                                              \n",
            "f               120.0   7.922667  2.802770  4.00   6.2475   7.365   8.995   \n",
            "m               203.0  11.208522  3.785457  4.43   8.2600  10.500  13.850   \n",
            "s               103.0  14.507864  3.590439  7.60  11.3500  14.550  17.260   \n",
            "\n",
            "                 max  \n",
            "grau_instrucao        \n",
            "f               14.7  \n",
            "m               23.9  \n",
            "s               23.5  \n"
          ]
        }
      ],
      "source": [
        "estatisticas_salario_grau_instrucao = df.groupby('grau_instrucao')['salario'].describe()\n",
        "print(\"\\nEstatísticas descritivas para SALARIO considerando grau_instrucao:\")\n",
        "print(estatisticas_salario_grau_instrucao)"
      ]
    },
    {
      "cell_type": "markdown",
      "id": "46223d83",
      "metadata": {},
      "source": [
        "### 9. Cálculo da Amplitude por Grau de Instrução:"
      ]
    },
    {
      "cell_type": "code",
      "execution_count": 75,
      "id": "e7e52d15",
      "metadata": {},
      "outputs": [
        {
          "name": "stdout",
          "output_type": "stream",
          "text": [
            "\n",
            "Amplitude de SALARIO por grau_instrucao:\n",
            "grau_instrucao\n",
            "f    10.70\n",
            "m    19.47\n",
            "s    15.90\n",
            "Name: salario, dtype: float64\n"
          ]
        }
      ],
      "source": [
        "amplitude_salario_grau_instrucao = df.groupby('grau_instrucao')['salario'].max() - df.groupby('grau_instrucao')['salario'].min()\n",
        "print(\"\\nAmplitude de SALARIO por grau_instrucao:\")\n",
        "print(amplitude_salario_grau_instrucao)"
      ]
    },
    {
      "cell_type": "markdown",
      "id": "cab9b058",
      "metadata": {},
      "source": [
        "### 10. Cálculo da Moda por Grau de Instrução:"
      ]
    },
    {
      "cell_type": "code",
      "execution_count": 76,
      "id": "3c9a37da",
      "metadata": {},
      "outputs": [
        {
          "name": "stdout",
          "output_type": "stream",
          "text": [
            "\n",
            "Moda de SALARIO por grau_instrucao:\n",
            "grau_instrucao\n",
            "f     6.26\n",
            "m    13.60\n",
            "s    18.75\n",
            "Name: salario, dtype: float64\n"
          ]
        }
      ],
      "source": [
        "moda_salario_grau_instrucao = df.groupby('grau_instrucao')['salario'].agg(lambda x: pd.Series.mode(x)[0])\n",
        "print(\"\\nModa de SALARIO por grau_instrucao:\")\n",
        "print(moda_salario_grau_instrucao)"
      ]
    },
    {
      "cell_type": "markdown",
      "id": "c6d6e22c",
      "metadata": {},
      "source": [
        "### 11. Cálculo da Variância por Grau de Instrução:"
      ]
    },
    {
      "cell_type": "code",
      "execution_count": 77,
      "id": "3e550200",
      "metadata": {},
      "outputs": [
        {
          "name": "stdout",
          "output_type": "stream",
          "text": [
            "\n",
            "Variância de SALARIO por grau_instrucao:\n",
            "grau_instrucao\n",
            "f     7.855517\n",
            "m    14.329684\n",
            "s    12.891250\n",
            "Name: salario, dtype: float64\n"
          ]
        }
      ],
      "source": [
        "variancia_salario_grau_instrucao = df.groupby('grau_instrucao')['salario'].var()\n",
        "print(\"\\nVariância de SALARIO por grau_instrucao:\")\n",
        "print(variancia_salario_grau_instrucao)"
      ]
    },
    {
      "cell_type": "markdown",
      "id": "2c707f06",
      "metadata": {},
      "source": [
        "### 12. Cálculo do Coeficiente de Variação (CV) por Grau de Instrução:"
      ]
    },
    {
      "cell_type": "code",
      "execution_count": 78,
      "id": "21962ac5",
      "metadata": {},
      "outputs": [
        {
          "name": "stdout",
          "output_type": "stream",
          "text": [
            "\n",
            "Coeficiente de variação de SALARIO por grau_instrucao:\n",
            "grau_instrucao\n",
            "f    0.353766\n",
            "m    0.337730\n",
            "s    0.247482\n",
            "Name: salario, dtype: float64\n"
          ]
        }
      ],
      "source": [
        "cv_salario_grau_instrucao = df.groupby('grau_instrucao')['salario'].std() / df.groupby('grau_instrucao')['salario'].mean()\n",
        "print(\"\\nCoeficiente de variação de SALARIO por grau_instrucao:\")\n",
        "print(cv_salario_grau_instrucao)"
      ]
    },
    {
      "cell_type": "markdown",
      "id": "1c929b5a",
      "metadata": {},
      "source": [
        "## Interpretaçao dos Dados da Análise Descritiva da Variável SALARIO"
      ]
    },
    {
      "cell_type": "markdown",
      "id": "53219483",
      "metadata": {},
      "source": [
        "### 1- Para a Base como um Todo:"
      ]
    },
    {
      "cell_type": "markdown",
      "id": "777ed133",
      "metadata": {},
      "source": [
        ". *Estatísticas Descritivas:*\n",
        "\n",
        "| Estatística | Valor |\n",
        "|-------------|-------|\n",
        "| count       | 426.000000 |\n",
        "| mean        | 11.080657 |\n",
        "| std         | 4.215989 |\n",
        "| min         | 4.000000 |\n",
        "| 25%         | 7.650000 |\n",
        "| 50%         | 10.400000 |\n",
        "| 75%         | 13.900000 |\n",
        "| max         | 23.900000 |\n",
        "| Name        | salario |\n",
        "| dtype       | float64 |\n",
        "\n",
        "**Contagem (count):** 426  \n",
        "**Média (mean):** 11.08  \n",
        "**Desvio Padrão (std):** 4.22  \n",
        "**Mínimo (min):** 4.00  \n",
        "**1º Quartil (25%):** 7.65  \n",
        "**Mediana (50%):** 10.40  \n",
        "**3º Quartil (75%):** 13.90  \n",
        "**Máximo (max):** 23.90  \n"
      ]
    },
    {
      "cell_type": "markdown",
      "id": "8256e7b2",
      "metadata": {},
      "source": [
        ". *Amplitude:*\n",
        "19.9"
      ]
    },
    {
      "cell_type": "markdown",
      "id": "2f668a0e",
      "metadata": {},
      "source": [
        ". *Variância:*\n",
        "17.774563802264566"
      ]
    },
    {
      "cell_type": "markdown",
      "id": "f113d551",
      "metadata": {},
      "source": [
        ". *Coeficiente de Variação (CV):*\n",
        "0.3804818577389044"
      ]
    },
    {
      "cell_type": "markdown",
      "id": "fc5fb6f4",
      "metadata": {},
      "source": [
        "### 2- Considerando o Grau de Instrução:"
      ]
    },
    {
      "cell_type": "markdown",
      "id": "a2d2417f",
      "metadata": {
        "tags": [
          "parameters"
        ]
      },
      "source": [
        ". *Estatísticas Descritivas:*\n",
        "\n",
        "                            count       mean       std   min      25%     50%     75%    max\n",
        "            grau_instrucao                                                             \n",
        "            f               120.0   7.922667  2.802770  4.00   6.2475   7.365   8.995   14.7\n",
        "            m               203.0  11.208522  3.785457  4.43   8.2600  10.500  13.850   23.9\n",
        "            s               103.0  14.507864  3.590439  7.60  11.3500  14.550  17.260   23.5"
      ]
    },
    {
      "cell_type": "markdown",
      "id": "e92c1a51",
      "metadata": {},
      "source": [
        "## Conclusão Análise Descritiva da Variável SALARIO\n",
        "\n",
        "A análise descritiva da variável SALARIO mostra que, em geral, os salários variam significativamente com o grau de instrução. A média e a variância dos salários aumentam com o nível de instrução, indicando que pessoas com maior grau de instrução tendem a ter salários mais altos e uma maior dispersão nos salários.\n",
        "\n",
        "### 1. Para a Base como um Todo:\n",
        "\n",
        "#### Estatísticas Descritivas:\n",
        "\n",
        "| Estatística | Valor       |\n",
        "|-------------|-------------|\n",
        "| count       | 426.000000  |\n",
        "| mean        | 11.080657   |\n",
        "| std         | 4.215989    |\n",
        "| min         | 4.000000    |\n",
        "| 25%         | 7.650000    |\n",
        "| 50%         | 10.400000   |\n",
        "| 75%         | 13.900000   |\n",
        "| max         | 23.900000   |\n",
        "\n",
        "#### Amplitude:\n",
        "19.9\n",
        "\n",
        "#### Variância:\n",
        "17.774563802264566\n",
        "\n",
        "#### Coeficiente de Variação (CV):\n",
        "0.3804818577389044\n",
        "\n",
        "### 2. Considerando o Grau de Instrução:\n",
        "\n",
        "#### Estatísticas Descritivas:\n",
        "\n",
        "| Grau de Instrução | count | mean      | std      | min  | 25%    | 50%    | 75%    | max  |\n",
        "|-------------------|-------|-----------|----------|------|--------|--------|--------|------|\n",
        "| Fundamental (f)   | 120.0 | 7.922667  | 2.802770 | 4.00 | 6.2475 | 7.365  | 8.995  | 14.7 |\n",
        "| Médio (m)         | 203.0 | 11.208522 | 3.785457 | 4.43 | 8.2600 | 10.500 | 13.850 | 23.9 |\n",
        "| Superior (s)      | 103.0 | 14.507864 | 3.590439 | 7.60 | 11.3500| 14.550 | 17.260 | 23.5 |\n",
        "\n",
        "#### Amplitude por Grau de Instrução:\n",
        "\n",
        "| Grau de Instrução | Amplitude |\n",
        "|-------------------|-----------|\n",
        "| Fundamental (f)   | 10.70     |\n",
        "| Médio (m)         | 19.47     |\n",
        "| Superior (s)      | 15.90     |\n",
        "\n",
        "#### Moda por Grau de Instrução:\n",
        "\n",
        "| Grau de Instrução | Moda  |\n",
        "|-------------------|-------|\n",
        "| Fundamental (f)   | 6.26  |\n",
        "| Médio (m)         | 13.60 |\n",
        "| Superior (s)      | 18.75 |\n",
        "\n",
        "#### Variância por Grau de Instrução:\n",
        "\n",
        "| Grau de Instrução | Variância |\n",
        "|-------------------|-----------|\n",
        "| Fundamental (f)   | 7.855517  |\n",
        "| Médio (m)         | 14.329684 |\n",
        "| Superior (s)      | 12.891250 |\n",
        "\n",
        "#### Coeficiente de Variação (CV) por Grau de Instrução:\n",
        "\n",
        "| Grau de Instrução | CV       |\n",
        "|-------------------|----------|\n",
        "| Fundamental (f)   | 0.353766 |\n",
        "| Médio (m)         | 0.337730 |\n",
        "| Superior (s)      | 0.247482 |"
      ]
    }
  ],
  "metadata": {
    "colab": {
      "provenance": []
    },
    "kernelspec": {
      "display_name": "myenv",
      "language": "python",
      "name": "python3"
    },
    "language_info": {
      "codemirror_mode": {
        "name": "ipython",
        "version": 3
      },
      "file_extension": ".py",
      "mimetype": "text/x-python",
      "name": "python",
      "nbconvert_exporter": "python",
      "pygments_lexer": "ipython3",
      "version": "3.12.6"
    }
  },
  "nbformat": 4,
  "nbformat_minor": 5
}
