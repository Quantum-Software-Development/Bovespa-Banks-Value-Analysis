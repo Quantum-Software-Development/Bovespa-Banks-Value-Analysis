{
 "cells": [
  {
   "cell_type": "markdown",
   "metadata": {},
   "source": [
    "## 4. Teste a igualdade da média de X9 em função de X14."
   ]
  },
  {
   "cell_type": "code",
   "execution_count": 1,
   "metadata": {},
   "outputs": [],
   "source": [
    "# Importar bibliotecas necessárias\n",
    "import pandas as pd\n",
    "import statsmodels.api as sm\n",
    "from statsmodels.formula.api import ols"
   ]
  },
  {
   "cell_type": "code",
   "execution_count": 2,
   "metadata": {},
   "outputs": [],
   "source": [
    "# Local do arquivo\n",
    "caminho = '/Users/fabicampanari/Desktop/_8-Prova Matematematica/1-statiscalMeasures_ Hypothesis Testing II./1🇧🇷-statiscalMeasures_ Hypothesis Testing II./MATEMA/Biscobis.xlsx'"
   ]
  },
  {
   "cell_type": "code",
   "execution_count": 3,
   "metadata": {},
   "outputs": [],
   "source": [
    "df=pd.read_excel(caminho)"
   ]
  },
  {
   "cell_type": "code",
   "execution_count": 4,
   "metadata": {},
   "outputs": [
    {
     "name": "stdout",
     "output_type": "stream",
     "text": [
      "Primeiras linhas do DataFrame:\n",
      "   ident   x1   x2   x3   x4   x5   x6   x7  x8  x9  x10  x11  x12  x13  x14\n",
      "0      1  4.1  0.6  6.9  4.7  2.4  2.3  5.2   0  32  4.2    1    0    1    1\n",
      "1      5  6.0  0.9  9.6  7.8  3.4  4.6  4.5   0  58  6.8    1    0    1    3\n",
      "2      7  4.6  2.4  9.5  6.6  3.5  4.5  7.6   0  46  5.8    1    0    1    1\n",
      "3      9  5.5  1.6  9.4  4.7  3.5  3.0  7.6   0  63  5.4    1    0    1    3\n",
      "4     11  2.4  1.6  8.8  4.8  2.0  2.8  5.8   0  32  4.3    1    0    0    1\n"
     ]
    }
   ],
   "source": [
    "# Visualizar as primeiras linhas do DataFrame para entender a estrutura dos dados\n",
    "print(\"Primeiras linhas do DataFrame:\")\n",
    "print(df.head())"
   ]
  },
  {
   "cell_type": "code",
   "execution_count": 5,
   "metadata": {},
   "outputs": [
    {
     "name": "stdout",
     "output_type": "stream",
     "text": [
      "Colunas disponíveis no DataFrame:\n",
      "Index(['ident', 'x1', 'x2', 'x3', 'x4', 'x5', 'x6', 'x7', 'x8', 'x9', 'x10',\n",
      "       'x11', 'x12', 'x13', 'x14'],\n",
      "      dtype='object')\n"
     ]
    }
   ],
   "source": [
    "# Verificar as colunas disponíveis no DataFrame\n",
    "print(\"Colunas disponíveis no DataFrame:\")\n",
    "print(df.columns)"
   ]
  },
  {
   "cell_type": "code",
   "execution_count": 6,
   "metadata": {},
   "outputs": [
    {
     "name": "stdout",
     "output_type": "stream",
     "text": [
      "Resultados da ANOVA:\n",
      "               sum_sq    df          F        PR(>F)\n",
      "C(x14)    5498.766544   2.0  106.66611  3.197614e-25\n",
      "Residual  2500.233456  97.0        NaN           NaN\n"
     ]
    }
   ],
   "source": [
    "# Realizar a ANOVA\n",
    "modelo = ols('x9 ~ C(x14)', data=df).fit()\n",
    "anova_resultado = sm.stats.anova_lm(modelo, typ=2)\n",
    "print(\"Resultados da ANOVA:\")\n",
    "print(anova_resultado)"
   ]
  },
  {
   "cell_type": "markdown",
   "metadata": {},
   "source": [
    "\n",
    "### Interpretação\n",
    "H evidências estatísticas suficientes para concluir que a média de X9 é significativamente diferente para os diferentes níveis de X14.\n",
    "\n",
    "### Conclusão\n",
    "Rejeitamos a hipótes nula. A situação de compra (X14) tem um impacto significativo no nível de uso (X9) do produto da Biscobis na empresa.\n",
    "\n",
    "Com base nos resultados da ANOVA, concluímos que há uma diferença significativa nas médias de X9 para os diferentes níveis de X14. Isso indica que a situação de compra (X14) tem um impacto significativo no nível de uso (X9) do produto da Biscobis na empresa."
   ]
  }
 ],
 "metadata": {
  "kernelspec": {
   "display_name": "myenv",
   "language": "python",
   "name": "python3"
  },
  "language_info": {
   "codemirror_mode": {
    "name": "ipython",
    "version": 3
   },
   "file_extension": ".py",
   "mimetype": "text/x-python",
   "name": "python",
   "nbconvert_exporter": "python",
   "pygments_lexer": "ipython3",
   "version": "3.12.6"
  }
 },
 "nbformat": 4,
 "nbformat_minor": 2
}
