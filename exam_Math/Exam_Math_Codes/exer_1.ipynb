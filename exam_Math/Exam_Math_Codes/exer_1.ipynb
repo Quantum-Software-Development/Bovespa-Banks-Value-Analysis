{
 "cells": [
  {
   "cell_type": "markdown",
   "metadata": {},
   "source": [
    "## 1.Faça a análise descritiva das variáveis X1 a X7, X9 e X10"
   ]
  },
  {
   "cell_type": "code",
   "execution_count": 1,
   "metadata": {},
   "outputs": [],
   "source": [
    "# Importar bibliotecas necessárias\n",
    "import pandas as pd"
   ]
  },
  {
   "cell_type": "code",
   "execution_count": 2,
   "metadata": {},
   "outputs": [],
   "source": [
    "# Local do arquivo\n",
    "caminho = '/Users/fabicampanari/Desktop/_8-Prova Matematematica/1-statiscalMeasures_ Hypothesis Testing II./1🇧🇷-statiscalMeasures_ Hypothesis Testing II./MATEMA/Biscobis.xlsx'"
   ]
  },
  {
   "cell_type": "code",
   "execution_count": 3,
   "metadata": {},
   "outputs": [],
   "source": [
    "df=pd.read_excel(caminho)"
   ]
  },
  {
   "cell_type": "code",
   "execution_count": 4,
   "metadata": {},
   "outputs": [
    {
     "name": "stdout",
     "output_type": "stream",
     "text": [
      "Primeiras linhas do DataFrame:\n",
      "   ident   x1   x2   x3   x4   x5   x6   x7  x8  x9  x10  x11  x12  x13  x14\n",
      "0      1  4.1  0.6  6.9  4.7  2.4  2.3  5.2   0  32  4.2    1    0    1    1\n",
      "1      5  6.0  0.9  9.6  7.8  3.4  4.6  4.5   0  58  6.8    1    0    1    3\n",
      "2      7  4.6  2.4  9.5  6.6  3.5  4.5  7.6   0  46  5.8    1    0    1    1\n",
      "3      9  5.5  1.6  9.4  4.7  3.5  3.0  7.6   0  63  5.4    1    0    1    3\n",
      "4     11  2.4  1.6  8.8  4.8  2.0  2.8  5.8   0  32  4.3    1    0    0    1\n"
     ]
    }
   ],
   "source": [
    "# Visualizar as primeiras linhas do DataFrame para entender a estrutura dos dados\n",
    "print(\"Primeiras linhas do DataFrame:\")\n",
    "print(df.head())"
   ]
  },
  {
   "cell_type": "code",
   "execution_count": 5,
   "metadata": {},
   "outputs": [],
   "source": [
    "# Selecionar as variáveis de interesse (X1 a X7, X9 e X10)\n",
    "variaveis_interesse = ['x1', 'x2', 'x3', 'x4', 'x5', 'x6', 'x7', 'x9', 'x10']\n",
    "df_selecionado = df[variaveis_interesse]"
   ]
  },
  {
   "cell_type": "code",
   "execution_count": 6,
   "metadata": {},
   "outputs": [
    {
     "name": "stdout",
     "output_type": "stream",
     "text": [
      "Análise Descritiva das Variáveis X1 a X7, X9 e X10:\n",
      "               x1          x2          x3          x4          x5          x6  \\\n",
      "count  100.000000  100.000000  100.000000  100.000000  100.000000  100.000000   \n",
      "mean     3.515000    2.364000    7.894000    5.258000    2.913000    2.665000   \n",
      "std      1.320726    1.195659    1.386502    1.130047    0.750307    0.770855   \n",
      "min      0.000000    0.200000    5.000000    2.500000    0.700000    1.100000   \n",
      "25%      2.500000    1.475000    6.700000    4.575000    2.400000    2.200000   \n",
      "50%      3.400000    2.150000    8.050000    5.000000    3.000000    2.600000   \n",
      "75%      4.600000    3.225000    9.100000    6.000000    3.425000    3.000000   \n",
      "max      6.100000    5.400000   10.000000    8.200000    4.600000    4.600000   \n",
      "\n",
      "               x7         x9         x10  \n",
      "count  100.000000  100.00000  100.000000  \n",
      "mean     6.957000   46.10000    4.771000  \n",
      "std      1.590645    8.98877    0.855558  \n",
      "min      3.700000   25.00000    3.200000  \n",
      "25%      5.800000   39.00000    4.100000  \n",
      "50%      7.150000   46.50000    4.850000  \n",
      "75%      8.325000   53.25000    5.400000  \n",
      "max     10.000000   65.00000    6.800000  \n"
     ]
    }
   ],
   "source": [
    "# Realizar a análise descritiva das variáveis selecionadas\n",
    "analise_descritiva = df_selecionado.describe()\n",
    "print(\"Análise Descritiva das Variáveis X1 a X7, X9 e X10:\")\n",
    "print(analise_descritiva)"
   ]
  },
  {
   "cell_type": "markdown",
   "metadata": {},
   "source": [
    "## Interpretação e Conclusão\n",
    "\n",
    "### Resultados da Análise Descritiva:\n",
    "\n",
    "### Resultados da Análise Descritiva:\n",
    "\n",
    "Análise Descritiva das Variáveis X1 a X7, X9 e X10:\n",
    "\n",
    "|       |    x1    |    x2    |    x3    |    x4    |    x5    |    x6    |    x7    |    x9    |   x10   |\n",
    "|-------|----------|----------|----------|----------|----------|----------|----------|----------|---------|\n",
    "| count | 100.0000 | 100.0000 | 100.0000 | 100.0000 | 100.0000 | 100.0000 | 100.0000 | 100.0000 | 100.0000 |\n",
    "| mean  |   3.5150 |   2.3640 |   7.8940 |   5.2580 |   2.9130 |   2.6650 |   6.9570 |  46.1000 |   4.7710 |\n",
    "| std   |   1.3207 |   1.1957 |   1.3865 |   1.1300 |   0.7503 |   0.7709 |   1.5906 |   8.9888 |   0.8556 |\n",
    "| min   |   0.0000 |   0.2000 |   5.0000 |   2.5000 |   0.7000 |   1.1000 |   3.7000 |  25.0000 |   3.2000 |\n",
    "| 25%   |   2.5000 |   1.4750 |   6.7000 |   4.5750 |   2.4000 |   2.2000 |   5.8000 |  39.0000 |   4.1000 |\n",
    "| 50%   |   3.4000 |   2.1500 |   8.0500 |   5.0000 |   3.0000 |   2.6000 |   7.1500 |  46.5000 |   4.8500 |\n",
    "| 75%   |   4.6000 |   3.2250 |   9.1000 |   6.0000 |   3.4250 |   3.0000 |   8.3250 |  53.2500 |   5.4000 |\n",
    "| max   |   6.1000 |   5.4000 |  10.0000 |   8.2000 |   4.6000 |   4.6000 |  10.0000 |  65.0000 |   6.8000 |\n"
   ]
  },
  {
   "cell_type": "markdown",
   "metadata": {},
   "source": [
    "Interpretação:\n",
    "**Contagem (count):** Número de observações para cada variável.\n",
    "\n",
    "**Média (mean):** Valor médio de cada variável.\n",
    "\n",
    "**Desvio Padrão (std):** Medida da dispersão dos valores em torno da média.\n",
    "\n",
    "**Mínimo (min):** Valor mínimo observado para cada variável.\n",
    "\n",
    "**1º Quartil (25%):** Valor abaixo do qual 25% das observações caem.\n",
    "\n",
    "**Mediana (50%):** Valor central das observações.\n",
    "\n",
    "**3º Quartil (75%):** Valor abaixo do qual 75% das observações caem.\n",
    "\n",
    "**Máximo (max):** Valor máximo observado para cada variável.\n",
    "\n",
    "<br>\n",
    "\n",
    "**Conclusão:**\n",
    "\n",
    "A análise descritiva das variáveis X1 a X7, X9 e X10 fornece uma visão geral das características estatísticas dessas variáveis na base de dados BISCOBIS. Com base nos resultados, podemos observar a distribuição dos valores, a centralidade (média e mediana) e a dispersão (desvio padrão) das variáveis. Esses insights são úteis para entender melhor os dados e identificar possíveis padrões ou anomalias.\n",
    "\n"
   ]
  }
 ],
 "metadata": {
  "kernelspec": {
   "display_name": "myenv",
   "language": "python",
   "name": "python3"
  },
  "language_info": {
   "codemirror_mode": {
    "name": "ipython",
    "version": 3
   },
   "file_extension": ".py",
   "mimetype": "text/x-python",
   "name": "python",
   "nbconvert_exporter": "python",
   "pygments_lexer": "ipython3",
   "version": "3.12.6"
  }
 },
 "nbformat": 4,
 "nbformat_minor": 2
}
