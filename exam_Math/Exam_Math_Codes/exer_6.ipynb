{
 "cells": [
  {
   "cell_type": "markdown",
   "metadata": {},
   "source": [
    "## 6. Verifique se a estrutura de compra que a empresa adota está ligada ao tipo de firma"
   ]
  },
  {
   "cell_type": "code",
   "execution_count": 1,
   "metadata": {},
   "outputs": [],
   "source": [
    "# Importar bibliotecas necessárias\n",
    "import pandas as pd\n",
    "import scipy.stats as stats"
   ]
  },
  {
   "cell_type": "code",
   "execution_count": 2,
   "metadata": {},
   "outputs": [],
   "source": [
    "# Local do arquivo\n",
    "caminho = '/Users/fabicampanari/Desktop/_8-Prova Matematematica/1-statiscalMeasures_ Hypothesis Testing II./1🇧🇷-statiscalMeasures_ Hypothesis Testing II./MATEMA/Biscobis.xlsx'"
   ]
  },
  {
   "cell_type": "code",
   "execution_count": 3,
   "metadata": {},
   "outputs": [],
   "source": [
    "df=pd.read_excel(caminho)"
   ]
  },
  {
   "cell_type": "code",
   "execution_count": 4,
   "metadata": {},
   "outputs": [
    {
     "name": "stdout",
     "output_type": "stream",
     "text": [
      "Primeiras linhas do DataFrame:\n",
      "   ident   x1   x2   x3   x4   x5   x6   x7  x8  x9  x10  x11  x12  x13  x14\n",
      "0      1  4.1  0.6  6.9  4.7  2.4  2.3  5.2   0  32  4.2    1    0    1    1\n",
      "1      5  6.0  0.9  9.6  7.8  3.4  4.6  4.5   0  58  6.8    1    0    1    3\n",
      "2      7  4.6  2.4  9.5  6.6  3.5  4.5  7.6   0  46  5.8    1    0    1    1\n",
      "3      9  5.5  1.6  9.4  4.7  3.5  3.0  7.6   0  63  5.4    1    0    1    3\n",
      "4     11  2.4  1.6  8.8  4.8  2.0  2.8  5.8   0  32  4.3    1    0    0    1\n"
     ]
    }
   ],
   "source": [
    "# Visualizar as primeiras linhas do DataFrame para entender a estrutura dos dados\n",
    "print(\"Primeiras linhas do DataFrame:\")\n",
    "print(df.head())"
   ]
  },
  {
   "cell_type": "code",
   "execution_count": 5,
   "metadata": {},
   "outputs": [
    {
     "name": "stdout",
     "output_type": "stream",
     "text": [
      "Colunas disponíveis no DataFrame:\n",
      "Index(['ident', 'x1', 'x2', 'x3', 'x4', 'x5', 'x6', 'x7', 'x8', 'x9', 'x10',\n",
      "       'x11', 'x12', 'x13', 'x14'],\n",
      "      dtype='object')\n"
     ]
    }
   ],
   "source": [
    "# Verificar as colunas disponíveis no DataFrame\n",
    "print(\"Colunas disponíveis no DataFrame:\")\n",
    "print(df.columns)"
   ]
  },
  {
   "cell_type": "code",
   "execution_count": 6,
   "metadata": {},
   "outputs": [
    {
     "name": "stdout",
     "output_type": "stream",
     "text": [
      "Tabela de Contingência:\n",
      "x13   0   1\n",
      "x12        \n",
      "0    26  24\n",
      "1    24  26\n"
     ]
    }
   ],
   "source": [
    "# Criar a tabela de contingência para x12 (estrutura da compra) e x13 (tipo de firma)\n",
    "contingency_table = pd.crosstab(df['x12'], df['x13'])\n",
    "print(\"Tabela de Contingência:\")\n",
    "print(contingency_table)"
   ]
  },
  {
   "cell_type": "code",
   "execution_count": 7,
   "metadata": {},
   "outputs": [
    {
     "name": "stdout",
     "output_type": "stream",
     "text": [
      "\n",
      "Resultados do Teste Qui-Quadrado de Independência:\n",
      "Estatística Qui-Quadrado: 0.04\n",
      "Valor p: 0.841480581121794\n",
      "Graus de Liberdade: 1\n",
      "Frequências Esperadas:\n",
      "[[25. 25.]\n",
      " [25. 25.]]\n"
     ]
    }
   ],
   "source": [
    "# Realizar o teste qui-quadrado de independência\n",
    "chi2_stat, p_val, dof, expected = stats.chi2_contingency(contingency_table)\n",
    "print(\"\\nResultados do Teste Qui-Quadrado de Independência:\")\n",
    "print(f\"Estatística Qui-Quadrado: {chi2_stat}\")\n",
    "print(f\"Valor p: {p_val}\")\n",
    "print(f\"Graus de Liberdade: {dof}\")\n",
    "print(\"Frequências Esperadas:\")\n",
    "print(expected)"
   ]
  },
  {
   "cell_type": "code",
   "execution_count": 8,
   "metadata": {},
   "outputs": [
    {
     "name": "stdout",
     "output_type": "stream",
     "text": [
      "\n",
      "Conclusão: Não rejeitamos a hipótese nula. A estrutura de compra não está significativamente associada ao tipo de firma.\n"
     ]
    }
   ],
   "source": [
    "# Interpretação e Conclusão\n",
    "if p_val < 0.05:\n",
    "    print(\"\\nConclusão: Rejeitamos a hipótese nula. A estrutura de compra está significativamente associada ao tipo de firma.\")\n",
    "else:\n",
    "    print(\"\\nConclusão: Não rejeitamos a hipótese nula. A estrutura de compra não está significativamente associada ao tipo de firma.\")"
   ]
  }
 ],
 "metadata": {
  "kernelspec": {
   "display_name": "myenv",
   "language": "python",
   "name": "python3"
  },
  "language_info": {
   "codemirror_mode": {
    "name": "ipython",
    "version": 3
   },
   "file_extension": ".py",
   "mimetype": "text/x-python",
   "name": "python",
   "nbconvert_exporter": "python",
   "pygments_lexer": "ipython3",
   "version": "3.12.6"
  }
 },
 "nbformat": 4,
 "nbformat_minor": 2
}
