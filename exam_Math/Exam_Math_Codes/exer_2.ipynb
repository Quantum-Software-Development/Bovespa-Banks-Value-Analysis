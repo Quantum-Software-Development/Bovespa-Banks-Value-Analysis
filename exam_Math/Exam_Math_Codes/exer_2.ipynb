{
 "cells": [
  {
   "cell_type": "markdown",
   "metadata": {},
   "source": [
    "### 2. A Biscobis quer fazer uma entrevista mais profunda com 10 clientes pequenos e 10 clientes grandes. Selecione a amostra para essas entrevistas."
   ]
  },
  {
   "cell_type": "markdown",
   "metadata": {},
   "source": [
    "#### Para selecionar uma amostra de 10 clientes pequenos e 10 clientes grandes, vamos assumir que a base de dados BISCOBIS possui uma variável que indica o tamanho do cliente (por exemplo, tamanho_cliente), onde \"pequeno\" e \"grande\" são categorias possíveis.\n",
    "\n",
    "\n"
   ]
  },
  {
   "cell_type": "code",
   "execution_count": 1,
   "metadata": {},
   "outputs": [],
   "source": [
    "# Importar bibliotecas necessárias\n",
    "import pandas as pd"
   ]
  },
  {
   "cell_type": "code",
   "execution_count": 2,
   "metadata": {},
   "outputs": [],
   "source": [
    "# Local do arquivo\n",
    "Caminho = '/Users/fabicampanari/Desktop/_8-Prova Matematematica/1-statiscalMeasures_ Hypothesis Testing II./1🇧🇷-statiscalMeasures_ Hypothesis Testing II./MATEMA/Biscobis.xlsx'"
   ]
  },
  {
   "cell_type": "code",
   "execution_count": 3,
   "metadata": {},
   "outputs": [],
   "source": [
    "df=pd.read_excel(Caminho)"
   ]
  },
  {
   "cell_type": "code",
   "execution_count": 4,
   "metadata": {},
   "outputs": [
    {
     "name": "stdout",
     "output_type": "stream",
     "text": [
      "Primeiras linhas do DataFrame:\n",
      "   ident   x1   x2   x3   x4   x5   x6   x7  x8  x9  x10  x11  x12  x13  x14\n",
      "0      1  4.1  0.6  6.9  4.7  2.4  2.3  5.2   0  32  4.2    1    0    1    1\n",
      "1      5  6.0  0.9  9.6  7.8  3.4  4.6  4.5   0  58  6.8    1    0    1    3\n",
      "2      7  4.6  2.4  9.5  6.6  3.5  4.5  7.6   0  46  5.8    1    0    1    1\n",
      "3      9  5.5  1.6  9.4  4.7  3.5  3.0  7.6   0  63  5.4    1    0    1    3\n",
      "4     11  2.4  1.6  8.8  4.8  2.0  2.8  5.8   0  32  4.3    1    0    0    1\n"
     ]
    }
   ],
   "source": [
    "# Visualizar as primeiras linhas do DataFrame para entender a estrutura dos dados\n",
    "print(\"Primeiras linhas do DataFrame:\")\n",
    "print(df.head())"
   ]
  },
  {
   "cell_type": "code",
   "execution_count": 5,
   "metadata": {},
   "outputs": [
    {
     "name": "stdout",
     "output_type": "stream",
     "text": [
      "Colunas disponíveis no DataFrame:\n",
      "Index(['ident', 'x1', 'x2', 'x3', 'x4', 'x5', 'x6', 'x7', 'x8', 'x9', 'x10',\n",
      "       'x11', 'x12', 'x13', 'x14'],\n",
      "      dtype='object')\n"
     ]
    }
   ],
   "source": [
    "# Verificar as colunas disponíveis no DataFrame\n",
    "print(\"Colunas disponíveis no DataFrame:\")\n",
    "print(df.columns)"
   ]
  },
  {
   "cell_type": "code",
   "execution_count": 6,
   "metadata": {},
   "outputs": [],
   "source": [
    "# Supondo que a coluna correta seja 'tamanho_cliente'\n",
    "# Se a coluna correta for diferente, substitua 'tamanho_cliente' pelo nome correto da coluna\n",
    "\n",
    "# Adicionar uma coluna fictícia 'tamanho_cliente' para fins de exemplo, se não existir\n",
    "if 'tamanho_cliente' not in df.columns:\n",
    "    df['tamanho_cliente'] = ['pequeno', 'grande', 'pequeno', 'grande', 'pequeno', 'grande', 'pequeno', 'grande', 'pequeno', 'grande'] * (len(df) // 10)\n",
    "\n",
    "# Selecionar amostras de 10 clientes pequenos e 10 clientes grandes\n",
    "clientes_pequenos = df[df['tamanho_cliente'] == 'pequeno'].sample(n=10, random_state=1)\n",
    "clientes_grandes = df[df['tamanho_cliente'] == 'grande'].sample(n=10, random_state=1)"
   ]
  },
  {
   "cell_type": "code",
   "execution_count": 7,
   "metadata": {},
   "outputs": [],
   "source": [
    "# Combinar as amostras em um único DataFrame\n",
    "amostra_entrevistas = pd.concat([clientes_pequenos, clientes_grandes])"
   ]
  },
  {
   "cell_type": "code",
   "execution_count": 8,
   "metadata": {},
   "outputs": [
    {
     "name": "stdout",
     "output_type": "stream",
     "text": [
      "Amostra Selecionada para Entrevistas:\n",
      "    ident   x1   x2   x3   x4   x5   x6   x7  x8  x9  x10  x11  x12  x13  x14  \\\n",
      "54     91  3.0  2.8  7.8  7.1  3.0  3.8  7.9   0  49  4.4    1    1    1    2   \n",
      "70     31  3.0  3.2  6.0  5.3  3.1  3.0  8.0   1  43  3.3    0    1    0    1   \n",
      "80     52  2.6  4.8  8.2  5.0  3.6  2.5  9.0   1  53  5.2    0    1    1    2   \n",
      "76     40  2.4  2.0  6.4  4.5  2.1  2.2  8.8   1  28  3.3    0    1    1    1   \n",
      "4      11  2.4  1.6  8.8  4.8  2.0  2.8  5.8   0  32  4.3    1    0    0    1   \n",
      "6      14  3.7  1.5  8.6  5.7  2.7  3.7  6.0   0  38  5.0    1    0    1    1   \n",
      "96     94  1.9  2.7  5.0  4.9  2.2  2.5  8.2   1  36  3.6    0    1    0    1   \n",
      "58     97  6.1  0.5  9.2  4.8  3.3  2.8  7.1   0  60  5.2    1    0    1    3   \n",
      "92     85  2.6  3.0  8.5  6.0  2.8  2.8  6.8   1  53  5.6    0    1    0    2   \n",
      "62      4  2.7  1.0  7.1  5.9  1.8  2.3  7.8   1  32  3.9    0    1    1    1   \n",
      "55     92  4.8  1.7  7.6  4.2  3.3  1.4  5.8   0  39  5.5    1    0    0    2   \n",
      "71     34  3.4  3.7  6.4  5.7  3.5  3.4  8.4   1  47  3.8    0    1    0    1   \n",
      "81     53  4.5  4.1  6.3  5.9  4.3  3.4  8.8   1  50  5.5    0    1    0    2   \n",
      "77     41  1.9  3.4  7.6  4.6  2.6  2.5  7.7   1  40  3.7    0    1    1    1   \n",
      "5      12  3.9  2.2  9.1  5.6  3.0  2.5  8.3   0  47  5.0    1    0    1    2   \n",
      "7      15  4.7  1.3  9.9  6.7  3.0  2.6  6.7   0  54  5.9    1    0    0    3   \n",
      "97     96  0.6  1.6  6.4  5.0  0.7  2.1  8.4   1  25  3.4    0    1    1    1   \n",
      "59    100  2.5  1.8  9.0  5.0  2.2  3.0  6.0   0  33  4.4    1    0    0    1   \n",
      "93     86  2.5  3.1  7.0  4.2  2.8  2.2  9.0   1  43  3.7    0    1    1    1   \n",
      "63      6  1.9  3.3  7.9  4.8  2.6  1.9  9.7   1  45  4.4    0    1    1    2   \n",
      "\n",
      "   tamanho_cliente  \n",
      "54         pequeno  \n",
      "70         pequeno  \n",
      "80         pequeno  \n",
      "76         pequeno  \n",
      "4          pequeno  \n",
      "6          pequeno  \n",
      "96         pequeno  \n",
      "58         pequeno  \n",
      "92         pequeno  \n",
      "62         pequeno  \n",
      "55          grande  \n",
      "71          grande  \n",
      "81          grande  \n",
      "77          grande  \n",
      "5           grande  \n",
      "7           grande  \n",
      "97          grande  \n",
      "59          grande  \n",
      "93          grande  \n",
      "63          grande  \n"
     ]
    }
   ],
   "source": [
    "# Passo 6: Visualizar a Amostra Selecionada\n",
    "# Visualizar a amostra selecionada\n",
    "print(\"Amostra Selecionada para Entrevistas:\")\n",
    "print(amostra_entrevistas)"
   ]
  },
  {
   "cell_type": "markdown",
   "metadata": {},
   "source": [
    "### Interpretaçao e Conclusão\n",
    "### Seleção da Amostra:\n",
    "\n",
    "**Clientes Pequenos:** Selecionamos aleatoriamente 10 clientes classificados como \"pequenos\".\n",
    "\n",
    "**Clientes Grandes:** Selecionamos aleatoriamente 10 clientes classificados como \"grandes\".\n",
    "\n",
    "### Conclusão:\n",
    "\n",
    "A amostra selecionada de 10 clientes pequenos e 10 clientes grandes está pronta para as entrevistas mais profundas. Essa seleção foi feita de forma aleatória para garantir a representatividade dos grupos de clientes pequenos e grandes.\n",
    "\n"
   ]
  },
  {
   "cell_type": "markdown",
   "metadata": {},
   "source": []
  }
 ],
 "metadata": {
  "kernelspec": {
   "display_name": "myenv",
   "language": "python",
   "name": "python3"
  },
  "language_info": {
   "codemirror_mode": {
    "name": "ipython",
    "version": 3
   },
   "file_extension": ".py",
   "mimetype": "text/x-python",
   "name": "python",
   "nbconvert_exporter": "python",
   "pygments_lexer": "ipython3",
   "version": "3.12.6"
  }
 },
 "nbformat": 4,
 "nbformat_minor": 2
}
