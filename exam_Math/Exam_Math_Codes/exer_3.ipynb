{
 "cells": [
  {
   "cell_type": "markdown",
   "metadata": {},
   "source": [
    "### 3. Verifique se o nível de uso pode ser considerado o mesmo para firmas TOP e Não TOP\n"
   ]
  },
  {
   "cell_type": "code",
   "execution_count": 1,
   "metadata": {},
   "outputs": [],
   "source": [
    "# Importar bibliotecas necessárias\n",
    "import pandas as pd\n",
    "from scipy import stats"
   ]
  },
  {
   "cell_type": "code",
   "execution_count": 2,
   "metadata": {},
   "outputs": [],
   "source": [
    "# Local do arquivo\n",
    "caminho = '/Users/fabicampanari/Desktop/_8-Prova Matematematica/1-statiscalMeasures_ Hypothesis Testing II./1🇧🇷-statiscalMeasures_ Hypothesis Testing II./MATEMA/Biscobis.xlsx'\n",
    "\n",
    "# Carregar o arquivo para o DataFrame\n",
    "df = pd.read_excel(caminho)"
   ]
  },
  {
   "cell_type": "code",
   "execution_count": 3,
   "metadata": {},
   "outputs": [
    {
     "name": "stdout",
     "output_type": "stream",
     "text": [
      "Primeiras linhas do DataFrame:\n",
      "   ident   x1   x2   x3   x4   x5   x6   x7  x8  x9  x10  x11  x12  x13  x14\n",
      "0      1  4.1  0.6  6.9  4.7  2.4  2.3  5.2   0  32  4.2    1    0    1    1\n",
      "1      5  6.0  0.9  9.6  7.8  3.4  4.6  4.5   0  58  6.8    1    0    1    3\n",
      "2      7  4.6  2.4  9.5  6.6  3.5  4.5  7.6   0  46  5.8    1    0    1    1\n",
      "3      9  5.5  1.6  9.4  4.7  3.5  3.0  7.6   0  63  5.4    1    0    1    3\n",
      "4     11  2.4  1.6  8.8  4.8  2.0  2.8  5.8   0  32  4.3    1    0    0    1\n"
     ]
    }
   ],
   "source": [
    "# Visualizar as primeiras linhas do DataFrame para entender a estrutura dos dados\n",
    "print(\"Primeiras linhas do DataFrame:\")\n",
    "print(df.head())"
   ]
  },
  {
   "cell_type": "code",
   "execution_count": 4,
   "metadata": {},
   "outputs": [
    {
     "name": "stdout",
     "output_type": "stream",
     "text": [
      "Colunas disponíveis no DataFrame:\n",
      "Index(['ident', 'x1', 'x2', 'x3', 'x4', 'x5', 'x6', 'x7', 'x8', 'x9', 'x10',\n",
      "       'x11', 'x12', 'x13', 'x14'],\n",
      "      dtype='object')\n"
     ]
    }
   ],
   "source": [
    "# Verificar as colunas disponíveis no DataFrame\n",
    "print(\"Colunas disponíveis no DataFrame:\")\n",
    "print(df.columns)"
   ]
  },
  {
   "cell_type": "code",
   "execution_count": 5,
   "metadata": {},
   "outputs": [
    {
     "name": "stdout",
     "output_type": "stream",
     "text": [
      "Valores únicos na coluna 'x13':\n",
      "[1 0]\n"
     ]
    }
   ],
   "source": [
    "# Supondo que a coluna 'x13' indica se a firma é TOP ou Não TOP\n",
    "# Se as colunas corretas forem diferentes, substitua 'x13' pelo nome correto da coluna\n",
    "\n",
    "# Verificar os valores únicos na coluna 'x13' para identificar as firmas TOP e Não TOP\n",
    "print(\"Valores únicos na coluna 'x13':\")\n",
    "print(df['x13'].unique())"
   ]
  },
  {
   "cell_type": "code",
   "execution_count": 6,
   "metadata": {},
   "outputs": [],
   "source": [
    "# Supondo que 1 representa firmas TOP e 0 representa firmas Não TOP\n",
    "firmas_top = df[df['x13'] == 1]\n",
    "firmas_nao_top = df[df['x13'] == 0]\n"
   ]
  },
  {
   "cell_type": "code",
   "execution_count": 7,
   "metadata": {},
   "outputs": [],
   "source": [
    "# Supondo que a coluna 'x14' representa o nível de uso\n",
    "# Se a coluna correta for diferente, substitua 'x14' pelo nome correto da coluna\n",
    "\n",
    "# Selecionar os níveis de uso para firmas TOP e Não TOP\n",
    "uso_top = firmas_top['x14']\n",
    "uso_nao_top = firmas_nao_top['x14']"
   ]
  },
  {
   "cell_type": "code",
   "execution_count": 8,
   "metadata": {},
   "outputs": [
    {
     "name": "stdout",
     "output_type": "stream",
     "text": [
      "\n",
      "Resultados do Teste t de Student:\n",
      "Estatística t: 0.480761973820412\n",
      "Valor p: 0.6317572451539955\n"
     ]
    }
   ],
   "source": [
    "# Passo 7: Realizar o Teste t de Student para Amostras Independentes\n",
    "# Realizar o teste t de Student para amostras independentes\n",
    "t_stat, p_val = stats.ttest_ind(uso_top, uso_nao_top, equal_var=False)\n",
    "print(\"\\nResultados do Teste t de Student:\")\n",
    "print(f\"Estatística t: {t_stat}\")\n",
    "print(f\"Valor p: {p_val}\")\n"
   ]
  },
  {
   "cell_type": "code",
   "execution_count": 9,
   "metadata": {},
   "outputs": [
    {
     "name": "stdout",
     "output_type": "stream",
     "text": [
      "\n",
      "Conclusão: Não rejeitamos a hipótese nula. O nível de uso é o mesmo para firmas TOP e Não TOP.\n"
     ]
    }
   ],
   "source": [
    "# Passo 8: Interpretação e Conclusão\n",
    "# Interpretação e Conclusão\n",
    "if p_val < 0.05:\n",
    "    print(\"\\nConclusão: Rejeitamos a hipótese nula. O nível de uso é diferente para firmas TOP e Não TOP.\")\n",
    "else:\n",
    "    print(\"\\nConclusão: Não rejeitamos a hipótese nula. O nível de uso é o mesmo para firmas TOP e Não TOP.\")"
   ]
  },
  {
   "cell_type": "markdown",
   "metadata": {},
   "source": [
    "Resultados do Teste t de Student:\n",
    "### Estatística t (t_stat): 0.480761973820412\n",
    "### Valor p (p_val): 0.6317572451539955\n",
    "\n",
    "**Interpretação:**\n",
    "O valor p obtido é 0.6317572451539955, que é maior que o nível de significância comum de 0.05. Isso significa que não há evidências estatísticas suficientes para rejeitar a hipótese nula.\n",
    "\n",
    "**Conclusão:**\n",
    "Não há evidências estatísticas suficientes para concluir que o nível de uso é significativamente diferente entre firmas TOP e Não TOP. Portanto, não rejeitamos a hipótese nula. O nível de uso é o mesmo para firmas TOP e Não TOP.\n"
   ]
  }
 ],
 "metadata": {
  "kernelspec": {
   "display_name": "myenv",
   "language": "python",
   "name": "python3"
  },
  "language_info": {
   "codemirror_mode": {
    "name": "ipython",
    "version": 3
   },
   "file_extension": ".py",
   "mimetype": "text/x-python",
   "name": "python",
   "nbconvert_exporter": "python",
   "pygments_lexer": "ipython3",
   "version": "3.12.6"
  }
 },
 "nbformat": 4,
 "nbformat_minor": 2
}
